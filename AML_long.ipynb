{
 "cells": [
  {
   "cell_type": "code",
   "execution_count": null,
   "metadata": {
    "colab": {
     "base_uri": "https://localhost:8080/"
    },
    "id": "pKyQxfVAmc0k",
    "outputId": "1fe56c92-c2ee-4376-aa22-9426291ab2c2"
   },
   "outputs": [
    {
     "name": "stdout",
     "output_type": "stream",
     "text": [
      "cuda\n",
      "t 2.1.0+cu118\n"
     ]
    }
   ],
   "source": [
    "import torch\n",
    "\n",
    "device = torch.device(\"cuda\" if torch.cuda.is_available() else \"cpu\")\n",
    "\n",
    "print(device)\n",
    "print(\"t\",torch.__version__)\n",
    "\n",
    "torch.manual_seed(42)\n",
    "if torch.cuda.is_available():\n",
    "    torch.cuda.manual_seed_all(42)"
   ]
  },
  {
   "cell_type": "code",
   "execution_count": null,
   "metadata": {
    "id": "HMrh4RtHANoG"
   },
   "outputs": [],
   "source": []
  },
  {
   "cell_type": "code",
   "execution_count": null,
   "metadata": {
    "id": "adwdwK01KgZi"
   },
   "outputs": [],
   "source": [
    "import torch\n",
    "import torch.nn as nn\n",
    "import pandas as pd\n",
    "import numpy as np\n",
    "import math\n",
    "\n",
    "# Transformer Model\n",
    "class TimeSeriesTransformer(nn.Module):\n",
    "    def __init__(self, input_dim, model_dim, num_heads, num_layers, dropout=0.1):\n",
    "        super(TimeSeriesTransformer, self).__init__()\n",
    "        self.linear = nn.Linear(input_dim, model_dim)\n",
    "        self.transformer = nn.Transformer(d_model=model_dim, nhead=num_heads,\n",
    "                                          num_encoder_layers=num_layers,\n",
    "                                          dropout=dropout)\n",
    "        self.fc = nn.Linear(model_dim, input_dim)\n",
    "\n",
    "    def forward(self, src, tgt=None):\n",
    "        src = self.linear(src)\n",
    "        if tgt is None:\n",
    "            tgt = src\n",
    "        else:\n",
    "            tgt = self.linear(tgt)\n",
    "        output = self.transformer(src, tgt)\n",
    "        return self.fc(output)"
   ]
  },
  {
   "cell_type": "code",
   "execution_count": 3,
   "metadata": {
    "colab": {
     "base_uri": "https://localhost:8080/"
    },
    "id": "OhwngMh-JthE",
    "outputId": "b356ea96-9979-4b26-cf70-ebc1ad1ec422"
   },
   "outputs": [
    {
     "metadata": {
      "tags": null
     },
     "name": "stderr",
     "output_type": "stream",
     "text": [
      "/usr/local/lib/python3.10/dist-packages/torch/nn/modules/transformer.py:282: UserWarning: enable_nested_tensor is True, but self.use_nested_tensor is False because encoder_layer.self_attn.batch_first was not True(use batch_first for better inference performance)\n",
      "  warnings.warn(f\"enable_nested_tensor is True, but self.use_nested_tensor is False because {why_not_sparsity_fast_path}\")\n"
     ]
    },
    {
     "metadata": {
      "tags": null
     },
     "name": "stdout",
     "output_type": "stream",
     "text": [
      "Station 02935, Epoch [100/500], Loss: 0.0450\n",
      "Station 02935, Epoch [200/500], Loss: 0.0230\n",
      "Station 02935, Epoch [300/500], Loss: 0.0160\n",
      "Station 02935, Epoch [400/500], Loss: 0.0218\n",
      "Station 02935, Epoch [500/500], Loss: 0.0123\n"
     ]
    },
    {
     "metadata": {
      "tags": null
     },
     "name": "stderr",
     "output_type": "stream",
     "text": [
      "/usr/local/lib/python3.10/dist-packages/torch/nn/modules/transformer.py:282: UserWarning: enable_nested_tensor is True, but self.use_nested_tensor is False because encoder_layer.self_attn.batch_first was not True(use batch_first for better inference performance)\n",
      "  warnings.warn(f\"enable_nested_tensor is True, but self.use_nested_tensor is False because {why_not_sparsity_fast_path}\")\n"
     ]
    },
    {
     "metadata": {
      "tags": null
     },
     "name": "stdout",
     "output_type": "stream",
     "text": [
      "Station 01025, Epoch [100/500], Loss: 0.0896\n",
      "Station 01025, Epoch [200/500], Loss: 0.0328\n",
      "Station 01025, Epoch [300/500], Loss: 0.0341\n",
      "Station 01025, Epoch [400/500], Loss: 0.0309\n",
      "Station 01025, Epoch [500/500], Loss: 0.0219\n"
     ]
    },
    {
     "metadata": {
      "tags": null
     },
     "name": "stderr",
     "output_type": "stream",
     "text": [
      "/usr/local/lib/python3.10/dist-packages/torch/nn/modules/transformer.py:282: UserWarning: enable_nested_tensor is True, but self.use_nested_tensor is False because encoder_layer.self_attn.batch_first was not True(use batch_first for better inference performance)\n",
      "  warnings.warn(f\"enable_nested_tensor is True, but self.use_nested_tensor is False because {why_not_sparsity_fast_path}\")\n"
     ]
    },
    {
     "metadata": {
      "tags": null
     },
     "name": "stdout",
     "output_type": "stream",
     "text": [
      "Station D4592, Epoch [100/500], Loss: 0.0588\n",
      "Station D4592, Epoch [200/500], Loss: 0.0294\n",
      "Station D4592, Epoch [300/500], Loss: 0.0217\n",
      "Station D4592, Epoch [400/500], Loss: 0.0213\n",
      "Station D4592, Epoch [500/500], Loss: 0.0133\n"
     ]
    },
    {
     "metadata": {
      "tags": null
     },
     "name": "stderr",
     "output_type": "stream",
     "text": [
      "/usr/local/lib/python3.10/dist-packages/torch/nn/modules/transformer.py:282: UserWarning: enable_nested_tensor is True, but self.use_nested_tensor is False because encoder_layer.self_attn.batch_first was not True(use batch_first for better inference performance)\n",
      "  warnings.warn(f\"enable_nested_tensor is True, but self.use_nested_tensor is False because {why_not_sparsity_fast_path}\")\n"
     ]
    },
    {
     "metadata": {
      "tags": null
     },
     "name": "stdout",
     "output_type": "stream",
     "text": [
      "Station 11035, Epoch [100/500], Loss: 0.0636\n",
      "Station 11035, Epoch [200/500], Loss: 0.0414\n",
      "Station 11035, Epoch [300/500], Loss: 0.0352\n",
      "Station 11035, Epoch [400/500], Loss: 0.0232\n",
      "Station 11035, Epoch [500/500], Loss: 0.0333\n"
     ]
    },
    {
     "metadata": {
      "tags": null
     },
     "name": "stderr",
     "output_type": "stream",
     "text": [
      "/usr/local/lib/python3.10/dist-packages/torch/nn/modules/transformer.py:282: UserWarning: enable_nested_tensor is True, but self.use_nested_tensor is False because encoder_layer.self_attn.batch_first was not True(use batch_first for better inference performance)\n",
      "  warnings.warn(f\"enable_nested_tensor is True, but self.use_nested_tensor is False because {why_not_sparsity_fast_path}\")\n"
     ]
    },
    {
     "metadata": {
      "tags": null
     },
     "name": "stdout",
     "output_type": "stream",
     "text": [
      "Station D2444, Epoch [100/500], Loss: 0.0498\n",
      "Station D2444, Epoch [200/500], Loss: 0.0225\n",
      "Station D2444, Epoch [300/500], Loss: 0.0254\n",
      "Station D2444, Epoch [400/500], Loss: 0.0094\n",
      "Station D2444, Epoch [500/500], Loss: 0.0205\n"
     ]
    },
    {
     "metadata": {
      "tags": null
     },
     "name": "stderr",
     "output_type": "stream",
     "text": [
      "/usr/local/lib/python3.10/dist-packages/torch/nn/modules/transformer.py:282: UserWarning: enable_nested_tensor is True, but self.use_nested_tensor is False because encoder_layer.self_attn.batch_first was not True(use batch_first for better inference performance)\n",
      "  warnings.warn(f\"enable_nested_tensor is True, but self.use_nested_tensor is False because {why_not_sparsity_fast_path}\")\n"
     ]
    },
    {
     "metadata": {
      "tags": null
     },
     "name": "stdout",
     "output_type": "stream",
     "text": [
      "Station D4169, Epoch [100/500], Loss: 0.0461\n",
      "Station D4169, Epoch [200/500], Loss: 0.0148\n",
      "Station D4169, Epoch [300/500], Loss: 0.0171\n",
      "Station D4169, Epoch [400/500], Loss: 0.0288\n",
      "Station D4169, Epoch [500/500], Loss: 0.0178\n"
     ]
    },
    {
     "metadata": {
      "tags": null
     },
     "name": "stderr",
     "output_type": "stream",
     "text": [
      "/usr/local/lib/python3.10/dist-packages/torch/nn/modules/transformer.py:282: UserWarning: enable_nested_tensor is True, but self.use_nested_tensor is False because encoder_layer.self_attn.batch_first was not True(use batch_first for better inference performance)\n",
      "  warnings.warn(f\"enable_nested_tensor is True, but self.use_nested_tensor is False because {why_not_sparsity_fast_path}\")\n"
     ]
    },
    {
     "metadata": {
      "tags": null
     },
     "name": "stdout",
     "output_type": "stream",
     "text": [
      "Station 10513, Epoch [100/500], Loss: 0.0316\n",
      "Station 10513, Epoch [200/500], Loss: 0.0312\n",
      "Station 10513, Epoch [300/500], Loss: 0.0170\n",
      "Station 10513, Epoch [400/500], Loss: 0.0136\n",
      "Station 10513, Epoch [500/500], Loss: 0.0198\n"
     ]
    },
    {
     "metadata": {
      "tags": null
     },
     "name": "stderr",
     "output_type": "stream",
     "text": [
      "/usr/local/lib/python3.10/dist-packages/torch/nn/modules/transformer.py:282: UserWarning: enable_nested_tensor is True, but self.use_nested_tensor is False because encoder_layer.self_attn.batch_first was not True(use batch_first for better inference performance)\n",
      "  warnings.warn(f\"enable_nested_tensor is True, but self.use_nested_tensor is False because {why_not_sparsity_fast_path}\")\n"
     ]
    },
    {
     "metadata": {
      "tags": null
     },
     "name": "stdout",
     "output_type": "stream",
     "text": [
      "Station 10261, Epoch [100/500], Loss: 0.0570\n",
      "Station 10261, Epoch [200/500], Loss: 0.0199\n",
      "Station 10261, Epoch [300/500], Loss: 0.0297\n",
      "Station 10261, Epoch [400/500], Loss: 0.0143\n",
      "Station 10261, Epoch [500/500], Loss: 0.0270\n"
     ]
    },
    {
     "metadata": {
      "tags": null
     },
     "name": "stderr",
     "output_type": "stream",
     "text": [
      "/usr/local/lib/python3.10/dist-packages/torch/nn/modules/transformer.py:282: UserWarning: enable_nested_tensor is True, but self.use_nested_tensor is False because encoder_layer.self_attn.batch_first was not True(use batch_first for better inference performance)\n",
      "  warnings.warn(f\"enable_nested_tensor is True, but self.use_nested_tensor is False because {why_not_sparsity_fast_path}\")\n"
     ]
    },
    {
     "metadata": {
      "tags": null
     },
     "name": "stdout",
     "output_type": "stream",
     "text": [
      "Station 72745, Epoch [100/500], Loss: 0.0746\n",
      "Station 72745, Epoch [200/500], Loss: 0.0548\n",
      "Station 72745, Epoch [300/500], Loss: 0.0381\n",
      "Station 72745, Epoch [400/500], Loss: 0.0315\n",
      "Station 72745, Epoch [500/500], Loss: 0.0168\n"
     ]
    },
    {
     "metadata": {
      "tags": null
     },
     "name": "stderr",
     "output_type": "stream",
     "text": [
      "/usr/local/lib/python3.10/dist-packages/torch/nn/modules/transformer.py:282: UserWarning: enable_nested_tensor is True, but self.use_nested_tensor is False because encoder_layer.self_attn.batch_first was not True(use batch_first for better inference performance)\n",
      "  warnings.warn(f\"enable_nested_tensor is True, but self.use_nested_tensor is False because {why_not_sparsity_fast_path}\")\n"
     ]
    },
    {
     "metadata": {
      "tags": null
     },
     "name": "stdout",
     "output_type": "stream",
     "text": [
      "Station D5664, Epoch [100/500], Loss: 0.0418\n",
      "Station D5664, Epoch [200/500], Loss: 0.0442\n",
      "Station D5664, Epoch [300/500], Loss: 0.0214\n",
      "Station D5664, Epoch [400/500], Loss: 0.0197\n",
      "Station D5664, Epoch [500/500], Loss: 0.0222\n"
     ]
    },
    {
     "metadata": {
      "tags": null
     },
     "name": "stderr",
     "output_type": "stream",
     "text": [
      "/usr/local/lib/python3.10/dist-packages/torch/nn/modules/transformer.py:282: UserWarning: enable_nested_tensor is True, but self.use_nested_tensor is False because encoder_layer.self_attn.batch_first was not True(use batch_first for better inference performance)\n",
      "  warnings.warn(f\"enable_nested_tensor is True, but self.use_nested_tensor is False because {why_not_sparsity_fast_path}\")\n"
     ]
    },
    {
     "metadata": {
      "tags": null
     },
     "name": "stdout",
     "output_type": "stream",
     "text": [
      "Station 72546, Epoch [100/500], Loss: 0.0498\n",
      "Station 72546, Epoch [200/500], Loss: 0.0256\n",
      "Station 72546, Epoch [300/500], Loss: 0.0606\n",
      "Station 72546, Epoch [400/500], Loss: 0.0338\n",
      "Station 72546, Epoch [500/500], Loss: 0.0275\n"
     ]
    },
    {
     "metadata": {
      "tags": null
     },
     "name": "stderr",
     "output_type": "stream",
     "text": [
      "/usr/local/lib/python3.10/dist-packages/torch/nn/modules/transformer.py:282: UserWarning: enable_nested_tensor is True, but self.use_nested_tensor is False because encoder_layer.self_attn.batch_first was not True(use batch_first for better inference performance)\n",
      "  warnings.warn(f\"enable_nested_tensor is True, but self.use_nested_tensor is False because {why_not_sparsity_fast_path}\")\n"
     ]
    },
    {
     "metadata": {
      "tags": null
     },
     "name": "stdout",
     "output_type": "stream",
     "text": [
      "Station 10499, Epoch [100/500], Loss: 0.0674\n",
      "Station 10499, Epoch [200/500], Loss: 0.0280\n",
      "Station 10499, Epoch [300/500], Loss: 0.0249\n",
      "Station 10499, Epoch [400/500], Loss: 0.0377\n",
      "Station 10499, Epoch [500/500], Loss: 0.0473\n"
     ]
    },
    {
     "metadata": {
      "tags": null
     },
     "name": "stderr",
     "output_type": "stream",
     "text": [
      "/usr/local/lib/python3.10/dist-packages/torch/nn/modules/transformer.py:282: UserWarning: enable_nested_tensor is True, but self.use_nested_tensor is False because encoder_layer.self_attn.batch_first was not True(use batch_first for better inference performance)\n",
      "  warnings.warn(f\"enable_nested_tensor is True, but self.use_nested_tensor is False because {why_not_sparsity_fast_path}\")\n"
     ]
    },
    {
     "metadata": {
      "tags": null
     },
     "name": "stdout",
     "output_type": "stream",
     "text": [
      "Station 10738, Epoch [100/500], Loss: 0.0564\n",
      "Station 10738, Epoch [200/500], Loss: 0.0352\n",
      "Station 10738, Epoch [300/500], Loss: 0.0211\n",
      "Station 10738, Epoch [400/500], Loss: 0.0140\n",
      "Station 10738, Epoch [500/500], Loss: 0.0152\n"
     ]
    },
    {
     "metadata": {
      "tags": null
     },
     "name": "stderr",
     "output_type": "stream",
     "text": [
      "/usr/local/lib/python3.10/dist-packages/torch/nn/modules/transformer.py:282: UserWarning: enable_nested_tensor is True, but self.use_nested_tensor is False because encoder_layer.self_attn.batch_first was not True(use batch_first for better inference performance)\n",
      "  warnings.warn(f\"enable_nested_tensor is True, but self.use_nested_tensor is False because {why_not_sparsity_fast_path}\")\n"
     ]
    },
    {
     "metadata": {
      "tags": null
     },
     "name": "stdout",
     "output_type": "stream",
     "text": [
      "Station 03026, Epoch [100/500], Loss: 0.0365\n",
      "Station 03026, Epoch [200/500], Loss: 0.0518\n",
      "Station 03026, Epoch [300/500], Loss: 0.0232\n",
      "Station 03026, Epoch [400/500], Loss: 0.0146\n",
      "Station 03026, Epoch [500/500], Loss: 0.0249\n"
     ]
    },
    {
     "metadata": {
      "tags": null
     },
     "name": "stderr",
     "output_type": "stream",
     "text": [
      "/usr/local/lib/python3.10/dist-packages/torch/nn/modules/transformer.py:282: UserWarning: enable_nested_tensor is True, but self.use_nested_tensor is False because encoder_layer.self_attn.batch_first was not True(use batch_first for better inference performance)\n",
      "  warnings.warn(f\"enable_nested_tensor is True, but self.use_nested_tensor is False because {why_not_sparsity_fast_path}\")\n"
     ]
    },
    {
     "metadata": {
      "tags": null
     },
     "name": "stdout",
     "output_type": "stream",
     "text": [
      "Station D0320, Epoch [100/500], Loss: 0.0242\n",
      "Station D0320, Epoch [200/500], Loss: 0.0493\n",
      "Station D0320, Epoch [300/500], Loss: 0.0167\n",
      "Station D0320, Epoch [400/500], Loss: 0.0274\n",
      "Station D0320, Epoch [500/500], Loss: 0.0227\n"
     ]
    },
    {
     "metadata": {
      "tags": null
     },
     "name": "stderr",
     "output_type": "stream",
     "text": [
      "/usr/local/lib/python3.10/dist-packages/torch/nn/modules/transformer.py:282: UserWarning: enable_nested_tensor is True, but self.use_nested_tensor is False because encoder_layer.self_attn.batch_first was not True(use batch_first for better inference performance)\n",
      "  warnings.warn(f\"enable_nested_tensor is True, but self.use_nested_tensor is False because {why_not_sparsity_fast_path}\")\n"
     ]
    },
    {
     "metadata": {
      "tags": null
     },
     "name": "stdout",
     "output_type": "stream",
     "text": [
      "Station 10338, Epoch [100/500], Loss: 0.0382\n",
      "Station 10338, Epoch [200/500], Loss: 0.0303\n",
      "Station 10338, Epoch [300/500], Loss: 0.0155\n",
      "Station 10338, Epoch [400/500], Loss: 0.0316\n",
      "Station 10338, Epoch [500/500], Loss: 0.0142\n"
     ]
    },
    {
     "metadata": {
      "tags": null
     },
     "name": "stderr",
     "output_type": "stream",
     "text": [
      "/usr/local/lib/python3.10/dist-packages/torch/nn/modules/transformer.py:282: UserWarning: enable_nested_tensor is True, but self.use_nested_tensor is False because encoder_layer.self_attn.batch_first was not True(use batch_first for better inference performance)\n",
      "  warnings.warn(f\"enable_nested_tensor is True, but self.use_nested_tensor is False because {why_not_sparsity_fast_path}\")\n"
     ]
    },
    {
     "metadata": {
      "tags": null
     },
     "name": "stdout",
     "output_type": "stream",
     "text": [
      "Station 10113, Epoch [100/500], Loss: 0.0251\n",
      "Station 10113, Epoch [200/500], Loss: 0.0273\n",
      "Station 10113, Epoch [300/500], Loss: 0.0283\n",
      "Station 10113, Epoch [400/500], Loss: 0.0163\n",
      "Station 10113, Epoch [500/500], Loss: 0.0336\n"
     ]
    },
    {
     "metadata": {
      "tags": null
     },
     "name": "stderr",
     "output_type": "stream",
     "text": [
      "/usr/local/lib/python3.10/dist-packages/torch/nn/modules/transformer.py:282: UserWarning: enable_nested_tensor is True, but self.use_nested_tensor is False because encoder_layer.self_attn.batch_first was not True(use batch_first for better inference performance)\n",
      "  warnings.warn(f\"enable_nested_tensor is True, but self.use_nested_tensor is False because {why_not_sparsity_fast_path}\")\n"
     ]
    },
    {
     "metadata": {
      "tags": null
     },
     "name": "stdout",
     "output_type": "stream",
     "text": [
      "Station 10675, Epoch [100/500], Loss: 0.0344\n",
      "Station 10675, Epoch [200/500], Loss: 0.0178\n",
      "Station 10675, Epoch [300/500], Loss: 0.0355\n",
      "Station 10675, Epoch [400/500], Loss: 0.0111\n",
      "Station 10675, Epoch [500/500], Loss: 0.0150\n"
     ]
    },
    {
     "metadata": {
      "tags": null
     },
     "name": "stderr",
     "output_type": "stream",
     "text": [
      "/usr/local/lib/python3.10/dist-packages/torch/nn/modules/transformer.py:282: UserWarning: enable_nested_tensor is True, but self.use_nested_tensor is False because encoder_layer.self_attn.batch_first was not True(use batch_first for better inference performance)\n",
      "  warnings.warn(f\"enable_nested_tensor is True, but self.use_nested_tensor is False because {why_not_sparsity_fast_path}\")\n"
     ]
    },
    {
     "metadata": {
      "tags": null
     },
     "name": "stdout",
     "output_type": "stream",
     "text": [
      "Station 10852, Epoch [100/500], Loss: 0.0365\n",
      "Station 10852, Epoch [200/500], Loss: 0.0230\n",
      "Station 10852, Epoch [300/500], Loss: 0.0281\n",
      "Station 10852, Epoch [400/500], Loss: 0.0280\n",
      "Station 10852, Epoch [500/500], Loss: 0.0126\n"
     ]
    },
    {
     "metadata": {
      "tags": null
     },
     "name": "stderr",
     "output_type": "stream",
     "text": [
      "/usr/local/lib/python3.10/dist-packages/torch/nn/modules/transformer.py:282: UserWarning: enable_nested_tensor is True, but self.use_nested_tensor is False because encoder_layer.self_attn.batch_first was not True(use batch_first for better inference performance)\n",
      "  warnings.warn(f\"enable_nested_tensor is True, but self.use_nested_tensor is False because {why_not_sparsity_fast_path}\")\n"
     ]
    },
    {
     "metadata": {
      "tags": null
     },
     "name": "stdout",
     "output_type": "stream",
     "text": [
      "Station 10488, Epoch [100/500], Loss: 0.0292\n",
      "Station 10488, Epoch [200/500], Loss: 0.0370\n",
      "Station 10488, Epoch [300/500], Loss: 0.0145\n",
      "Station 10488, Epoch [400/500], Loss: 0.0148\n",
      "Station 10488, Epoch [500/500], Loss: 0.0245\n"
     ]
    },
    {
     "metadata": {
      "tags": null
     },
     "name": "stderr",
     "output_type": "stream",
     "text": [
      "/usr/local/lib/python3.10/dist-packages/torch/nn/modules/transformer.py:282: UserWarning: enable_nested_tensor is True, but self.use_nested_tensor is False because encoder_layer.self_attn.batch_first was not True(use batch_first for better inference performance)\n",
      "  warnings.warn(f\"enable_nested_tensor is True, but self.use_nested_tensor is False because {why_not_sparsity_fast_path}\")\n"
     ]
    },
    {
     "metadata": {
      "tags": null
     },
     "name": "stdout",
     "output_type": "stream",
     "text": [
      "Station 91182, Epoch [100/500], Loss: 0.0526\n",
      "Station 91182, Epoch [200/500], Loss: 0.0565\n",
      "Station 91182, Epoch [300/500], Loss: 0.0409\n",
      "Station 91182, Epoch [400/500], Loss: 0.0173\n",
      "Station 91182, Epoch [500/500], Loss: 0.0187\n"
     ]
    },
    {
     "metadata": {
      "tags": null
     },
     "name": "stderr",
     "output_type": "stream",
     "text": [
      "/usr/local/lib/python3.10/dist-packages/torch/nn/modules/transformer.py:282: UserWarning: enable_nested_tensor is True, but self.use_nested_tensor is False because encoder_layer.self_attn.batch_first was not True(use batch_first for better inference performance)\n",
      "  warnings.warn(f\"enable_nested_tensor is True, but self.use_nested_tensor is False because {why_not_sparsity_fast_path}\")\n"
     ]
    },
    {
     "metadata": {
      "tags": null
     },
     "name": "stdout",
     "output_type": "stream",
     "text": [
      "Station 72219, Epoch [100/500], Loss: 0.0981\n",
      "Station 72219, Epoch [200/500], Loss: 0.0236\n",
      "Station 72219, Epoch [300/500], Loss: 0.0355\n",
      "Station 72219, Epoch [400/500], Loss: 0.0490\n",
      "Station 72219, Epoch [500/500], Loss: 0.0413\n"
     ]
    },
    {
     "metadata": {
      "tags": null
     },
     "name": "stderr",
     "output_type": "stream",
     "text": [
      "/usr/local/lib/python3.10/dist-packages/torch/nn/modules/transformer.py:282: UserWarning: enable_nested_tensor is True, but self.use_nested_tensor is False because encoder_layer.self_attn.batch_first was not True(use batch_first for better inference performance)\n",
      "  warnings.warn(f\"enable_nested_tensor is True, but self.use_nested_tensor is False because {why_not_sparsity_fast_path}\")\n"
     ]
    },
    {
     "metadata": {
      "tags": null
     },
     "name": "stdout",
     "output_type": "stream",
     "text": [
      "Station 72386, Epoch [100/500], Loss: 0.0563\n",
      "Station 72386, Epoch [200/500], Loss: 0.0773\n",
      "Station 72386, Epoch [300/500], Loss: 0.0283\n",
      "Station 72386, Epoch [400/500], Loss: 0.0138\n",
      "Station 72386, Epoch [500/500], Loss: 0.0113\n"
     ]
    },
    {
     "metadata": {
      "tags": null
     },
     "name": "stderr",
     "output_type": "stream",
     "text": [
      "/usr/local/lib/python3.10/dist-packages/torch/nn/modules/transformer.py:282: UserWarning: enable_nested_tensor is True, but self.use_nested_tensor is False because encoder_layer.self_attn.batch_first was not True(use batch_first for better inference performance)\n",
      "  warnings.warn(f\"enable_nested_tensor is True, but self.use_nested_tensor is False because {why_not_sparsity_fast_path}\")\n"
     ]
    },
    {
     "metadata": {
      "tags": null
     },
     "name": "stdout",
     "output_type": "stream",
     "text": [
      "Station 10729, Epoch [100/500], Loss: 0.0405\n",
      "Station 10729, Epoch [200/500], Loss: 0.0207\n",
      "Station 10729, Epoch [300/500], Loss: 0.0195\n",
      "Station 10729, Epoch [400/500], Loss: 0.0188\n",
      "Station 10729, Epoch [500/500], Loss: 0.0140\n"
     ]
    },
    {
     "metadata": {
      "tags": null
     },
     "name": "stderr",
     "output_type": "stream",
     "text": [
      "/usr/local/lib/python3.10/dist-packages/torch/nn/modules/transformer.py:282: UserWarning: enable_nested_tensor is True, but self.use_nested_tensor is False because encoder_layer.self_attn.batch_first was not True(use batch_first for better inference performance)\n",
      "  warnings.warn(f\"enable_nested_tensor is True, but self.use_nested_tensor is False because {why_not_sparsity_fast_path}\")\n"
     ]
    },
    {
     "metadata": {
      "tags": null
     },
     "name": "stdout",
     "output_type": "stream",
     "text": [
      "Station D3402, Epoch [100/500], Loss: 0.0427\n",
      "Station D3402, Epoch [200/500], Loss: 0.0231\n",
      "Station D3402, Epoch [300/500], Loss: 0.0357\n",
      "Station D3402, Epoch [400/500], Loss: 0.0147\n",
      "Station D3402, Epoch [500/500], Loss: 0.0182\n"
     ]
    },
    {
     "metadata": {
      "tags": null
     },
     "name": "stderr",
     "output_type": "stream",
     "text": [
      "/usr/local/lib/python3.10/dist-packages/torch/nn/modules/transformer.py:282: UserWarning: enable_nested_tensor is True, but self.use_nested_tensor is False because encoder_layer.self_attn.batch_first was not True(use batch_first for better inference performance)\n",
      "  warnings.warn(f\"enable_nested_tensor is True, but self.use_nested_tensor is False because {why_not_sparsity_fast_path}\")\n"
     ]
    },
    {
     "metadata": {
      "tags": null
     },
     "name": "stdout",
     "output_type": "stream",
     "text": [
      "Station 10688, Epoch [100/500], Loss: 0.0551\n",
      "Station 10688, Epoch [200/500], Loss: 0.0402\n",
      "Station 10688, Epoch [300/500], Loss: 0.0176\n",
      "Station 10688, Epoch [400/500], Loss: 0.0181\n",
      "Station 10688, Epoch [500/500], Loss: 0.0153\n"
     ]
    },
    {
     "metadata": {
      "tags": null
     },
     "name": "stderr",
     "output_type": "stream",
     "text": [
      "/usr/local/lib/python3.10/dist-packages/torch/nn/modules/transformer.py:282: UserWarning: enable_nested_tensor is True, but self.use_nested_tensor is False because encoder_layer.self_attn.batch_first was not True(use batch_first for better inference performance)\n",
      "  warnings.warn(f\"enable_nested_tensor is True, but self.use_nested_tensor is False because {why_not_sparsity_fast_path}\")\n"
     ]
    },
    {
     "metadata": {
      "tags": null
     },
     "name": "stdout",
     "output_type": "stream",
     "text": [
      "Station 72597, Epoch [100/500], Loss: 0.0285\n",
      "Station 72597, Epoch [200/500], Loss: 0.0347\n",
      "Station 72597, Epoch [300/500], Loss: 0.0156\n",
      "Station 72597, Epoch [400/500], Loss: 0.0194\n",
      "Station 72597, Epoch [500/500], Loss: 0.0121\n"
     ]
    },
    {
     "metadata": {
      "tags": null
     },
     "name": "stderr",
     "output_type": "stream",
     "text": [
      "/usr/local/lib/python3.10/dist-packages/torch/nn/modules/transformer.py:282: UserWarning: enable_nested_tensor is True, but self.use_nested_tensor is False because encoder_layer.self_attn.batch_first was not True(use batch_first for better inference performance)\n",
      "  warnings.warn(f\"enable_nested_tensor is True, but self.use_nested_tensor is False because {why_not_sparsity_fast_path}\")\n"
     ]
    },
    {
     "metadata": {
      "tags": null
     },
     "name": "stdout",
     "output_type": "stream",
     "text": [
      "Station 72434, Epoch [100/500], Loss: 0.0258\n",
      "Station 72434, Epoch [200/500], Loss: 0.0863\n",
      "Station 72434, Epoch [300/500], Loss: 0.0210\n",
      "Station 72434, Epoch [400/500], Loss: 0.0388\n",
      "Station 72434, Epoch [500/500], Loss: 0.0196\n"
     ]
    },
    {
     "metadata": {
      "tags": null
     },
     "name": "stderr",
     "output_type": "stream",
     "text": [
      "/usr/local/lib/python3.10/dist-packages/torch/nn/modules/transformer.py:282: UserWarning: enable_nested_tensor is True, but self.use_nested_tensor is False because encoder_layer.self_attn.batch_first was not True(use batch_first for better inference performance)\n",
      "  warnings.warn(f\"enable_nested_tensor is True, but self.use_nested_tensor is False because {why_not_sparsity_fast_path}\")\n"
     ]
    },
    {
     "metadata": {
      "tags": null
     },
     "name": "stdout",
     "output_type": "stream",
     "text": [
      "Station D2750, Epoch [100/500], Loss: 0.0292\n",
      "Station D2750, Epoch [200/500], Loss: 0.0287\n",
      "Station D2750, Epoch [300/500], Loss: 0.0236\n",
      "Station D2750, Epoch [400/500], Loss: 0.0199\n",
      "Station D2750, Epoch [500/500], Loss: 0.0131\n"
     ]
    },
    {
     "metadata": {
      "tags": null
     },
     "name": "stderr",
     "output_type": "stream",
     "text": [
      "/usr/local/lib/python3.10/dist-packages/torch/nn/modules/transformer.py:282: UserWarning: enable_nested_tensor is True, but self.use_nested_tensor is False because encoder_layer.self_attn.batch_first was not True(use batch_first for better inference performance)\n",
      "  warnings.warn(f\"enable_nested_tensor is True, but self.use_nested_tensor is False because {why_not_sparsity_fast_path}\")\n"
     ]
    },
    {
     "metadata": {
      "tags": null
     },
     "name": "stdout",
     "output_type": "stream",
     "text": [
      "Station D4651, Epoch [100/500], Loss: 0.0293\n",
      "Station D4651, Epoch [200/500], Loss: 0.0208\n",
      "Station D4651, Epoch [300/500], Loss: 0.0357\n",
      "Station D4651, Epoch [400/500], Loss: 0.0152\n",
      "Station D4651, Epoch [500/500], Loss: 0.0275\n"
     ]
    },
    {
     "metadata": {
      "tags": null
     },
     "name": "stderr",
     "output_type": "stream",
     "text": [
      "/usr/local/lib/python3.10/dist-packages/torch/nn/modules/transformer.py:282: UserWarning: enable_nested_tensor is True, but self.use_nested_tensor is False because encoder_layer.self_attn.batch_first was not True(use batch_first for better inference performance)\n",
      "  warnings.warn(f\"enable_nested_tensor is True, but self.use_nested_tensor is False because {why_not_sparsity_fast_path}\")\n"
     ]
    },
    {
     "metadata": {
      "tags": null
     },
     "name": "stdout",
     "output_type": "stream",
     "text": [
      "Station D5229, Epoch [100/500], Loss: 0.0393\n",
      "Station D5229, Epoch [200/500], Loss: 0.0262\n",
      "Station D5229, Epoch [300/500], Loss: 0.0389\n",
      "Station D5229, Epoch [400/500], Loss: 0.0241\n",
      "Station D5229, Epoch [500/500], Loss: 0.0223\n"
     ]
    },
    {
     "metadata": {
      "tags": null
     },
     "name": "stderr",
     "output_type": "stream",
     "text": [
      "/usr/local/lib/python3.10/dist-packages/torch/nn/modules/transformer.py:282: UserWarning: enable_nested_tensor is True, but self.use_nested_tensor is False because encoder_layer.self_attn.batch_first was not True(use batch_first for better inference performance)\n",
      "  warnings.warn(f\"enable_nested_tensor is True, but self.use_nested_tensor is False because {why_not_sparsity_fast_path}\")\n"
     ]
    },
    {
     "metadata": {
      "tags": null
     },
     "name": "stdout",
     "output_type": "stream",
     "text": [
      "Station 08314, Epoch [100/500], Loss: 0.0684\n",
      "Station 08314, Epoch [200/500], Loss: 0.0397\n",
      "Station 08314, Epoch [300/500], Loss: 0.0141\n",
      "Station 08314, Epoch [400/500], Loss: 0.0278\n",
      "Station 08314, Epoch [500/500], Loss: 0.0085\n"
     ]
    },
    {
     "metadata": {
      "tags": null
     },
     "name": "stderr",
     "output_type": "stream",
     "text": [
      "/usr/local/lib/python3.10/dist-packages/torch/nn/modules/transformer.py:282: UserWarning: enable_nested_tensor is True, but self.use_nested_tensor is False because encoder_layer.self_attn.batch_first was not True(use batch_first for better inference performance)\n",
      "  warnings.warn(f\"enable_nested_tensor is True, but self.use_nested_tensor is False because {why_not_sparsity_fast_path}\")\n"
     ]
    },
    {
     "metadata": {
      "tags": null
     },
     "name": "stdout",
     "output_type": "stream",
     "text": [
      "Station 10567, Epoch [100/500], Loss: 0.0462\n",
      "Station 10567, Epoch [200/500], Loss: 0.0164\n",
      "Station 10567, Epoch [300/500], Loss: 0.0229\n",
      "Station 10567, Epoch [400/500], Loss: 0.0277\n",
      "Station 10567, Epoch [500/500], Loss: 0.0127\n"
     ]
    },
    {
     "metadata": {
      "tags": null
     },
     "name": "stderr",
     "output_type": "stream",
     "text": [
      "/usr/local/lib/python3.10/dist-packages/torch/nn/modules/transformer.py:282: UserWarning: enable_nested_tensor is True, but self.use_nested_tensor is False because encoder_layer.self_attn.batch_first was not True(use batch_first for better inference performance)\n",
      "  warnings.warn(f\"enable_nested_tensor is True, but self.use_nested_tensor is False because {why_not_sparsity_fast_path}\")\n"
     ]
    },
    {
     "metadata": {
      "tags": null
     },
     "name": "stdout",
     "output_type": "stream",
     "text": [
      "Station 06700, Epoch [100/500], Loss: 0.0765\n",
      "Station 06700, Epoch [200/500], Loss: 0.0256\n",
      "Station 06700, Epoch [300/500], Loss: 0.0188\n",
      "Station 06700, Epoch [400/500], Loss: 0.0225\n",
      "Station 06700, Epoch [500/500], Loss: 0.0147\n"
     ]
    },
    {
     "metadata": {
      "tags": null
     },
     "name": "stderr",
     "output_type": "stream",
     "text": [
      "/usr/local/lib/python3.10/dist-packages/torch/nn/modules/transformer.py:282: UserWarning: enable_nested_tensor is True, but self.use_nested_tensor is False because encoder_layer.self_attn.batch_first was not True(use batch_first for better inference performance)\n",
      "  warnings.warn(f\"enable_nested_tensor is True, but self.use_nested_tensor is False because {why_not_sparsity_fast_path}\")\n"
     ]
    },
    {
     "metadata": {
      "tags": null
     },
     "name": "stdout",
     "output_type": "stream",
     "text": [
      "Station 10162, Epoch [100/500], Loss: 0.0360\n",
      "Station 10162, Epoch [200/500], Loss: 0.0251\n",
      "Station 10162, Epoch [300/500], Loss: 0.0333\n",
      "Station 10162, Epoch [400/500], Loss: 0.0181\n",
      "Station 10162, Epoch [500/500], Loss: 0.0146\n"
     ]
    },
    {
     "metadata": {
      "tags": null
     },
     "name": "stderr",
     "output_type": "stream",
     "text": [
      "/usr/local/lib/python3.10/dist-packages/torch/nn/modules/transformer.py:282: UserWarning: enable_nested_tensor is True, but self.use_nested_tensor is False because encoder_layer.self_attn.batch_first was not True(use batch_first for better inference performance)\n",
      "  warnings.warn(f\"enable_nested_tensor is True, but self.use_nested_tensor is False because {why_not_sparsity_fast_path}\")\n"
     ]
    },
    {
     "metadata": {
      "tags": null
     },
     "name": "stdout",
     "output_type": "stream",
     "text": [
      "Station 11240, Epoch [100/500], Loss: 0.0478\n",
      "Station 11240, Epoch [200/500], Loss: 0.0389\n",
      "Station 11240, Epoch [300/500], Loss: 0.0267\n",
      "Station 11240, Epoch [400/500], Loss: 0.0341\n",
      "Station 11240, Epoch [500/500], Loss: 0.0213\n"
     ]
    },
    {
     "metadata": {
      "tags": null
     },
     "name": "stderr",
     "output_type": "stream",
     "text": [
      "/usr/local/lib/python3.10/dist-packages/torch/nn/modules/transformer.py:282: UserWarning: enable_nested_tensor is True, but self.use_nested_tensor is False because encoder_layer.self_attn.batch_first was not True(use batch_first for better inference performance)\n",
      "  warnings.warn(f\"enable_nested_tensor is True, but self.use_nested_tensor is False because {why_not_sparsity_fast_path}\")\n"
     ]
    },
    {
     "metadata": {
      "tags": null
     },
     "name": "stdout",
     "output_type": "stream",
     "text": [
      "Station 10348, Epoch [100/500], Loss: 0.0437\n",
      "Station 10348, Epoch [200/500], Loss: 0.0299\n",
      "Station 10348, Epoch [300/500], Loss: 0.0110\n",
      "Station 10348, Epoch [400/500], Loss: 0.0097\n",
      "Station 10348, Epoch [500/500], Loss: 0.0119\n"
     ]
    },
    {
     "metadata": {
      "tags": null
     },
     "name": "stderr",
     "output_type": "stream",
     "text": [
      "/usr/local/lib/python3.10/dist-packages/torch/nn/modules/transformer.py:282: UserWarning: enable_nested_tensor is True, but self.use_nested_tensor is False because encoder_layer.self_attn.batch_first was not True(use batch_first for better inference performance)\n",
      "  warnings.warn(f\"enable_nested_tensor is True, but self.use_nested_tensor is False because {why_not_sparsity_fast_path}\")\n"
     ]
    },
    {
     "metadata": {
      "tags": null
     },
     "name": "stdout",
     "output_type": "stream",
     "text": [
      "Station D3739, Epoch [100/500], Loss: 0.1543\n",
      "Station D3739, Epoch [200/500], Loss: 0.0208\n",
      "Station D3739, Epoch [300/500], Loss: 0.0232\n",
      "Station D3739, Epoch [400/500], Loss: 0.0355\n",
      "Station D3739, Epoch [500/500], Loss: 0.0141\n"
     ]
    },
    {
     "metadata": {
      "tags": null
     },
     "name": "stderr",
     "output_type": "stream",
     "text": [
      "/usr/local/lib/python3.10/dist-packages/torch/nn/modules/transformer.py:282: UserWarning: enable_nested_tensor is True, but self.use_nested_tensor is False because encoder_layer.self_attn.batch_first was not True(use batch_first for better inference performance)\n",
      "  warnings.warn(f\"enable_nested_tensor is True, but self.use_nested_tensor is False because {why_not_sparsity_fast_path}\")\n"
     ]
    },
    {
     "metadata": {
      "tags": null
     },
     "name": "stdout",
     "output_type": "stream",
     "text": [
      "Station 06660, Epoch [100/500], Loss: 0.0611\n",
      "Station 06660, Epoch [200/500], Loss: 0.0276\n",
      "Station 06660, Epoch [300/500], Loss: 0.0348\n",
      "Station 06660, Epoch [400/500], Loss: 0.0236\n",
      "Station 06660, Epoch [500/500], Loss: 0.0351\n"
     ]
    },
    {
     "metadata": {
      "tags": null
     },
     "name": "stderr",
     "output_type": "stream",
     "text": [
      "/usr/local/lib/python3.10/dist-packages/torch/nn/modules/transformer.py:282: UserWarning: enable_nested_tensor is True, but self.use_nested_tensor is False because encoder_layer.self_attn.batch_first was not True(use batch_first for better inference performance)\n",
      "  warnings.warn(f\"enable_nested_tensor is True, but self.use_nested_tensor is False because {why_not_sparsity_fast_path}\")\n"
     ]
    },
    {
     "metadata": {
      "tags": null
     },
     "name": "stdout",
     "output_type": "stream",
     "text": [
      "Station D1266, Epoch [100/500], Loss: 0.0425\n",
      "Station D1266, Epoch [200/500], Loss: 0.0250\n",
      "Station D1266, Epoch [300/500], Loss: 0.0183\n",
      "Station D1266, Epoch [400/500], Loss: 0.0117\n",
      "Station D1266, Epoch [500/500], Loss: 0.0188\n"
     ]
    },
    {
     "metadata": {
      "tags": null
     },
     "name": "stderr",
     "output_type": "stream",
     "text": [
      "/usr/local/lib/python3.10/dist-packages/torch/nn/modules/transformer.py:282: UserWarning: enable_nested_tensor is True, but self.use_nested_tensor is False because encoder_layer.self_attn.batch_first was not True(use batch_first for better inference performance)\n",
      "  warnings.warn(f\"enable_nested_tensor is True, but self.use_nested_tensor is False because {why_not_sparsity_fast_path}\")\n"
     ]
    },
    {
     "metadata": {
      "tags": null
     },
     "name": "stdout",
     "output_type": "stream",
     "text": [
      "Station 10028, Epoch [100/500], Loss: 0.0327\n",
      "Station 10028, Epoch [200/500], Loss: 0.0267\n",
      "Station 10028, Epoch [300/500], Loss: 0.0225\n",
      "Station 10028, Epoch [400/500], Loss: 0.0233\n",
      "Station 10028, Epoch [500/500], Loss: 0.0086\n"
     ]
    },
    {
     "metadata": {
      "tags": null
     },
     "name": "stderr",
     "output_type": "stream",
     "text": [
      "/usr/local/lib/python3.10/dist-packages/torch/nn/modules/transformer.py:282: UserWarning: enable_nested_tensor is True, but self.use_nested_tensor is False because encoder_layer.self_attn.batch_first was not True(use batch_first for better inference performance)\n",
      "  warnings.warn(f\"enable_nested_tensor is True, but self.use_nested_tensor is False because {why_not_sparsity_fast_path}\")\n"
     ]
    },
    {
     "metadata": {
      "tags": null
     },
     "name": "stdout",
     "output_type": "stream",
     "text": [
      "Station 72450, Epoch [100/500], Loss: 0.0538\n",
      "Station 72450, Epoch [200/500], Loss: 0.0307\n",
      "Station 72450, Epoch [300/500], Loss: 0.0293\n",
      "Station 72450, Epoch [400/500], Loss: 0.0277\n",
      "Station 72450, Epoch [500/500], Loss: 0.0337\n"
     ]
    },
    {
     "metadata": {
      "tags": null
     },
     "name": "stderr",
     "output_type": "stream",
     "text": [
      "/usr/local/lib/python3.10/dist-packages/torch/nn/modules/transformer.py:282: UserWarning: enable_nested_tensor is True, but self.use_nested_tensor is False because encoder_layer.self_attn.batch_first was not True(use batch_first for better inference performance)\n",
      "  warnings.warn(f\"enable_nested_tensor is True, but self.use_nested_tensor is False because {why_not_sparsity_fast_path}\")\n"
     ]
    },
    {
     "metadata": {
      "tags": null
     },
     "name": "stdout",
     "output_type": "stream",
     "text": [
      "Station 11120, Epoch [100/500], Loss: 0.0828\n",
      "Station 11120, Epoch [200/500], Loss: 0.0481\n",
      "Station 11120, Epoch [300/500], Loss: 0.0273\n",
      "Station 11120, Epoch [400/500], Loss: 0.0173\n",
      "Station 11120, Epoch [500/500], Loss: 0.0230\n"
     ]
    },
    {
     "metadata": {
      "tags": null
     },
     "name": "stderr",
     "output_type": "stream",
     "text": [
      "/usr/local/lib/python3.10/dist-packages/torch/nn/modules/transformer.py:282: UserWarning: enable_nested_tensor is True, but self.use_nested_tensor is False because encoder_layer.self_attn.batch_first was not True(use batch_first for better inference performance)\n",
      "  warnings.warn(f\"enable_nested_tensor is True, but self.use_nested_tensor is False because {why_not_sparsity_fast_path}\")\n"
     ]
    },
    {
     "metadata": {
      "tags": null
     },
     "name": "stdout",
     "output_type": "stream",
     "text": [
      "Station 10410, Epoch [100/500], Loss: 0.0389\n",
      "Station 10410, Epoch [200/500], Loss: 0.0463\n",
      "Station 10410, Epoch [300/500], Loss: 0.0337\n",
      "Station 10410, Epoch [400/500], Loss: 0.0222\n",
      "Station 10410, Epoch [500/500], Loss: 0.0134\n"
     ]
    },
    {
     "metadata": {
      "tags": null
     },
     "name": "stderr",
     "output_type": "stream",
     "text": [
      "/usr/local/lib/python3.10/dist-packages/torch/nn/modules/transformer.py:282: UserWarning: enable_nested_tensor is True, but self.use_nested_tensor is False because encoder_layer.self_attn.batch_first was not True(use batch_first for better inference performance)\n",
      "  warnings.warn(f\"enable_nested_tensor is True, but self.use_nested_tensor is False because {why_not_sparsity_fast_path}\")\n"
     ]
    },
    {
     "metadata": {
      "tags": null
     },
     "name": "stdout",
     "output_type": "stream",
     "text": [
      "Station 72445, Epoch [100/500], Loss: 0.0466\n",
      "Station 72445, Epoch [200/500], Loss: 0.0461\n",
      "Station 72445, Epoch [300/500], Loss: 0.0547\n",
      "Station 72445, Epoch [400/500], Loss: 0.0379\n",
      "Station 72445, Epoch [500/500], Loss: 0.0159\n"
     ]
    },
    {
     "metadata": {
      "tags": null
     },
     "name": "stderr",
     "output_type": "stream",
     "text": [
      "/usr/local/lib/python3.10/dist-packages/torch/nn/modules/transformer.py:282: UserWarning: enable_nested_tensor is True, but self.use_nested_tensor is False because encoder_layer.self_attn.batch_first was not True(use batch_first for better inference performance)\n",
      "  warnings.warn(f\"enable_nested_tensor is True, but self.use_nested_tensor is False because {why_not_sparsity_fast_path}\")\n"
     ]
    },
    {
     "metadata": {
      "tags": null
     },
     "name": "stdout",
     "output_type": "stream",
     "text": [
      "Station 10015, Epoch [100/500], Loss: 0.0801\n",
      "Station 10015, Epoch [200/500], Loss: 0.0313\n",
      "Station 10015, Epoch [300/500], Loss: 0.0203\n",
      "Station 10015, Epoch [400/500], Loss: 0.0212\n",
      "Station 10015, Epoch [500/500], Loss: 0.0152\n"
     ]
    },
    {
     "metadata": {
      "tags": null
     },
     "name": "stderr",
     "output_type": "stream",
     "text": [
      "/usr/local/lib/python3.10/dist-packages/torch/nn/modules/transformer.py:282: UserWarning: enable_nested_tensor is True, but self.use_nested_tensor is False because encoder_layer.self_attn.batch_first was not True(use batch_first for better inference performance)\n",
      "  warnings.warn(f\"enable_nested_tensor is True, but self.use_nested_tensor is False because {why_not_sparsity_fast_path}\")\n"
     ]
    },
    {
     "name": "stdout",
     "output_type": "stream",
     "text": [
      "Station EDXU0, Epoch [100/500], Loss: 0.0694\n",
      "Station EDXU0, Epoch [200/500], Loss: 0.0393\n",
      "Station EDXU0, Epoch [300/500], Loss: 0.0227\n",
      "Station EDXU0, Epoch [400/500], Loss: 0.0197\n",
      "Station EDXU0, Epoch [500/500], Loss: 0.0192\n"
     ]
    },
    {
     "name": "stderr",
     "output_type": "stream",
     "text": [
      "/usr/local/lib/python3.10/dist-packages/torch/nn/modules/transformer.py:282: UserWarning: enable_nested_tensor is True, but self.use_nested_tensor is False because encoder_layer.self_attn.batch_first was not True(use batch_first for better inference performance)\n",
      "  warnings.warn(f\"enable_nested_tensor is True, but self.use_nested_tensor is False because {why_not_sparsity_fast_path}\")\n"
     ]
    },
    {
     "name": "stdout",
     "output_type": "stream",
     "text": [
      "Station D4323, Epoch [100/500], Loss: 0.0163\n",
      "Station D4323, Epoch [200/500], Loss: 0.0097\n",
      "Station D4323, Epoch [300/500], Loss: 0.0161\n",
      "Station D4323, Epoch [400/500], Loss: 0.0161\n",
      "Station D4323, Epoch [500/500], Loss: 0.0125\n"
     ]
    },
    {
     "name": "stderr",
     "output_type": "stream",
     "text": [
      "/usr/local/lib/python3.10/dist-packages/torch/nn/modules/transformer.py:282: UserWarning: enable_nested_tensor is True, but self.use_nested_tensor is False because encoder_layer.self_attn.batch_first was not True(use batch_first for better inference performance)\n",
      "  warnings.warn(f\"enable_nested_tensor is True, but self.use_nested_tensor is False because {why_not_sparsity_fast_path}\")\n"
     ]
    },
    {
     "name": "stdout",
     "output_type": "stream",
     "text": [
      "Station D0151, Epoch [100/500], Loss: 0.0281\n",
      "Station D0151, Epoch [200/500], Loss: 0.0260\n",
      "Station D0151, Epoch [300/500], Loss: 0.0331\n",
      "Station D0151, Epoch [400/500], Loss: 0.0254\n",
      "Station D0151, Epoch [500/500], Loss: 0.0143\n"
     ]
    },
    {
     "name": "stderr",
     "output_type": "stream",
     "text": [
      "/usr/local/lib/python3.10/dist-packages/torch/nn/modules/transformer.py:282: UserWarning: enable_nested_tensor is True, but self.use_nested_tensor is False because encoder_layer.self_attn.batch_first was not True(use batch_first for better inference performance)\n",
      "  warnings.warn(f\"enable_nested_tensor is True, but self.use_nested_tensor is False because {why_not_sparsity_fast_path}\")\n"
     ]
    },
    {
     "name": "stdout",
     "output_type": "stream",
     "text": [
      "Station 10763, Epoch [100/500], Loss: 0.0394\n",
      "Station 10763, Epoch [200/500], Loss: 0.0184\n",
      "Station 10763, Epoch [300/500], Loss: 0.0191\n",
      "Station 10763, Epoch [400/500], Loss: 0.0164\n",
      "Station 10763, Epoch [500/500], Loss: 0.0130\n"
     ]
    },
    {
     "name": "stderr",
     "output_type": "stream",
     "text": [
      "/usr/local/lib/python3.10/dist-packages/torch/nn/modules/transformer.py:282: UserWarning: enable_nested_tensor is True, but self.use_nested_tensor is False because encoder_layer.self_attn.batch_first was not True(use batch_first for better inference performance)\n",
      "  warnings.warn(f\"enable_nested_tensor is True, but self.use_nested_tensor is False because {why_not_sparsity_fast_path}\")\n"
     ]
    },
    {
     "name": "stdout",
     "output_type": "stream",
     "text": [
      "Station 72327, Epoch [100/500], Loss: 0.0454\n",
      "Station 72327, Epoch [200/500], Loss: 0.0637\n",
      "Station 72327, Epoch [300/500], Loss: 0.0189\n",
      "Station 72327, Epoch [400/500], Loss: 0.0110\n",
      "Station 72327, Epoch [500/500], Loss: 0.0197\n"
     ]
    },
    {
     "name": "stderr",
     "output_type": "stream",
     "text": [
      "/usr/local/lib/python3.10/dist-packages/torch/nn/modules/transformer.py:282: UserWarning: enable_nested_tensor is True, but self.use_nested_tensor is False because encoder_layer.self_attn.batch_first was not True(use batch_first for better inference performance)\n",
      "  warnings.warn(f\"enable_nested_tensor is True, but self.use_nested_tensor is False because {why_not_sparsity_fast_path}\")\n"
     ]
    },
    {
     "name": "stdout",
     "output_type": "stream",
     "text": [
      "Station 08306, Epoch [100/500], Loss: 0.0339\n",
      "Station 08306, Epoch [200/500], Loss: 0.0554\n",
      "Station 08306, Epoch [300/500], Loss: 0.0346\n",
      "Station 08306, Epoch [400/500], Loss: 0.0248\n",
      "Station 08306, Epoch [500/500], Loss: 0.0186\n"
     ]
    },
    {
     "name": "stderr",
     "output_type": "stream",
     "text": [
      "/usr/local/lib/python3.10/dist-packages/torch/nn/modules/transformer.py:282: UserWarning: enable_nested_tensor is True, but self.use_nested_tensor is False because encoder_layer.self_attn.batch_first was not True(use batch_first for better inference performance)\n",
      "  warnings.warn(f\"enable_nested_tensor is True, but self.use_nested_tensor is False because {why_not_sparsity_fast_path}\")\n"
     ]
    },
    {
     "name": "stdout",
     "output_type": "stream",
     "text": [
      "Station 10170, Epoch [100/500], Loss: 0.0407\n",
      "Station 10170, Epoch [200/500], Loss: 0.0357\n",
      "Station 10170, Epoch [300/500], Loss: 0.0205\n",
      "Station 10170, Epoch [400/500], Loss: 0.0118\n",
      "Station 10170, Epoch [500/500], Loss: 0.0195\n"
     ]
    },
    {
     "name": "stderr",
     "output_type": "stream",
     "text": [
      "/usr/local/lib/python3.10/dist-packages/torch/nn/modules/transformer.py:282: UserWarning: enable_nested_tensor is True, but self.use_nested_tensor is False because encoder_layer.self_attn.batch_first was not True(use batch_first for better inference performance)\n",
      "  warnings.warn(f\"enable_nested_tensor is True, but self.use_nested_tensor is False because {why_not_sparsity_fast_path}\")\n"
     ]
    },
    {
     "name": "stdout",
     "output_type": "stream",
     "text": [
      "Station 10400, Epoch [100/500], Loss: 0.0293\n",
      "Station 10400, Epoch [200/500], Loss: 0.0464\n",
      "Station 10400, Epoch [300/500], Loss: 0.0266\n",
      "Station 10400, Epoch [400/500], Loss: 0.0166\n",
      "Station 10400, Epoch [500/500], Loss: 0.0165\n"
     ]
    },
    {
     "name": "stderr",
     "output_type": "stream",
     "text": [
      "/usr/local/lib/python3.10/dist-packages/torch/nn/modules/transformer.py:282: UserWarning: enable_nested_tensor is True, but self.use_nested_tensor is False because encoder_layer.self_attn.batch_first was not True(use batch_first for better inference performance)\n",
      "  warnings.warn(f\"enable_nested_tensor is True, but self.use_nested_tensor is False because {why_not_sparsity_fast_path}\")\n"
     ]
    },
    {
     "name": "stdout",
     "output_type": "stream",
     "text": [
      "Station 72681, Epoch [100/500], Loss: 0.0744\n",
      "Station 72681, Epoch [200/500], Loss: 0.0403\n",
      "Station 72681, Epoch [300/500], Loss: 0.0285\n",
      "Station 72681, Epoch [400/500], Loss: 0.0202\n",
      "Station 72681, Epoch [500/500], Loss: 0.0158\n"
     ]
    },
    {
     "name": "stderr",
     "output_type": "stream",
     "text": [
      "/usr/local/lib/python3.10/dist-packages/torch/nn/modules/transformer.py:282: UserWarning: enable_nested_tensor is True, but self.use_nested_tensor is False because encoder_layer.self_attn.batch_first was not True(use batch_first for better inference performance)\n",
      "  warnings.warn(f\"enable_nested_tensor is True, but self.use_nested_tensor is False because {why_not_sparsity_fast_path}\")\n"
     ]
    },
    {
     "name": "stdout",
     "output_type": "stream",
     "text": [
      "Station EDMW0, Epoch [100/500], Loss: 0.0180\n",
      "Station EDMW0, Epoch [200/500], Loss: 0.0322\n",
      "Station EDMW0, Epoch [300/500], Loss: 0.0230\n",
      "Station EDMW0, Epoch [400/500], Loss: 0.0182\n",
      "Station EDMW0, Epoch [500/500], Loss: 0.0150\n"
     ]
    },
    {
     "name": "stderr",
     "output_type": "stream",
     "text": [
      "/usr/local/lib/python3.10/dist-packages/torch/nn/modules/transformer.py:282: UserWarning: enable_nested_tensor is True, but self.use_nested_tensor is False because encoder_layer.self_attn.batch_first was not True(use batch_first for better inference performance)\n",
      "  warnings.warn(f\"enable_nested_tensor is True, but self.use_nested_tensor is False because {why_not_sparsity_fast_path}\")\n"
     ]
    },
    {
     "name": "stdout",
     "output_type": "stream",
     "text": [
      "Station 72250, Epoch [100/500], Loss: 0.0840\n",
      "Station 72250, Epoch [200/500], Loss: 0.0558\n",
      "Station 72250, Epoch [300/500], Loss: 0.0609\n",
      "Station 72250, Epoch [400/500], Loss: 0.0334\n",
      "Station 72250, Epoch [500/500], Loss: 0.0244\n"
     ]
    },
    {
     "name": "stderr",
     "output_type": "stream",
     "text": [
      "/usr/local/lib/python3.10/dist-packages/torch/nn/modules/transformer.py:282: UserWarning: enable_nested_tensor is True, but self.use_nested_tensor is False because encoder_layer.self_attn.batch_first was not True(use batch_first for better inference performance)\n",
      "  warnings.warn(f\"enable_nested_tensor is True, but self.use_nested_tensor is False because {why_not_sparsity_fast_path}\")\n"
     ]
    },
    {
     "name": "stdout",
     "output_type": "stream",
     "text": [
      "Station 72278, Epoch [100/500], Loss: 0.0557\n",
      "Station 72278, Epoch [200/500], Loss: 0.0248\n",
      "Station 72278, Epoch [300/500], Loss: 0.0311\n",
      "Station 72278, Epoch [400/500], Loss: 0.0240\n",
      "Station 72278, Epoch [500/500], Loss: 0.0142\n"
     ]
    },
    {
     "name": "stderr",
     "output_type": "stream",
     "text": [
      "/usr/local/lib/python3.10/dist-packages/torch/nn/modules/transformer.py:282: UserWarning: enable_nested_tensor is True, but self.use_nested_tensor is False because encoder_layer.self_attn.batch_first was not True(use batch_first for better inference performance)\n",
      "  warnings.warn(f\"enable_nested_tensor is True, but self.use_nested_tensor is False because {why_not_sparsity_fast_path}\")\n"
     ]
    },
    {
     "name": "stdout",
     "output_type": "stream",
     "text": [
      "Station 01241, Epoch [100/500], Loss: 0.0549\n",
      "Station 01241, Epoch [200/500], Loss: 0.0327\n",
      "Station 01241, Epoch [300/500], Loss: 0.0124\n",
      "Station 01241, Epoch [400/500], Loss: 0.0304\n",
      "Station 01241, Epoch [500/500], Loss: 0.0182\n"
     ]
    },
    {
     "name": "stderr",
     "output_type": "stream",
     "text": [
      "/usr/local/lib/python3.10/dist-packages/torch/nn/modules/transformer.py:282: UserWarning: enable_nested_tensor is True, but self.use_nested_tensor is False because encoder_layer.self_attn.batch_first was not True(use batch_first for better inference performance)\n",
      "  warnings.warn(f\"enable_nested_tensor is True, but self.use_nested_tensor is False because {why_not_sparsity_fast_path}\")\n"
     ]
    },
    {
     "name": "stdout",
     "output_type": "stream",
     "text": [
      "Station D4287, Epoch [100/500], Loss: 0.0799\n",
      "Station D4287, Epoch [200/500], Loss: 0.0205\n",
      "Station D4287, Epoch [300/500], Loss: 0.0226\n",
      "Station D4287, Epoch [400/500], Loss: 0.0144\n",
      "Station D4287, Epoch [500/500], Loss: 0.0138\n"
     ]
    },
    {
     "name": "stderr",
     "output_type": "stream",
     "text": [
      "/usr/local/lib/python3.10/dist-packages/torch/nn/modules/transformer.py:282: UserWarning: enable_nested_tensor is True, but self.use_nested_tensor is False because encoder_layer.self_attn.batch_first was not True(use batch_first for better inference performance)\n",
      "  warnings.warn(f\"enable_nested_tensor is True, but self.use_nested_tensor is False because {why_not_sparsity_fast_path}\")\n"
     ]
    },
    {
     "name": "stdout",
     "output_type": "stream",
     "text": [
      "Station 10628, Epoch [100/500], Loss: 0.0490\n",
      "Station 10628, Epoch [200/500], Loss: 0.0176\n",
      "Station 10628, Epoch [300/500], Loss: 0.0165\n",
      "Station 10628, Epoch [400/500], Loss: 0.0163\n",
      "Station 10628, Epoch [500/500], Loss: 0.0105\n"
     ]
    },
    {
     "name": "stderr",
     "output_type": "stream",
     "text": [
      "/usr/local/lib/python3.10/dist-packages/torch/nn/modules/transformer.py:282: UserWarning: enable_nested_tensor is True, but self.use_nested_tensor is False because encoder_layer.self_attn.batch_first was not True(use batch_first for better inference performance)\n",
      "  warnings.warn(f\"enable_nested_tensor is True, but self.use_nested_tensor is False because {why_not_sparsity_fast_path}\")\n"
     ]
    },
    {
     "name": "stdout",
     "output_type": "stream",
     "text": [
      "Station 10946, Epoch [100/500], Loss: 0.0569\n",
      "Station 10946, Epoch [200/500], Loss: 0.0500\n",
      "Station 10946, Epoch [300/500], Loss: 0.0337\n",
      "Station 10946, Epoch [400/500], Loss: 0.0241\n",
      "Station 10946, Epoch [500/500], Loss: 0.0346\n"
     ]
    },
    {
     "name": "stderr",
     "output_type": "stream",
     "text": [
      "/usr/local/lib/python3.10/dist-packages/torch/nn/modules/transformer.py:282: UserWarning: enable_nested_tensor is True, but self.use_nested_tensor is False because encoder_layer.self_attn.batch_first was not True(use batch_first for better inference performance)\n",
      "  warnings.warn(f\"enable_nested_tensor is True, but self.use_nested_tensor is False because {why_not_sparsity_fast_path}\")\n"
     ]
    },
    {
     "name": "stdout",
     "output_type": "stream",
     "text": [
      "Station D3137, Epoch [100/500], Loss: 0.0589\n",
      "Station D3137, Epoch [200/500], Loss: 0.0339\n",
      "Station D3137, Epoch [300/500], Loss: 0.0143\n",
      "Station D3137, Epoch [400/500], Loss: 0.0267\n",
      "Station D3137, Epoch [500/500], Loss: 0.0128\n"
     ]
    },
    {
     "name": "stderr",
     "output_type": "stream",
     "text": [
      "/usr/local/lib/python3.10/dist-packages/torch/nn/modules/transformer.py:282: UserWarning: enable_nested_tensor is True, but self.use_nested_tensor is False because encoder_layer.self_attn.batch_first was not True(use batch_first for better inference performance)\n",
      "  warnings.warn(f\"enable_nested_tensor is True, but self.use_nested_tensor is False because {why_not_sparsity_fast_path}\")\n"
     ]
    },
    {
     "name": "stdout",
     "output_type": "stream",
     "text": [
      "Station 10427, Epoch [100/500], Loss: 0.0443\n",
      "Station 10427, Epoch [200/500], Loss: 0.0327\n",
      "Station 10427, Epoch [300/500], Loss: 0.0280\n",
      "Station 10427, Epoch [400/500], Loss: 0.0149\n",
      "Station 10427, Epoch [500/500], Loss: 0.0235\n"
     ]
    },
    {
     "name": "stderr",
     "output_type": "stream",
     "text": [
      "/usr/local/lib/python3.10/dist-packages/torch/nn/modules/transformer.py:282: UserWarning: enable_nested_tensor is True, but self.use_nested_tensor is False because encoder_layer.self_attn.batch_first was not True(use batch_first for better inference performance)\n",
      "  warnings.warn(f\"enable_nested_tensor is True, but self.use_nested_tensor is False because {why_not_sparsity_fast_path}\")\n"
     ]
    },
    {
     "name": "stdout",
     "output_type": "stream",
     "text": [
      "Station 10382, Epoch [100/500], Loss: 0.0416\n",
      "Station 10382, Epoch [200/500], Loss: 0.0224\n",
      "Station 10382, Epoch [300/500], Loss: 0.0172\n",
      "Station 10382, Epoch [400/500], Loss: 0.0216\n",
      "Station 10382, Epoch [500/500], Loss: 0.0116\n"
     ]
    },
    {
     "name": "stderr",
     "output_type": "stream",
     "text": [
      "/usr/local/lib/python3.10/dist-packages/torch/nn/modules/transformer.py:282: UserWarning: enable_nested_tensor is True, but self.use_nested_tensor is False because encoder_layer.self_attn.batch_first was not True(use batch_first for better inference performance)\n",
      "  warnings.warn(f\"enable_nested_tensor is True, but self.use_nested_tensor is False because {why_not_sparsity_fast_path}\")\n"
     ]
    },
    {
     "name": "stdout",
     "output_type": "stream",
     "text": [
      "Station 72315, Epoch [100/500], Loss: 0.0660\n",
      "Station 72315, Epoch [200/500], Loss: 0.0657\n",
      "Station 72315, Epoch [300/500], Loss: 0.0212\n",
      "Station 72315, Epoch [400/500], Loss: 0.0252\n",
      "Station 72315, Epoch [500/500], Loss: 0.0212\n"
     ]
    },
    {
     "name": "stderr",
     "output_type": "stream",
     "text": [
      "/usr/local/lib/python3.10/dist-packages/torch/nn/modules/transformer.py:282: UserWarning: enable_nested_tensor is True, but self.use_nested_tensor is False because encoder_layer.self_attn.batch_first was not True(use batch_first for better inference performance)\n",
      "  warnings.warn(f\"enable_nested_tensor is True, but self.use_nested_tensor is False because {why_not_sparsity_fast_path}\")\n"
     ]
    },
    {
     "name": "stdout",
     "output_type": "stream",
     "text": [
      "Station 10962, Epoch [100/500], Loss: 0.0737\n",
      "Station 10962, Epoch [200/500], Loss: 0.0421\n",
      "Station 10962, Epoch [300/500], Loss: 0.0142\n",
      "Station 10962, Epoch [400/500], Loss: 0.0391\n",
      "Station 10962, Epoch [500/500], Loss: 0.0186\n"
     ]
    },
    {
     "name": "stderr",
     "output_type": "stream",
     "text": [
      "/usr/local/lib/python3.10/dist-packages/torch/nn/modules/transformer.py:282: UserWarning: enable_nested_tensor is True, but self.use_nested_tensor is False because encoder_layer.self_attn.batch_first was not True(use batch_first for better inference performance)\n",
      "  warnings.warn(f\"enable_nested_tensor is True, but self.use_nested_tensor is False because {why_not_sparsity_fast_path}\")\n"
     ]
    },
    {
     "name": "stdout",
     "output_type": "stream",
     "text": [
      "Station 10948, Epoch [100/500], Loss: 0.1055\n",
      "Station 10948, Epoch [200/500], Loss: 0.0381\n",
      "Station 10948, Epoch [300/500], Loss: 0.0465\n",
      "Station 10948, Epoch [400/500], Loss: 0.0453\n",
      "Station 10948, Epoch [500/500], Loss: 0.0321\n"
     ]
    },
    {
     "name": "stderr",
     "output_type": "stream",
     "text": [
      "/usr/local/lib/python3.10/dist-packages/torch/nn/modules/transformer.py:282: UserWarning: enable_nested_tensor is True, but self.use_nested_tensor is False because encoder_layer.self_attn.batch_first was not True(use batch_first for better inference performance)\n",
      "  warnings.warn(f\"enable_nested_tensor is True, but self.use_nested_tensor is False because {why_not_sparsity_fast_path}\")\n"
     ]
    },
    {
     "name": "stdout",
     "output_type": "stream",
     "text": [
      "Station 72698, Epoch [100/500], Loss: 0.0307\n",
      "Station 72698, Epoch [200/500], Loss: 0.0668\n",
      "Station 72698, Epoch [300/500], Loss: 0.0365\n",
      "Station 72698, Epoch [400/500], Loss: 0.0207\n",
      "Station 72698, Epoch [500/500], Loss: 0.0191\n"
     ]
    },
    {
     "name": "stderr",
     "output_type": "stream",
     "text": [
      "/usr/local/lib/python3.10/dist-packages/torch/nn/modules/transformer.py:282: UserWarning: enable_nested_tensor is True, but self.use_nested_tensor is False because encoder_layer.self_attn.batch_first was not True(use batch_first for better inference performance)\n",
      "  warnings.warn(f\"enable_nested_tensor is True, but self.use_nested_tensor is False because {why_not_sparsity_fast_path}\")\n"
     ]
    },
    {
     "name": "stdout",
     "output_type": "stream",
     "text": [
      "Station 10035, Epoch [100/500], Loss: 0.0498\n",
      "Station 10035, Epoch [200/500], Loss: 0.0271\n",
      "Station 10035, Epoch [300/500], Loss: 0.0269\n",
      "Station 10035, Epoch [400/500], Loss: 0.0384\n",
      "Station 10035, Epoch [500/500], Loss: 0.0367\n"
     ]
    },
    {
     "name": "stderr",
     "output_type": "stream",
     "text": [
      "/usr/local/lib/python3.10/dist-packages/torch/nn/modules/transformer.py:282: UserWarning: enable_nested_tensor is True, but self.use_nested_tensor is False because encoder_layer.self_attn.batch_first was not True(use batch_first for better inference performance)\n",
      "  warnings.warn(f\"enable_nested_tensor is True, but self.use_nested_tensor is False because {why_not_sparsity_fast_path}\")\n"
     ]
    },
    {
     "name": "stdout",
     "output_type": "stream",
     "text": [
      "Station 08487, Epoch [100/500], Loss: 0.0483\n",
      "Station 08487, Epoch [200/500], Loss: 0.0446\n",
      "Station 08487, Epoch [300/500], Loss: 0.0432\n",
      "Station 08487, Epoch [400/500], Loss: 0.0277\n",
      "Station 08487, Epoch [500/500], Loss: 0.0242\n"
     ]
    },
    {
     "name": "stderr",
     "output_type": "stream",
     "text": [
      "/usr/local/lib/python3.10/dist-packages/torch/nn/modules/transformer.py:282: UserWarning: enable_nested_tensor is True, but self.use_nested_tensor is False because encoder_layer.self_attn.batch_first was not True(use batch_first for better inference performance)\n",
      "  warnings.warn(f\"enable_nested_tensor is True, but self.use_nested_tensor is False because {why_not_sparsity_fast_path}\")\n"
     ]
    },
    {
     "name": "stdout",
     "output_type": "stream",
     "text": [
      "Station 10815, Epoch [100/500], Loss: 0.0468\n",
      "Station 10815, Epoch [200/500], Loss: 0.0221\n",
      "Station 10815, Epoch [300/500], Loss: 0.0372\n",
      "Station 10815, Epoch [400/500], Loss: 0.0313\n",
      "Station 10815, Epoch [500/500], Loss: 0.0116\n"
     ]
    },
    {
     "name": "stderr",
     "output_type": "stream",
     "text": [
      "/usr/local/lib/python3.10/dist-packages/torch/nn/modules/transformer.py:282: UserWarning: enable_nested_tensor is True, but self.use_nested_tensor is False because encoder_layer.self_attn.batch_first was not True(use batch_first for better inference performance)\n",
      "  warnings.warn(f\"enable_nested_tensor is True, but self.use_nested_tensor is False because {why_not_sparsity_fast_path}\")\n"
     ]
    },
    {
     "name": "stdout",
     "output_type": "stream",
     "text": [
      "Station D3257, Epoch [100/500], Loss: 0.0364\n",
      "Station D3257, Epoch [200/500], Loss: 0.0313\n",
      "Station D3257, Epoch [300/500], Loss: 0.0206\n",
      "Station D3257, Epoch [400/500], Loss: 0.0263\n",
      "Station D3257, Epoch [500/500], Loss: 0.0143\n"
     ]
    },
    {
     "name": "stderr",
     "output_type": "stream",
     "text": [
      "/usr/local/lib/python3.10/dist-packages/torch/nn/modules/transformer.py:282: UserWarning: enable_nested_tensor is True, but self.use_nested_tensor is False because encoder_layer.self_attn.batch_first was not True(use batch_first for better inference performance)\n",
      "  warnings.warn(f\"enable_nested_tensor is True, but self.use_nested_tensor is False because {why_not_sparsity_fast_path}\")\n"
     ]
    },
    {
     "name": "stdout",
     "output_type": "stream",
     "text": [
      "Station 10430, Epoch [100/500], Loss: 0.0321\n",
      "Station 10430, Epoch [200/500], Loss: 0.0167\n",
      "Station 10430, Epoch [300/500], Loss: 0.0298\n",
      "Station 10430, Epoch [400/500], Loss: 0.0179\n",
      "Station 10430, Epoch [500/500], Loss: 0.0195\n"
     ]
    },
    {
     "name": "stderr",
     "output_type": "stream",
     "text": [
      "/usr/local/lib/python3.10/dist-packages/torch/nn/modules/transformer.py:282: UserWarning: enable_nested_tensor is True, but self.use_nested_tensor is False because encoder_layer.self_attn.batch_first was not True(use batch_first for better inference performance)\n",
      "  warnings.warn(f\"enable_nested_tensor is True, but self.use_nested_tensor is False because {why_not_sparsity_fast_path}\")\n"
     ]
    },
    {
     "name": "stdout",
     "output_type": "stream",
     "text": [
      "Station 10381, Epoch [100/500], Loss: 0.0498\n",
      "Station 10381, Epoch [200/500], Loss: 0.0202\n",
      "Station 10381, Epoch [300/500], Loss: 0.0195\n",
      "Station 10381, Epoch [400/500], Loss: 0.0164\n",
      "Station 10381, Epoch [500/500], Loss: 0.0117\n"
     ]
    },
    {
     "name": "stderr",
     "output_type": "stream",
     "text": [
      "/usr/local/lib/python3.10/dist-packages/torch/nn/modules/transformer.py:282: UserWarning: enable_nested_tensor is True, but self.use_nested_tensor is False because encoder_layer.self_attn.batch_first was not True(use batch_first for better inference performance)\n",
      "  warnings.warn(f\"enable_nested_tensor is True, but self.use_nested_tensor is False because {why_not_sparsity_fast_path}\")\n"
     ]
    },
    {
     "name": "stdout",
     "output_type": "stream",
     "text": [
      "Station 10544, Epoch [100/500], Loss: 0.0767\n",
      "Station 10544, Epoch [200/500], Loss: 0.0276\n",
      "Station 10544, Epoch [300/500], Loss: 0.0157\n",
      "Station 10544, Epoch [400/500], Loss: 0.0337\n",
      "Station 10544, Epoch [500/500], Loss: 0.0144\n"
     ]
    },
    {
     "name": "stderr",
     "output_type": "stream",
     "text": [
      "/usr/local/lib/python3.10/dist-packages/torch/nn/modules/transformer.py:282: UserWarning: enable_nested_tensor is True, but self.use_nested_tensor is False because encoder_layer.self_attn.batch_first was not True(use batch_first for better inference performance)\n",
      "  warnings.warn(f\"enable_nested_tensor is True, but self.use_nested_tensor is False because {why_not_sparsity_fast_path}\")\n"
     ]
    },
    {
     "name": "stdout",
     "output_type": "stream",
     "text": [
      "Station 70273, Epoch [100/500], Loss: 0.0712\n",
      "Station 70273, Epoch [200/500], Loss: 0.0674\n",
      "Station 70273, Epoch [300/500], Loss: 0.0324\n",
      "Station 70273, Epoch [400/500], Loss: 0.0254\n",
      "Station 70273, Epoch [500/500], Loss: 0.0097\n"
     ]
    },
    {
     "name": "stderr",
     "output_type": "stream",
     "text": [
      "/usr/local/lib/python3.10/dist-packages/torch/nn/modules/transformer.py:282: UserWarning: enable_nested_tensor is True, but self.use_nested_tensor is False because encoder_layer.self_attn.batch_first was not True(use batch_first for better inference performance)\n",
      "  warnings.warn(f\"enable_nested_tensor is True, but self.use_nested_tensor is False because {why_not_sparsity_fast_path}\")\n"
     ]
    },
    {
     "name": "stdout",
     "output_type": "stream",
     "text": [
      "Station 10020, Epoch [100/500], Loss: 0.0205\n",
      "Station 10020, Epoch [200/500], Loss: 0.0365\n",
      "Station 10020, Epoch [300/500], Loss: 0.0272\n",
      "Station 10020, Epoch [400/500], Loss: 0.0243\n",
      "Station 10020, Epoch [500/500], Loss: 0.0198\n"
     ]
    },
    {
     "name": "stderr",
     "output_type": "stream",
     "text": [
      "/usr/local/lib/python3.10/dist-packages/torch/nn/modules/transformer.py:282: UserWarning: enable_nested_tensor is True, but self.use_nested_tensor is False because encoder_layer.self_attn.batch_first was not True(use batch_first for better inference performance)\n",
      "  warnings.warn(f\"enable_nested_tensor is True, but self.use_nested_tensor is False because {why_not_sparsity_fast_path}\")\n"
     ]
    },
    {
     "name": "stdout",
     "output_type": "stream",
     "text": [
      "Station 10961, Epoch [100/500], Loss: 0.0957\n",
      "Station 10961, Epoch [200/500], Loss: 0.0731\n",
      "Station 10961, Epoch [300/500], Loss: 0.0765\n",
      "Station 10961, Epoch [400/500], Loss: 0.0590\n",
      "Station 10961, Epoch [500/500], Loss: 0.0211\n"
     ]
    },
    {
     "name": "stderr",
     "output_type": "stream",
     "text": [
      "/usr/local/lib/python3.10/dist-packages/torch/nn/modules/transformer.py:282: UserWarning: enable_nested_tensor is True, but self.use_nested_tensor is False because encoder_layer.self_attn.batch_first was not True(use batch_first for better inference performance)\n",
      "  warnings.warn(f\"enable_nested_tensor is True, but self.use_nested_tensor is False because {why_not_sparsity_fast_path}\")\n"
     ]
    },
    {
     "name": "stdout",
     "output_type": "stream",
     "text": [
      "Station 10742, Epoch [100/500], Loss: 0.0528\n",
      "Station 10742, Epoch [200/500], Loss: 0.0225\n",
      "Station 10742, Epoch [300/500], Loss: 0.0279\n",
      "Station 10742, Epoch [400/500], Loss: 0.0195\n",
      "Station 10742, Epoch [500/500], Loss: 0.0235\n"
     ]
    },
    {
     "name": "stderr",
     "output_type": "stream",
     "text": [
      "/usr/local/lib/python3.10/dist-packages/torch/nn/modules/transformer.py:282: UserWarning: enable_nested_tensor is True, but self.use_nested_tensor is False because encoder_layer.self_attn.batch_first was not True(use batch_first for better inference performance)\n",
      "  warnings.warn(f\"enable_nested_tensor is True, but self.use_nested_tensor is False because {why_not_sparsity_fast_path}\")\n"
     ]
    },
    {
     "name": "stdout",
     "output_type": "stream",
     "text": [
      "Station 10554, Epoch [100/500], Loss: 0.0581\n",
      "Station 10554, Epoch [200/500], Loss: 0.0183\n",
      "Station 10554, Epoch [300/500], Loss: 0.0346\n",
      "Station 10554, Epoch [400/500], Loss: 0.0302\n",
      "Station 10554, Epoch [500/500], Loss: 0.0209\n"
     ]
    },
    {
     "name": "stderr",
     "output_type": "stream",
     "text": [
      "/usr/local/lib/python3.10/dist-packages/torch/nn/modules/transformer.py:282: UserWarning: enable_nested_tensor is True, but self.use_nested_tensor is False because encoder_layer.self_attn.batch_first was not True(use batch_first for better inference performance)\n",
      "  warnings.warn(f\"enable_nested_tensor is True, but self.use_nested_tensor is False because {why_not_sparsity_fast_path}\")\n"
     ]
    },
    {
     "name": "stdout",
     "output_type": "stream",
     "text": [
      "Station 10385, Epoch [100/500], Loss: 0.0540\n",
      "Station 10385, Epoch [200/500], Loss: 0.0325\n",
      "Station 10385, Epoch [300/500], Loss: 0.0213\n",
      "Station 10385, Epoch [400/500], Loss: 0.0216\n",
      "Station 10385, Epoch [500/500], Loss: 0.0156\n"
     ]
    },
    {
     "name": "stderr",
     "output_type": "stream",
     "text": [
      "/usr/local/lib/python3.10/dist-packages/torch/nn/modules/transformer.py:282: UserWarning: enable_nested_tensor is True, but self.use_nested_tensor is False because encoder_layer.self_attn.batch_first was not True(use batch_first for better inference performance)\n",
      "  warnings.warn(f\"enable_nested_tensor is True, but self.use_nested_tensor is False because {why_not_sparsity_fast_path}\")\n"
     ]
    },
    {
     "name": "stdout",
     "output_type": "stream",
     "text": [
      "Station 10637, Epoch [100/500], Loss: 0.0403\n",
      "Station 10637, Epoch [200/500], Loss: 0.0209\n",
      "Station 10637, Epoch [300/500], Loss: 0.0180\n",
      "Station 10637, Epoch [400/500], Loss: 0.0091\n",
      "Station 10637, Epoch [500/500], Loss: 0.0138\n"
     ]
    },
    {
     "name": "stderr",
     "output_type": "stream",
     "text": [
      "/usr/local/lib/python3.10/dist-packages/torch/nn/modules/transformer.py:282: UserWarning: enable_nested_tensor is True, but self.use_nested_tensor is False because encoder_layer.self_attn.batch_first was not True(use batch_first for better inference performance)\n",
      "  warnings.warn(f\"enable_nested_tensor is True, but self.use_nested_tensor is False because {why_not_sparsity_fast_path}\")\n"
     ]
    },
    {
     "name": "stdout",
     "output_type": "stream",
     "text": [
      "Station D0217, Epoch [100/500], Loss: 0.0553\n",
      "Station D0217, Epoch [200/500], Loss: 0.0354\n",
      "Station D0217, Epoch [300/500], Loss: 0.0348\n",
      "Station D0217, Epoch [400/500], Loss: 0.0271\n",
      "Station D0217, Epoch [500/500], Loss: 0.0208\n"
     ]
    },
    {
     "name": "stderr",
     "output_type": "stream",
     "text": [
      "/usr/local/lib/python3.10/dist-packages/torch/nn/modules/transformer.py:282: UserWarning: enable_nested_tensor is True, but self.use_nested_tensor is False because encoder_layer.self_attn.batch_first was not True(use batch_first for better inference performance)\n",
      "  warnings.warn(f\"enable_nested_tensor is True, but self.use_nested_tensor is False because {why_not_sparsity_fast_path}\")\n"
     ]
    },
    {
     "name": "stdout",
     "output_type": "stream",
     "text": [
      "Station 10384, Epoch [100/500], Loss: 0.0273\n",
      "Station 10384, Epoch [200/500], Loss: 0.0417\n",
      "Station 10384, Epoch [300/500], Loss: 0.0194\n",
      "Station 10384, Epoch [400/500], Loss: 0.0150\n",
      "Station 10384, Epoch [500/500], Loss: 0.0204\n"
     ]
    },
    {
     "name": "stderr",
     "output_type": "stream",
     "text": [
      "/usr/local/lib/python3.10/dist-packages/torch/nn/modules/transformer.py:282: UserWarning: enable_nested_tensor is True, but self.use_nested_tensor is False because encoder_layer.self_attn.batch_first was not True(use batch_first for better inference performance)\n",
      "  warnings.warn(f\"enable_nested_tensor is True, but self.use_nested_tensor is False because {why_not_sparsity_fast_path}\")\n"
     ]
    },
    {
     "name": "stdout",
     "output_type": "stream",
     "text": [
      "Station D2947, Epoch [100/500], Loss: 0.0409\n",
      "Station D2947, Epoch [200/500], Loss: 0.0261\n",
      "Station D2947, Epoch [300/500], Loss: 0.0280\n",
      "Station D2947, Epoch [400/500], Loss: 0.0182\n",
      "Station D2947, Epoch [500/500], Loss: 0.0139\n"
     ]
    },
    {
     "name": "stderr",
     "output_type": "stream",
     "text": [
      "/usr/local/lib/python3.10/dist-packages/torch/nn/modules/transformer.py:282: UserWarning: enable_nested_tensor is True, but self.use_nested_tensor is False because encoder_layer.self_attn.batch_first was not True(use batch_first for better inference performance)\n",
      "  warnings.warn(f\"enable_nested_tensor is True, but self.use_nested_tensor is False because {why_not_sparsity_fast_path}\")\n"
     ]
    },
    {
     "name": "stdout",
     "output_type": "stream",
     "text": [
      "Station 10379, Epoch [100/500], Loss: 0.0480\n",
      "Station 10379, Epoch [200/500], Loss: 0.0215\n",
      "Station 10379, Epoch [300/500], Loss: 0.0316\n",
      "Station 10379, Epoch [400/500], Loss: 0.0195\n",
      "Station 10379, Epoch [500/500], Loss: 0.0108\n"
     ]
    },
    {
     "name": "stderr",
     "output_type": "stream",
     "text": [
      "/usr/local/lib/python3.10/dist-packages/torch/nn/modules/transformer.py:282: UserWarning: enable_nested_tensor is True, but self.use_nested_tensor is False because encoder_layer.self_attn.batch_first was not True(use batch_first for better inference performance)\n",
      "  warnings.warn(f\"enable_nested_tensor is True, but self.use_nested_tensor is False because {why_not_sparsity_fast_path}\")\n"
     ]
    },
    {
     "name": "stdout",
     "output_type": "stream",
     "text": [
      "Station 10184, Epoch [100/500], Loss: 0.0381\n",
      "Station 10184, Epoch [200/500], Loss: 0.0255\n",
      "Station 10184, Epoch [300/500], Loss: 0.0269\n",
      "Station 10184, Epoch [400/500], Loss: 0.0274\n",
      "Station 10184, Epoch [500/500], Loss: 0.0083\n"
     ]
    },
    {
     "name": "stderr",
     "output_type": "stream",
     "text": [
      "/usr/local/lib/python3.10/dist-packages/torch/nn/modules/transformer.py:282: UserWarning: enable_nested_tensor is True, but self.use_nested_tensor is False because encoder_layer.self_attn.batch_first was not True(use batch_first for better inference performance)\n",
      "  warnings.warn(f\"enable_nested_tensor is True, but self.use_nested_tensor is False because {why_not_sparsity_fast_path}\")\n"
     ]
    },
    {
     "name": "stdout",
     "output_type": "stream",
     "text": [
      "Station 10147, Epoch [100/500], Loss: 0.0383\n",
      "Station 10147, Epoch [200/500], Loss: 0.0230\n",
      "Station 10147, Epoch [300/500], Loss: 0.0286\n",
      "Station 10147, Epoch [400/500], Loss: 0.0200\n",
      "Station 10147, Epoch [500/500], Loss: 0.0167\n"
     ]
    },
    {
     "name": "stderr",
     "output_type": "stream",
     "text": [
      "/usr/local/lib/python3.10/dist-packages/torch/nn/modules/transformer.py:282: UserWarning: enable_nested_tensor is True, but self.use_nested_tensor is False because encoder_layer.self_attn.batch_first was not True(use batch_first for better inference performance)\n",
      "  warnings.warn(f\"enable_nested_tensor is True, but self.use_nested_tensor is False because {why_not_sparsity_fast_path}\")\n"
     ]
    },
    {
     "name": "stdout",
     "output_type": "stream",
     "text": [
      "Station 72270, Epoch [100/500], Loss: 0.0944\n",
      "Station 72270, Epoch [200/500], Loss: 0.0225\n",
      "Station 72270, Epoch [300/500], Loss: 0.0197\n",
      "Station 72270, Epoch [400/500], Loss: 0.0192\n",
      "Station 72270, Epoch [500/500], Loss: 0.0217\n"
     ]
    },
    {
     "name": "stderr",
     "output_type": "stream",
     "text": [
      "/usr/local/lib/python3.10/dist-packages/torch/nn/modules/transformer.py:282: UserWarning: enable_nested_tensor is True, but self.use_nested_tensor is False because encoder_layer.self_attn.batch_first was not True(use batch_first for better inference performance)\n",
      "  warnings.warn(f\"enable_nested_tensor is True, but self.use_nested_tensor is False because {why_not_sparsity_fast_path}\")\n"
     ]
    },
    {
     "name": "stdout",
     "output_type": "stream",
     "text": [
      "Station 10393, Epoch [100/500], Loss: 0.0330\n",
      "Station 10393, Epoch [200/500], Loss: 0.0236\n",
      "Station 10393, Epoch [300/500], Loss: 0.0175\n",
      "Station 10393, Epoch [400/500], Loss: 0.0119\n",
      "Station 10393, Epoch [500/500], Loss: 0.0214\n"
     ]
    },
    {
     "name": "stderr",
     "output_type": "stream",
     "text": [
      "/usr/local/lib/python3.10/dist-packages/torch/nn/modules/transformer.py:282: UserWarning: enable_nested_tensor is True, but self.use_nested_tensor is False because encoder_layer.self_attn.batch_first was not True(use batch_first for better inference performance)\n",
      "  warnings.warn(f\"enable_nested_tensor is True, but self.use_nested_tensor is False because {why_not_sparsity_fast_path}\")\n"
     ]
    },
    {
     "name": "stdout",
     "output_type": "stream",
     "text": [
      "Station 10542, Epoch [100/500], Loss: 0.0342\n",
      "Station 10542, Epoch [200/500], Loss: 0.0399\n",
      "Station 10542, Epoch [300/500], Loss: 0.0303\n",
      "Station 10542, Epoch [400/500], Loss: 0.0186\n",
      "Station 10542, Epoch [500/500], Loss: 0.0125\n"
     ]
    },
    {
     "name": "stderr",
     "output_type": "stream",
     "text": [
      "/usr/local/lib/python3.10/dist-packages/torch/nn/modules/transformer.py:282: UserWarning: enable_nested_tensor is True, but self.use_nested_tensor is False because encoder_layer.self_attn.batch_first was not True(use batch_first for better inference performance)\n",
      "  warnings.warn(f\"enable_nested_tensor is True, but self.use_nested_tensor is False because {why_not_sparsity_fast_path}\")\n"
     ]
    },
    {
     "name": "stdout",
     "output_type": "stream",
     "text": [
      "Station 71816, Epoch [100/500], Loss: 0.0353\n",
      "Station 71816, Epoch [200/500], Loss: 0.0612\n",
      "Station 71816, Epoch [300/500], Loss: 0.0248\n",
      "Station 71816, Epoch [400/500], Loss: 0.0340\n",
      "Station 71816, Epoch [500/500], Loss: 0.0292\n"
     ]
    },
    {
     "name": "stderr",
     "output_type": "stream",
     "text": [
      "/usr/local/lib/python3.10/dist-packages/torch/nn/modules/transformer.py:282: UserWarning: enable_nested_tensor is True, but self.use_nested_tensor is False because encoder_layer.self_attn.batch_first was not True(use batch_first for better inference performance)\n",
      "  warnings.warn(f\"enable_nested_tensor is True, but self.use_nested_tensor is False because {why_not_sparsity_fast_path}\")\n"
     ]
    },
    {
     "name": "stdout",
     "output_type": "stream",
     "text": [
      "Station 10224, Epoch [100/500], Loss: 0.0235\n",
      "Station 10224, Epoch [200/500], Loss: 0.0240\n",
      "Station 10224, Epoch [300/500], Loss: 0.0270\n",
      "Station 10224, Epoch [400/500], Loss: 0.0216\n",
      "Station 10224, Epoch [500/500], Loss: 0.0237\n"
     ]
    },
    {
     "name": "stderr",
     "output_type": "stream",
     "text": [
      "/usr/local/lib/python3.10/dist-packages/torch/nn/modules/transformer.py:282: UserWarning: enable_nested_tensor is True, but self.use_nested_tensor is False because encoder_layer.self_attn.batch_first was not True(use batch_first for better inference performance)\n",
      "  warnings.warn(f\"enable_nested_tensor is True, but self.use_nested_tensor is False because {why_not_sparsity_fast_path}\")\n"
     ]
    },
    {
     "name": "stdout",
     "output_type": "stream",
     "text": [
      "Station 72476, Epoch [100/500], Loss: 0.0483\n",
      "Station 72476, Epoch [200/500], Loss: 0.0457\n",
      "Station 72476, Epoch [300/500], Loss: 0.0226\n",
      "Station 72476, Epoch [400/500], Loss: 0.0159\n",
      "Station 72476, Epoch [500/500], Loss: 0.0136\n"
     ]
    },
    {
     "name": "stderr",
     "output_type": "stream",
     "text": [
      "/usr/local/lib/python3.10/dist-packages/torch/nn/modules/transformer.py:282: UserWarning: enable_nested_tensor is True, but self.use_nested_tensor is False because encoder_layer.self_attn.batch_first was not True(use batch_first for better inference performance)\n",
      "  warnings.warn(f\"enable_nested_tensor is True, but self.use_nested_tensor is False because {why_not_sparsity_fast_path}\")\n"
     ]
    },
    {
     "name": "stdout",
     "output_type": "stream",
     "text": [
      "Station 70261, Epoch [100/500], Loss: 0.0654\n",
      "Station 70261, Epoch [200/500], Loss: 0.0487\n",
      "Station 70261, Epoch [300/500], Loss: 0.0202\n",
      "Station 70261, Epoch [400/500], Loss: 0.0401\n",
      "Station 70261, Epoch [500/500], Loss: 0.0233\n"
     ]
    },
    {
     "name": "stderr",
     "output_type": "stream",
     "text": [
      "/usr/local/lib/python3.10/dist-packages/torch/nn/modules/transformer.py:282: UserWarning: enable_nested_tensor is True, but self.use_nested_tensor is False because encoder_layer.self_attn.batch_first was not True(use batch_first for better inference performance)\n",
      "  warnings.warn(f\"enable_nested_tensor is True, but self.use_nested_tensor is False because {why_not_sparsity_fast_path}\")\n"
     ]
    },
    {
     "name": "stdout",
     "output_type": "stream",
     "text": [
      "Station D4377, Epoch [100/500], Loss: 0.0479\n",
      "Station D4377, Epoch [200/500], Loss: 0.0351\n",
      "Station D4377, Epoch [300/500], Loss: 0.0175\n",
      "Station D4377, Epoch [400/500], Loss: 0.0224\n",
      "Station D4377, Epoch [500/500], Loss: 0.0141\n"
     ]
    },
    {
     "name": "stderr",
     "output_type": "stream",
     "text": [
      "/usr/local/lib/python3.10/dist-packages/torch/nn/modules/transformer.py:282: UserWarning: enable_nested_tensor is True, but self.use_nested_tensor is False because encoder_layer.self_attn.batch_first was not True(use batch_first for better inference performance)\n",
      "  warnings.warn(f\"enable_nested_tensor is True, but self.use_nested_tensor is False because {why_not_sparsity_fast_path}\")\n"
     ]
    },
    {
     "name": "stdout",
     "output_type": "stream",
     "text": [
      "Station 03377, Epoch [100/500], Loss: 0.0493\n",
      "Station 03377, Epoch [200/500], Loss: 0.0227\n",
      "Station 03377, Epoch [300/500], Loss: 0.0227\n",
      "Station 03377, Epoch [400/500], Loss: 0.0165\n",
      "Station 03377, Epoch [500/500], Loss: 0.0131\n"
     ]
    },
    {
     "name": "stderr",
     "output_type": "stream",
     "text": [
      "/usr/local/lib/python3.10/dist-packages/torch/nn/modules/transformer.py:282: UserWarning: enable_nested_tensor is True, but self.use_nested_tensor is False because encoder_layer.self_attn.batch_first was not True(use batch_first for better inference performance)\n",
      "  warnings.warn(f\"enable_nested_tensor is True, but self.use_nested_tensor is False because {why_not_sparsity_fast_path}\")\n"
     ]
    },
    {
     "name": "stdout",
     "output_type": "stream",
     "text": [
      "Station 10685, Epoch [100/500], Loss: 0.0454\n",
      "Station 10685, Epoch [200/500], Loss: 0.0344\n",
      "Station 10685, Epoch [300/500], Loss: 0.0272\n",
      "Station 10685, Epoch [400/500], Loss: 0.0157\n",
      "Station 10685, Epoch [500/500], Loss: 0.0053\n"
     ]
    },
    {
     "name": "stderr",
     "output_type": "stream",
     "text": [
      "/usr/local/lib/python3.10/dist-packages/torch/nn/modules/transformer.py:282: UserWarning: enable_nested_tensor is True, but self.use_nested_tensor is False because encoder_layer.self_attn.batch_first was not True(use batch_first for better inference performance)\n",
      "  warnings.warn(f\"enable_nested_tensor is True, but self.use_nested_tensor is False because {why_not_sparsity_fast_path}\")\n"
     ]
    },
    {
     "name": "stdout",
     "output_type": "stream",
     "text": [
      "Station 10875, Epoch [100/500], Loss: 0.0359\n",
      "Station 10875, Epoch [200/500], Loss: 0.0426\n",
      "Station 10875, Epoch [300/500], Loss: 0.0461\n",
      "Station 10875, Epoch [400/500], Loss: 0.0176\n",
      "Station 10875, Epoch [500/500], Loss: 0.0152\n"
     ]
    },
    {
     "name": "stderr",
     "output_type": "stream",
     "text": [
      "/usr/local/lib/python3.10/dist-packages/torch/nn/modules/transformer.py:282: UserWarning: enable_nested_tensor is True, but self.use_nested_tensor is False because encoder_layer.self_attn.batch_first was not True(use batch_first for better inference performance)\n",
      "  warnings.warn(f\"enable_nested_tensor is True, but self.use_nested_tensor is False because {why_not_sparsity_fast_path}\")\n"
     ]
    },
    {
     "name": "stdout",
     "output_type": "stream",
     "text": [
      "Station 10444, Epoch [100/500], Loss: 0.0648\n",
      "Station 10444, Epoch [200/500], Loss: 0.0358\n",
      "Station 10444, Epoch [300/500], Loss: 0.0184\n",
      "Station 10444, Epoch [400/500], Loss: 0.0155\n",
      "Station 10444, Epoch [500/500], Loss: 0.0285\n"
     ]
    },
    {
     "name": "stderr",
     "output_type": "stream",
     "text": [
      "/usr/local/lib/python3.10/dist-packages/torch/nn/modules/transformer.py:282: UserWarning: enable_nested_tensor is True, but self.use_nested_tensor is False because encoder_layer.self_attn.batch_first was not True(use batch_first for better inference performance)\n",
      "  warnings.warn(f\"enable_nested_tensor is True, but self.use_nested_tensor is False because {why_not_sparsity_fast_path}\")\n"
     ]
    },
    {
     "name": "stdout",
     "output_type": "stream",
     "text": [
      "Station 72202, Epoch [100/500], Loss: 0.0482\n",
      "Station 72202, Epoch [200/500], Loss: 0.0475\n",
      "Station 72202, Epoch [300/500], Loss: 0.0400\n",
      "Station 72202, Epoch [400/500], Loss: 0.0375\n",
      "Station 72202, Epoch [500/500], Loss: 0.0546\n"
     ]
    },
    {
     "name": "stderr",
     "output_type": "stream",
     "text": [
      "/usr/local/lib/python3.10/dist-packages/torch/nn/modules/transformer.py:282: UserWarning: enable_nested_tensor is True, but self.use_nested_tensor is False because encoder_layer.self_attn.batch_first was not True(use batch_first for better inference performance)\n",
      "  warnings.warn(f\"enable_nested_tensor is True, but self.use_nested_tensor is False because {why_not_sparsity_fast_path}\")\n"
     ]
    },
    {
     "name": "stdout",
     "output_type": "stream",
     "text": [
      "Station 10929, Epoch [100/500], Loss: 0.0505\n",
      "Station 10929, Epoch [200/500], Loss: 0.0465\n",
      "Station 10929, Epoch [300/500], Loss: 0.0487\n",
      "Station 10929, Epoch [400/500], Loss: 0.0437\n",
      "Station 10929, Epoch [500/500], Loss: 0.0197\n"
     ]
    },
    {
     "name": "stderr",
     "output_type": "stream",
     "text": [
      "/usr/local/lib/python3.10/dist-packages/torch/nn/modules/transformer.py:282: UserWarning: enable_nested_tensor is True, but self.use_nested_tensor is False because encoder_layer.self_attn.batch_first was not True(use batch_first for better inference performance)\n",
      "  warnings.warn(f\"enable_nested_tensor is True, but self.use_nested_tensor is False because {why_not_sparsity_fast_path}\")\n"
     ]
    },
    {
     "name": "stdout",
     "output_type": "stream",
     "text": [
      "Station 03969, Epoch [100/500], Loss: 0.0334\n",
      "Station 03969, Epoch [200/500], Loss: 0.0272\n",
      "Station 03969, Epoch [300/500], Loss: 0.0173\n",
      "Station 03969, Epoch [400/500], Loss: 0.0237\n",
      "Station 03969, Epoch [500/500], Loss: 0.0133\n"
     ]
    },
    {
     "name": "stderr",
     "output_type": "stream",
     "text": [
      "/usr/local/lib/python3.10/dist-packages/torch/nn/modules/transformer.py:282: UserWarning: enable_nested_tensor is True, but self.use_nested_tensor is False because encoder_layer.self_attn.batch_first was not True(use batch_first for better inference performance)\n",
      "  warnings.warn(f\"enable_nested_tensor is True, but self.use_nested_tensor is False because {why_not_sparsity_fast_path}\")\n"
     ]
    },
    {
     "name": "stdout",
     "output_type": "stream",
     "text": [
      "Station D0853, Epoch [100/500], Loss: 0.0491\n",
      "Station D0853, Epoch [200/500], Loss: 0.0182\n",
      "Station D0853, Epoch [300/500], Loss: 0.0303\n",
      "Station D0853, Epoch [400/500], Loss: 0.0305\n",
      "Station D0853, Epoch [500/500], Loss: 0.0355\n"
     ]
    },
    {
     "name": "stderr",
     "output_type": "stream",
     "text": [
      "/usr/local/lib/python3.10/dist-packages/torch/nn/modules/transformer.py:282: UserWarning: enable_nested_tensor is True, but self.use_nested_tensor is False because encoder_layer.self_attn.batch_first was not True(use batch_first for better inference performance)\n",
      "  warnings.warn(f\"enable_nested_tensor is True, but self.use_nested_tensor is False because {why_not_sparsity_fast_path}\")\n"
     ]
    },
    {
     "name": "stdout",
     "output_type": "stream",
     "text": [
      "Station 10526, Epoch [100/500], Loss: 0.0320\n",
      "Station 10526, Epoch [200/500], Loss: 0.0310\n",
      "Station 10526, Epoch [300/500], Loss: 0.0389\n",
      "Station 10526, Epoch [400/500], Loss: 0.0174\n",
      "Station 10526, Epoch [500/500], Loss: 0.0066\n"
     ]
    },
    {
     "name": "stderr",
     "output_type": "stream",
     "text": [
      "/usr/local/lib/python3.10/dist-packages/torch/nn/modules/transformer.py:282: UserWarning: enable_nested_tensor is True, but self.use_nested_tensor is False because encoder_layer.self_attn.batch_first was not True(use batch_first for better inference performance)\n",
      "  warnings.warn(f\"enable_nested_tensor is True, but self.use_nested_tensor is False because {why_not_sparsity_fast_path}\")\n"
     ]
    },
    {
     "name": "stdout",
     "output_type": "stream",
     "text": [
      "Station 72572, Epoch [100/500], Loss: 0.0432\n",
      "Station 72572, Epoch [200/500], Loss: 0.0433\n",
      "Station 72572, Epoch [300/500], Loss: 0.0426\n",
      "Station 72572, Epoch [400/500], Loss: 0.0140\n",
      "Station 72572, Epoch [500/500], Loss: 0.0138\n"
     ]
    },
    {
     "name": "stderr",
     "output_type": "stream",
     "text": [
      "/usr/local/lib/python3.10/dist-packages/torch/nn/modules/transformer.py:282: UserWarning: enable_nested_tensor is True, but self.use_nested_tensor is False because encoder_layer.self_attn.batch_first was not True(use batch_first for better inference performance)\n",
      "  warnings.warn(f\"enable_nested_tensor is True, but self.use_nested_tensor is False because {why_not_sparsity_fast_path}\")\n"
     ]
    },
    {
     "name": "stdout",
     "output_type": "stream",
     "text": [
      "Station 71906, Epoch [100/500], Loss: 0.1424\n",
      "Station 71906, Epoch [200/500], Loss: 0.0385\n",
      "Station 71906, Epoch [300/500], Loss: 0.0299\n",
      "Station 71906, Epoch [400/500], Loss: 0.0311\n",
      "Station 71906, Epoch [500/500], Loss: 0.0234\n"
     ]
    },
    {
     "name": "stderr",
     "output_type": "stream",
     "text": [
      "/usr/local/lib/python3.10/dist-packages/torch/nn/modules/transformer.py:282: UserWarning: enable_nested_tensor is True, but self.use_nested_tensor is False because encoder_layer.self_attn.batch_first was not True(use batch_first for better inference performance)\n",
      "  warnings.warn(f\"enable_nested_tensor is True, but self.use_nested_tensor is False because {why_not_sparsity_fast_path}\")\n"
     ]
    },
    {
     "name": "stdout",
     "output_type": "stream",
     "text": [
      "Station 72764, Epoch [100/500], Loss: 0.0969\n",
      "Station 72764, Epoch [200/500], Loss: 0.0647\n",
      "Station 72764, Epoch [300/500], Loss: 0.0274\n",
      "Station 72764, Epoch [400/500], Loss: 0.0355\n",
      "Station 72764, Epoch [500/500], Loss: 0.0098\n"
     ]
    },
    {
     "name": "stderr",
     "output_type": "stream",
     "text": [
      "/usr/local/lib/python3.10/dist-packages/torch/nn/modules/transformer.py:282: UserWarning: enable_nested_tensor is True, but self.use_nested_tensor is False because encoder_layer.self_attn.batch_first was not True(use batch_first for better inference performance)\n",
      "  warnings.warn(f\"enable_nested_tensor is True, but self.use_nested_tensor is False because {why_not_sparsity_fast_path}\")\n"
     ]
    },
    {
     "name": "stdout",
     "output_type": "stream",
     "text": [
      "Station 23933, Epoch [100/500], Loss: 0.0849\n",
      "Station 23933, Epoch [200/500], Loss: 0.0467\n",
      "Station 23933, Epoch [300/500], Loss: 0.0240\n",
      "Station 23933, Epoch [400/500], Loss: 0.0326\n",
      "Station 23933, Epoch [500/500], Loss: 0.0166\n"
     ]
    },
    {
     "name": "stderr",
     "output_type": "stream",
     "text": [
      "/usr/local/lib/python3.10/dist-packages/torch/nn/modules/transformer.py:282: UserWarning: enable_nested_tensor is True, but self.use_nested_tensor is False because encoder_layer.self_attn.batch_first was not True(use batch_first for better inference performance)\n",
      "  warnings.warn(f\"enable_nested_tensor is True, but self.use_nested_tensor is False because {why_not_sparsity_fast_path}\")\n"
     ]
    },
    {
     "name": "stdout",
     "output_type": "stream",
     "text": [
      "Station 25563, Epoch [100/500], Loss: 0.0921\n",
      "Station 25563, Epoch [200/500], Loss: 0.0516\n",
      "Station 25563, Epoch [300/500], Loss: 0.0265\n",
      "Station 25563, Epoch [400/500], Loss: 0.0255\n",
      "Station 25563, Epoch [500/500], Loss: 0.0181\n"
     ]
    },
    {
     "name": "stderr",
     "output_type": "stream",
     "text": [
      "/usr/local/lib/python3.10/dist-packages/torch/nn/modules/transformer.py:282: UserWarning: enable_nested_tensor is True, but self.use_nested_tensor is False because encoder_layer.self_attn.batch_first was not True(use batch_first for better inference performance)\n",
      "  warnings.warn(f\"enable_nested_tensor is True, but self.use_nested_tensor is False because {why_not_sparsity_fast_path}\")\n"
     ]
    },
    {
     "name": "stdout",
     "output_type": "stream",
     "text": [
      "Station D2700, Epoch [100/500], Loss: 0.0210\n",
      "Station D2700, Epoch [200/500], Loss: 0.0164\n",
      "Station D2700, Epoch [300/500], Loss: 0.0154\n",
      "Station D2700, Epoch [400/500], Loss: 0.0236\n",
      "Station D2700, Epoch [500/500], Loss: 0.0175\n"
     ]
    },
    {
     "name": "stderr",
     "output_type": "stream",
     "text": [
      "/usr/local/lib/python3.10/dist-packages/torch/nn/modules/transformer.py:282: UserWarning: enable_nested_tensor is True, but self.use_nested_tensor is False because encoder_layer.self_attn.batch_first was not True(use batch_first for better inference performance)\n",
      "  warnings.warn(f\"enable_nested_tensor is True, but self.use_nested_tensor is False because {why_not_sparsity_fast_path}\")\n"
     ]
    },
    {
     "name": "stdout",
     "output_type": "stream",
     "text": [
      "Station D1590, Epoch [100/500], Loss: 0.0890\n",
      "Station D1590, Epoch [200/500], Loss: 0.0419\n",
      "Station D1590, Epoch [300/500], Loss: 0.0138\n",
      "Station D1590, Epoch [400/500], Loss: 0.0144\n",
      "Station D1590, Epoch [500/500], Loss: 0.0266\n"
     ]
    },
    {
     "name": "stderr",
     "output_type": "stream",
     "text": [
      "/usr/local/lib/python3.10/dist-packages/torch/nn/modules/transformer.py:282: UserWarning: enable_nested_tensor is True, but self.use_nested_tensor is False because encoder_layer.self_attn.batch_first was not True(use batch_first for better inference performance)\n",
      "  warnings.warn(f\"enable_nested_tensor is True, but self.use_nested_tensor is False because {why_not_sparsity_fast_path}\")\n"
     ]
    },
    {
     "name": "stdout",
     "output_type": "stream",
     "text": [
      "Station 72365, Epoch [100/500], Loss: 0.0423\n",
      "Station 72365, Epoch [200/500], Loss: 0.0424\n",
      "Station 72365, Epoch [300/500], Loss: 0.0272\n",
      "Station 72365, Epoch [400/500], Loss: 0.0360\n",
      "Station 72365, Epoch [500/500], Loss: 0.0230\n"
     ]
    },
    {
     "name": "stderr",
     "output_type": "stream",
     "text": [
      "/usr/local/lib/python3.10/dist-packages/torch/nn/modules/transformer.py:282: UserWarning: enable_nested_tensor is True, but self.use_nested_tensor is False because encoder_layer.self_attn.batch_first was not True(use batch_first for better inference performance)\n",
      "  warnings.warn(f\"enable_nested_tensor is True, but self.use_nested_tensor is False because {why_not_sparsity_fast_path}\")\n"
     ]
    },
    {
     "name": "stdout",
     "output_type": "stream",
     "text": [
      "Station 06235, Epoch [100/500], Loss: 0.0708\n",
      "Station 06235, Epoch [200/500], Loss: 0.0392\n",
      "Station 06235, Epoch [300/500], Loss: 0.0495\n",
      "Station 06235, Epoch [400/500], Loss: 0.0195\n",
      "Station 06235, Epoch [500/500], Loss: 0.0170\n"
     ]
    },
    {
     "name": "stderr",
     "output_type": "stream",
     "text": [
      "/usr/local/lib/python3.10/dist-packages/torch/nn/modules/transformer.py:282: UserWarning: enable_nested_tensor is True, but self.use_nested_tensor is False because encoder_layer.self_attn.batch_first was not True(use batch_first for better inference performance)\n",
      "  warnings.warn(f\"enable_nested_tensor is True, but self.use_nested_tensor is False because {why_not_sparsity_fast_path}\")\n"
     ]
    },
    {
     "name": "stdout",
     "output_type": "stream",
     "text": [
      "Station 10655, Epoch [100/500], Loss: 0.0207\n",
      "Station 10655, Epoch [200/500], Loss: 0.0283\n",
      "Station 10655, Epoch [300/500], Loss: 0.0243\n",
      "Station 10655, Epoch [400/500], Loss: 0.0244\n",
      "Station 10655, Epoch [500/500], Loss: 0.0204\n"
     ]
    },
    {
     "name": "stderr",
     "output_type": "stream",
     "text": [
      "/usr/local/lib/python3.10/dist-packages/torch/nn/modules/transformer.py:282: UserWarning: enable_nested_tensor is True, but self.use_nested_tensor is False because encoder_layer.self_attn.batch_first was not True(use batch_first for better inference performance)\n",
      "  warnings.warn(f\"enable_nested_tensor is True, but self.use_nested_tensor is False because {why_not_sparsity_fast_path}\")\n"
     ]
    },
    {
     "name": "stdout",
     "output_type": "stream",
     "text": [
      "Station 72562, Epoch [100/500], Loss: 0.0975\n",
      "Station 72562, Epoch [200/500], Loss: 0.0275\n",
      "Station 72562, Epoch [300/500], Loss: 0.0377\n",
      "Station 72562, Epoch [400/500], Loss: 0.0342\n",
      "Station 72562, Epoch [500/500], Loss: 0.0313\n"
     ]
    },
    {
     "name": "stderr",
     "output_type": "stream",
     "text": [
      "/usr/local/lib/python3.10/dist-packages/torch/nn/modules/transformer.py:282: UserWarning: enable_nested_tensor is True, but self.use_nested_tensor is False because encoder_layer.self_attn.batch_first was not True(use batch_first for better inference performance)\n",
      "  warnings.warn(f\"enable_nested_tensor is True, but self.use_nested_tensor is False because {why_not_sparsity_fast_path}\")\n"
     ]
    },
    {
     "name": "stdout",
     "output_type": "stream",
     "text": [
      "Station D2932, Epoch [100/500], Loss: 0.0574\n",
      "Station D2932, Epoch [200/500], Loss: 0.0198\n",
      "Station D2932, Epoch [300/500], Loss: 0.0299\n",
      "Station D2932, Epoch [400/500], Loss: 0.0185\n",
      "Station D2932, Epoch [500/500], Loss: 0.0137\n"
     ]
    },
    {
     "name": "stderr",
     "output_type": "stream",
     "text": [
      "/usr/local/lib/python3.10/dist-packages/torch/nn/modules/transformer.py:282: UserWarning: enable_nested_tensor is True, but self.use_nested_tensor is False because encoder_layer.self_attn.batch_first was not True(use batch_first for better inference performance)\n",
      "  warnings.warn(f\"enable_nested_tensor is True, but self.use_nested_tensor is False because {why_not_sparsity_fast_path}\")\n"
     ]
    },
    {
     "name": "stdout",
     "output_type": "stream",
     "text": [
      "Station 10708, Epoch [100/500], Loss: 0.0483\n",
      "Station 10708, Epoch [200/500], Loss: 0.0314\n",
      "Station 10708, Epoch [300/500], Loss: 0.0314\n",
      "Station 10708, Epoch [400/500], Loss: 0.0280\n",
      "Station 10708, Epoch [500/500], Loss: 0.0077\n"
     ]
    },
    {
     "name": "stderr",
     "output_type": "stream",
     "text": [
      "/usr/local/lib/python3.10/dist-packages/torch/nn/modules/transformer.py:282: UserWarning: enable_nested_tensor is True, but self.use_nested_tensor is False because encoder_layer.self_attn.batch_first was not True(use batch_first for better inference performance)\n",
      "  warnings.warn(f\"enable_nested_tensor is True, but self.use_nested_tensor is False because {why_not_sparsity_fast_path}\")\n"
     ]
    },
    {
     "name": "stdout",
     "output_type": "stream",
     "text": [
      "Station 10091, Epoch [100/500], Loss: 0.0520\n",
      "Station 10091, Epoch [200/500], Loss: 0.0258\n",
      "Station 10091, Epoch [300/500], Loss: 0.0213\n",
      "Station 10091, Epoch [400/500], Loss: 0.0140\n",
      "Station 10091, Epoch [500/500], Loss: 0.0132\n"
     ]
    },
    {
     "name": "stderr",
     "output_type": "stream",
     "text": [
      "/usr/local/lib/python3.10/dist-packages/torch/nn/modules/transformer.py:282: UserWarning: enable_nested_tensor is True, but self.use_nested_tensor is False because encoder_layer.self_attn.batch_first was not True(use batch_first for better inference performance)\n",
      "  warnings.warn(f\"enable_nested_tensor is True, but self.use_nested_tensor is False because {why_not_sparsity_fast_path}\")\n"
     ]
    },
    {
     "name": "stdout",
     "output_type": "stream",
     "text": [
      "Station 07510, Epoch [100/500], Loss: 0.0377\n",
      "Station 07510, Epoch [200/500], Loss: 0.0256\n",
      "Station 07510, Epoch [300/500], Loss: 0.0312\n",
      "Station 07510, Epoch [400/500], Loss: 0.0237\n",
      "Station 07510, Epoch [500/500], Loss: 0.0264\n"
     ]
    },
    {
     "name": "stderr",
     "output_type": "stream",
     "text": [
      "/usr/local/lib/python3.10/dist-packages/torch/nn/modules/transformer.py:282: UserWarning: enable_nested_tensor is True, but self.use_nested_tensor is False because encoder_layer.self_attn.batch_first was not True(use batch_first for better inference performance)\n",
      "  warnings.warn(f\"enable_nested_tensor is True, but self.use_nested_tensor is False because {why_not_sparsity_fast_path}\")\n"
     ]
    },
    {
     "name": "stdout",
     "output_type": "stream",
     "text": [
      "Station 10291, Epoch [100/500], Loss: 0.0694\n",
      "Station 10291, Epoch [200/500], Loss: 0.0493\n",
      "Station 10291, Epoch [300/500], Loss: 0.0307\n",
      "Station 10291, Epoch [400/500], Loss: 0.0323\n",
      "Station 10291, Epoch [500/500], Loss: 0.0199\n"
     ]
    },
    {
     "name": "stderr",
     "output_type": "stream",
     "text": [
      "/usr/local/lib/python3.10/dist-packages/torch/nn/modules/transformer.py:282: UserWarning: enable_nested_tensor is True, but self.use_nested_tensor is False because encoder_layer.self_attn.batch_first was not True(use batch_first for better inference performance)\n",
      "  warnings.warn(f\"enable_nested_tensor is True, but self.use_nested_tensor is False because {why_not_sparsity_fast_path}\")\n"
     ]
    },
    {
     "name": "stdout",
     "output_type": "stream",
     "text": [
      "Station 72206, Epoch [100/500], Loss: 0.1175\n",
      "Station 72206, Epoch [200/500], Loss: 0.0222\n",
      "Station 72206, Epoch [300/500], Loss: 0.0468\n",
      "Station 72206, Epoch [400/500], Loss: 0.0387\n",
      "Station 72206, Epoch [500/500], Loss: 0.0602\n"
     ]
    },
    {
     "name": "stderr",
     "output_type": "stream",
     "text": [
      "/usr/local/lib/python3.10/dist-packages/torch/nn/modules/transformer.py:282: UserWarning: enable_nested_tensor is True, but self.use_nested_tensor is False because encoder_layer.self_attn.batch_first was not True(use batch_first for better inference performance)\n",
      "  warnings.warn(f\"enable_nested_tensor is True, but self.use_nested_tensor is False because {why_not_sparsity_fast_path}\")\n"
     ]
    },
    {
     "name": "stdout",
     "output_type": "stream",
     "text": [
      "Station 71727, Epoch [100/500], Loss: 0.0707\n",
      "Station 71727, Epoch [200/500], Loss: 0.0212\n",
      "Station 71727, Epoch [300/500], Loss: 0.0275\n",
      "Station 71727, Epoch [400/500], Loss: 0.0268\n",
      "Station 71727, Epoch [500/500], Loss: 0.0217\n"
     ]
    },
    {
     "name": "stderr",
     "output_type": "stream",
     "text": [
      "/usr/local/lib/python3.10/dist-packages/torch/nn/modules/transformer.py:282: UserWarning: enable_nested_tensor is True, but self.use_nested_tensor is False because encoder_layer.self_attn.batch_first was not True(use batch_first for better inference performance)\n",
      "  warnings.warn(f\"enable_nested_tensor is True, but self.use_nested_tensor is False because {why_not_sparsity_fast_path}\")\n"
     ]
    },
    {
     "name": "stdout",
     "output_type": "stream",
     "text": [
      "Station D5440, Epoch [100/500], Loss: 0.0460\n",
      "Station D5440, Epoch [200/500], Loss: 0.0409\n",
      "Station D5440, Epoch [300/500], Loss: 0.0202\n",
      "Station D5440, Epoch [400/500], Loss: 0.0329\n",
      "Station D5440, Epoch [500/500], Loss: 0.0222\n"
     ]
    },
    {
     "name": "stderr",
     "output_type": "stream",
     "text": [
      "/usr/local/lib/python3.10/dist-packages/torch/nn/modules/transformer.py:282: UserWarning: enable_nested_tensor is True, but self.use_nested_tensor is False because encoder_layer.self_attn.batch_first was not True(use batch_first for better inference performance)\n",
      "  warnings.warn(f\"enable_nested_tensor is True, but self.use_nested_tensor is False because {why_not_sparsity_fast_path}\")\n"
     ]
    },
    {
     "name": "stdout",
     "output_type": "stream",
     "text": [
      "Station D1197, Epoch [100/500], Loss: 0.0383\n",
      "Station D1197, Epoch [200/500], Loss: 0.0700\n",
      "Station D1197, Epoch [300/500], Loss: 0.0292\n",
      "Station D1197, Epoch [400/500], Loss: 0.0212\n",
      "Station D1197, Epoch [500/500], Loss: 0.0113\n"
     ]
    },
    {
     "name": "stderr",
     "output_type": "stream",
     "text": [
      "/usr/local/lib/python3.10/dist-packages/torch/nn/modules/transformer.py:282: UserWarning: enable_nested_tensor is True, but self.use_nested_tensor is False because encoder_layer.self_attn.batch_first was not True(use batch_first for better inference performance)\n",
      "  warnings.warn(f\"enable_nested_tensor is True, but self.use_nested_tensor is False because {why_not_sparsity_fast_path}\")\n"
     ]
    },
    {
     "name": "stdout",
     "output_type": "stream",
     "text": [
      "Station 10865, Epoch [100/500], Loss: 0.0393\n",
      "Station 10865, Epoch [200/500], Loss: 0.0361\n",
      "Station 10865, Epoch [300/500], Loss: 0.0313\n",
      "Station 10865, Epoch [400/500], Loss: 0.0179\n",
      "Station 10865, Epoch [500/500], Loss: 0.0276\n"
     ]
    },
    {
     "name": "stderr",
     "output_type": "stream",
     "text": [
      "/usr/local/lib/python3.10/dist-packages/torch/nn/modules/transformer.py:282: UserWarning: enable_nested_tensor is True, but self.use_nested_tensor is False because encoder_layer.self_attn.batch_first was not True(use batch_first for better inference performance)\n",
      "  warnings.warn(f\"enable_nested_tensor is True, but self.use_nested_tensor is False because {why_not_sparsity_fast_path}\")\n"
     ]
    },
    {
     "name": "stdout",
     "output_type": "stream",
     "text": [
      "Station 01028, Epoch [100/500], Loss: 0.0560\n",
      "Station 01028, Epoch [200/500], Loss: 0.0464\n",
      "Station 01028, Epoch [300/500], Loss: 0.0463\n",
      "Station 01028, Epoch [400/500], Loss: 0.0210\n",
      "Station 01028, Epoch [500/500], Loss: 0.0137\n"
     ]
    },
    {
     "name": "stderr",
     "output_type": "stream",
     "text": [
      "/usr/local/lib/python3.10/dist-packages/torch/nn/modules/transformer.py:282: UserWarning: enable_nested_tensor is True, but self.use_nested_tensor is False because encoder_layer.self_attn.batch_first was not True(use batch_first for better inference performance)\n",
      "  warnings.warn(f\"enable_nested_tensor is True, but self.use_nested_tensor is False because {why_not_sparsity_fast_path}\")\n"
     ]
    },
    {
     "name": "stdout",
     "output_type": "stream",
     "text": [
      "Station D2110, Epoch [100/500], Loss: 0.0455\n",
      "Station D2110, Epoch [200/500], Loss: 0.0272\n",
      "Station D2110, Epoch [300/500], Loss: 0.0297\n",
      "Station D2110, Epoch [400/500], Loss: 0.0229\n",
      "Station D2110, Epoch [500/500], Loss: 0.0154\n"
     ]
    },
    {
     "name": "stderr",
     "output_type": "stream",
     "text": [
      "/usr/local/lib/python3.10/dist-packages/torch/nn/modules/transformer.py:282: UserWarning: enable_nested_tensor is True, but self.use_nested_tensor is False because encoder_layer.self_attn.batch_first was not True(use batch_first for better inference performance)\n",
      "  warnings.warn(f\"enable_nested_tensor is True, but self.use_nested_tensor is False because {why_not_sparsity_fast_path}\")\n"
     ]
    },
    {
     "name": "stdout",
     "output_type": "stream",
     "text": [
      "Station 10469, Epoch [100/500], Loss: 0.0781\n",
      "Station 10469, Epoch [200/500], Loss: 0.0237\n",
      "Station 10469, Epoch [300/500], Loss: 0.0093\n",
      "Station 10469, Epoch [400/500], Loss: 0.0133\n",
      "Station 10469, Epoch [500/500], Loss: 0.0248\n"
     ]
    },
    {
     "name": "stderr",
     "output_type": "stream",
     "text": [
      "/usr/local/lib/python3.10/dist-packages/torch/nn/modules/transformer.py:282: UserWarning: enable_nested_tensor is True, but self.use_nested_tensor is False because encoder_layer.self_attn.batch_first was not True(use batch_first for better inference performance)\n",
      "  warnings.warn(f\"enable_nested_tensor is True, but self.use_nested_tensor is False because {why_not_sparsity_fast_path}\")\n"
     ]
    },
    {
     "name": "stdout",
     "output_type": "stream",
     "text": [
      "Station 10496, Epoch [100/500], Loss: 0.0307\n",
      "Station 10496, Epoch [200/500], Loss: 0.0290\n",
      "Station 10496, Epoch [300/500], Loss: 0.0188\n",
      "Station 10496, Epoch [400/500], Loss: 0.0290\n",
      "Station 10496, Epoch [500/500], Loss: 0.0128\n"
     ]
    },
    {
     "name": "stderr",
     "output_type": "stream",
     "text": [
      "/usr/local/lib/python3.10/dist-packages/torch/nn/modules/transformer.py:282: UserWarning: enable_nested_tensor is True, but self.use_nested_tensor is False because encoder_layer.self_attn.batch_first was not True(use batch_first for better inference performance)\n",
      "  warnings.warn(f\"enable_nested_tensor is True, but self.use_nested_tensor is False because {why_not_sparsity_fast_path}\")\n"
     ]
    },
    {
     "name": "stdout",
     "output_type": "stream",
     "text": [
      "Station 72429, Epoch [100/500], Loss: 0.0584\n",
      "Station 72429, Epoch [200/500], Loss: 0.0338\n",
      "Station 72429, Epoch [300/500], Loss: 0.0193\n",
      "Station 72429, Epoch [400/500], Loss: 0.0265\n",
      "Station 72429, Epoch [500/500], Loss: 0.0172\n"
     ]
    },
    {
     "name": "stderr",
     "output_type": "stream",
     "text": [
      "/usr/local/lib/python3.10/dist-packages/torch/nn/modules/transformer.py:282: UserWarning: enable_nested_tensor is True, but self.use_nested_tensor is False because encoder_layer.self_attn.batch_first was not True(use batch_first for better inference performance)\n",
      "  warnings.warn(f\"enable_nested_tensor is True, but self.use_nested_tensor is False because {why_not_sparsity_fast_path}\")\n"
     ]
    },
    {
     "name": "stdout",
     "output_type": "stream",
     "text": [
      "Station 03005, Epoch [100/500], Loss: 0.0457\n",
      "Station 03005, Epoch [200/500], Loss: 0.0433\n",
      "Station 03005, Epoch [300/500], Loss: 0.0337\n",
      "Station 03005, Epoch [400/500], Loss: 0.0110\n",
      "Station 03005, Epoch [500/500], Loss: 0.0153\n"
     ]
    },
    {
     "name": "stderr",
     "output_type": "stream",
     "text": [
      "/usr/local/lib/python3.10/dist-packages/torch/nn/modules/transformer.py:282: UserWarning: enable_nested_tensor is True, but self.use_nested_tensor is False because encoder_layer.self_attn.batch_first was not True(use batch_first for better inference performance)\n",
      "  warnings.warn(f\"enable_nested_tensor is True, but self.use_nested_tensor is False because {why_not_sparsity_fast_path}\")\n"
     ]
    },
    {
     "name": "stdout",
     "output_type": "stream",
     "text": [
      "Station 72617, Epoch [100/500], Loss: 0.0649\n",
      "Station 72617, Epoch [200/500], Loss: 0.0498\n",
      "Station 72617, Epoch [300/500], Loss: 0.0449\n",
      "Station 72617, Epoch [400/500], Loss: 0.0164\n",
      "Station 72617, Epoch [500/500], Loss: 0.0163\n"
     ]
    }
   ],
   "source": [
    "import torch\n",
    "import torch.nn as nn\n",
    "import pandas as pd\n",
    "import numpy as np\n",
    "import math\n",
    "\n",
    "# Load data\n",
    "data = pd.read_csv('filtered_data.csv')\n",
    "\n",
    "# Preprocess data\n",
    "data['tavg'] = pd.to_numeric(data['tavg'], errors='coerce')\n",
    "data['prcp'] = pd.to_numeric(data['prcp'], errors='coerce')\n",
    "data.dropna(subset=['tavg', 'prcp'], inplace=True)\n",
    "\n",
    "# Normalize data\n",
    "tavg_mean, tavg_std = data['tavg'].mean(), data['tavg'].std()\n",
    "prcp_mean, prcp_std = data['prcp'].mean(), data['prcp'].std()\n",
    "data['tavg_norm'] = (data['tavg'] - tavg_mean) / tavg_std\n",
    "data['prcp_norm'] = (data['prcp'] - prcp_mean) / prcp_std\n",
    "\n",
    "\n",
    "results_normalised = []\n",
    "results=[]\n",
    "stations = data['station'].unique()\n",
    "\n",
    "for station in stations:\n",
    "    train_mask = (data['station'] == station) & (data['year'].between(1977, 2019))\n",
    "    val_mask = (data['station'] == station) & (data['year'] == 2020)\n",
    "    train_data = data[train_mask][['tavg_norm', 'prcp_norm']].values\n",
    "    val_data = data[val_mask][['tavg_norm', 'prcp_norm']].values\n",
    "\n",
    "    train_src = torch.tensor(train_data, dtype=torch.float32).unsqueeze(0).to(device)\n",
    "    # Decoder target should have the same length as train_src but ending in val_data (2020 data)\n",
    "    train_tgt = np.vstack([train_data[:-12], val_data])\n",
    "    train_tgt = torch.tensor(train_tgt, dtype=torch.float32).unsqueeze(0).to(device)\n",
    "\n",
    "    model = TimeSeriesTransformer(2, 512, 8, 3).to(device)\n",
    "    criterion = nn.MSELoss()\n",
    "    optimizer = torch.optim.Adam(model.parameters(), lr=0.0001)\n",
    "\n",
    "    epochs = 500\n",
    "    for epoch in range(epochs):\n",
    "        optimizer.zero_grad()\n",
    "        output = model(train_src, train_tgt)  # Encoder uses train_data, Decoder tries to predict val_data\n",
    "        loss = criterion(output[:, -12:], train_tgt[:, -12:])  # Focus loss on the last 12 months (2020 data)\n",
    "        loss.backward()\n",
    "        optimizer.step()\n",
    "\n",
    "        if (epoch+1) % 100 == 0:\n",
    "            print(f'Station {station}, Epoch [{epoch+1}/{epochs}], Loss: {loss.item():.4f}')\n",
    "\n",
    "    model.eval()\n",
    "    with torch.no_grad():\n",
    "        # For prediction, provide only the encoder input. Let the decoder generate predictions.\n",
    "        pred_2021 = model(train_src)\n",
    "        pred_2021 = pred_2021[:, -12:]\n",
    "\n",
    "    # Retrieve last 12 months for predictions\n",
    "    pred_values = pred_2021[0, -12:].tolist()\n",
    "\n",
    "    actual_tavg_norm_2021 = data[(data['station'] == station) & (data['year'] == 2021)][['tavg_norm']].values.flatten().tolist()\n",
    "    actual_prcp_norm_2021 = data[(data['station'] == station) & (data['year'] == 2021)][['prcp_norm']].values.flatten().tolist()\n",
    "\n",
    "    pred_tavg_norm = [x[0] for x in pred_values]\n",
    "    pred_prcp_norm = [x[1] for x in pred_values]\n",
    "\n",
    "    station_results = [station] + pred_tavg_norm + pred_prcp_norm + actual_tavg_norm_2021 + actual_prcp_norm_2021\n",
    "    results_normalised.append(station_results)\n",
    "\n",
    "    #### Inverse normalization\n",
    "    pred_tavg = [x[0] * tavg_std + tavg_mean for x in pred_values]\n",
    "    pred_prcp = [x[1] * prcp_std + prcp_mean for x in pred_values]\n",
    "    actual_tavg_2021 = data[(data['station'] == station) & (data['year'] == 2021)][['tavg']].values.flatten().tolist()\n",
    "    actual_prcp_2021 = data[(data['station'] == station) & (data['year'] == 2021)][['prcp']].values.flatten().tolist()\n",
    "\n",
    "    station_results = [station] + pred_tavg + pred_prcp + actual_tavg_2021 + actual_prcp_2021\n",
    "    results.append(station_results)\n",
    "\n",
    "\n",
    "\n",
    "# Create final CSV with origin data\n",
    "columns = ['station'] + [f'predicted_tavg_{i}' for i in range(1, 13)] + [f'predicted_prcp_{i}' for i in range(1, 13)] + [f'actual_tavg_{i}' for i in range(1, 13)] + [f'actual_prcp_{i}' for i in range(1, 13)]\n",
    "df_results = pd.DataFrame(results, columns=columns)\n",
    "df_results.to_csv('predictions_vs_actual.csv', index=False)"
   ]
  },
  {
   "cell_type": "code",
   "execution_count": 9,
   "metadata": {
    "colab": {
     "base_uri": "https://localhost:8080/"
    },
    "id": "ErcOm8nIoBjW",
    "outputId": "4a4d54cf-827c-4ae0-eac3-3f9abb7389ce"
   },
   "outputs": [
    {
     "name": "stdout",
     "output_type": "stream",
     "text": [
      "Overall RMSE: 0.7428\n",
      "Overall MAE: 0.4857\n"
     ]
    }
   ],
   "source": [
    "# Compute overall RMSE using norm data\n",
    "columns = ['station'] + [f'predicted_tavg_{i}' for i in range(1, 13)] + [f'predicted_prcp_{i}' for i in range(1, 13)] + [f'actual_tavg_{i}' for i in range(1, 13)] + [f'actual_prcp_{i}' for i in range(1, 13)]\n",
    "df_results_normalised = pd.DataFrame(results_normalised, columns=columns)\n",
    "df_results_normalised.to_csv('predictions_vs_actual_norm.csv', index=False)\n",
    "\n",
    "predicted_vals = df_results_normalised[[f'predicted_tavg_{i}' for i in range(1, 13)] + [f'predicted_prcp_{i}' for i in range(1, 13)]].values\n",
    "actual_vals = df_results_normalised[[f'actual_tavg_{i}' for i in range(1, 13)] + [f'actual_prcp_{i}' for i in range(1, 13)]].values\n",
    "\n",
    "mse = ((predicted_vals - actual_vals) ** 2).mean()\n",
    "rmse = math.sqrt(mse)\n",
    "\n",
    "print(f\"Overall RMSE: {rmse:.4f}\")\n",
    "\n",
    "mae = abs(predicted_vals - actual_vals).mean()\n",
    "print(f\"Overall MAE: {mae:.4f}\")"
   ]
  },
  {
   "cell_type": "code",
   "execution_count": 10,
   "metadata": {
    "id": "QeCS8q9mhzkT"
   },
   "outputs": [],
   "source": [
    "def koppen(monthlyTemperature, monthlyPrecipitation, hemisphere):\n",
    "    monthlyTemperatureSorted = sorted(monthlyTemperature)\n",
    "    monthlyPrecipitationSorted = sorted(monthlyTemperature)\n",
    "    totalPrecipitation = sum(monthlyPrecipitation)\n",
    "    precipitationIntermediate = 100 - totalPrecipitation / 25\n",
    "    # E Category\n",
    "    if (monthlyTemperatureSorted[11] < 0):\n",
    "        return 'EF'\n",
    "    if (monthlyTemperatureSorted[11] < 10 and monthlyTemperatureSorted[11] >= 0):\n",
    "        return 'ET'\n",
    "    # A Category\n",
    "    if (monthlyTemperatureSorted[0] >= 18):\n",
    "        if (monthlyPrecipitationSorted[0] >= 60):\n",
    "            return 'Af'\n",
    "        if (monthlyPrecipitationSorted[0] < 60\n",
    "            and monthlyPrecipitationSorted[0] >= precipitationIntermediate):\n",
    "            return 'Am'\n",
    "        # As / Aw\n",
    "        driestMonth = monthlyPrecipitation.index(min(monthlyPrecipitation))\n",
    "        # April - September: North Hemisphere\n",
    "        if ('N' in hemisphere):\n",
    "            if (driestMonth >= 3 and driestMonth <= 8):\n",
    "                return 'As'\n",
    "            else:\n",
    "                return 'Aw'\n",
    "        if ('S' in hemisphere):\n",
    "            if (driestMonth >= 3 and driestMonth <= 8):\n",
    "                return 'Aw'\n",
    "            else:\n",
    "                return 'As'\n",
    "    # K Value\n",
    "    # summerPrecipitation = Precipitation of April - September\n",
    "    summerPrecipitation = sum(monthlyPrecipitation[3:9])\n",
    "    if ('S' in hemisphere):\n",
    "        summerPrecipitation = totalPrecipitation - summerPrecipitation\n",
    "    K = sum(monthlyTemperature) / 12 * 20\n",
    "    if (summerPrecipitation >= totalPrecipitation * 0.7):\n",
    "        K = K + 280\n",
    "    elif (summerPrecipitation >= totalPrecipitation * 0.3):\n",
    "        K = K + 140\n",
    "    # B Category\n",
    "    # BW\n",
    "    if (totalPrecipitation < K * 0.5):\n",
    "        if (sum(monthlyTemperature) >= 216 and monthlyTemperatureSorted[0] < 18):\n",
    "            return 'BWk'\n",
    "        if (sum(monthlyTemperature) < 216):\n",
    "            return 'BWk'\n",
    "    # BS\n",
    "    if (totalPrecipitation >= K * 0.5 and totalPrecipitation < K):\n",
    "        if (sum(monthlyTemperature) >= 216 and monthlyTemperatureSorted[0] < 18):\n",
    "            return 'BSk'\n",
    "        if (sum(monthlyTemperature) < 216):\n",
    "            return 'BSk'\n",
    "    # C,D Category\n",
    "    # winter / summer Humidest / Driest Precipitation\n",
    "    if ('N' in hemisphere):\n",
    "        winterHumidestPrecipitation = max(max(monthlyPrecipitation[0:3]), max(monthlyPrecipitation[9:12]))\n",
    "        winterDriestPrecipitation = min(min(monthlyPrecipitation[0:3]), min(monthlyPrecipitation[9:12]))\n",
    "        summerHumidestPrecipitation = max(monthlyPrecipitation[3:9])\n",
    "        summerDriestPrecipitation = min(monthlyPrecipitation[3:9])\n",
    "    if ('S' in hemisphere):\n",
    "        winterHumidestPrecipitation = max(monthlyPrecipitation[3:9])\n",
    "        winterDriestPrecipitation = min(monthlyPrecipitation[3:9])\n",
    "        summerHumidestPrecipitation = max(max(monthlyPrecipitation[0:3]), max(monthlyPrecipitation[9:12]))\n",
    "        summerDriestPrecipitation = min(min(monthlyPrecipitation[0:3]), min(monthlyPrecipitation[9:12]))\n",
    "    # C / D\n",
    "    if (totalPrecipitation >= K and monthlyTemperatureSorted[11] >= 10):\n",
    "        if (monthlyTemperatureSorted[0] >= 0 and monthlyTemperatureSorted[0] < 18):\n",
    "            result = 'C'\n",
    "        if (monthlyTemperatureSorted[0] < 0):\n",
    "            result = 'D'\n",
    "        # s / w / f\n",
    "        if (winterHumidestPrecipitation >= 3 * summerDriestPrecipitation):\n",
    "            result = result + 's'\n",
    "        elif (summerHumidestPrecipitation >= 10 * winterDriestPrecipitation):\n",
    "            result = result + 's'\n",
    "        else:\n",
    "            result = result + 's'\n",
    "        # a / b / c\n",
    "        if (monthlyTemperatureSorted[0] < -38 and monthlyTemperatureSorted[8] < 10):\n",
    "            return result + 'd'\n",
    "        elif (monthlyTemperatureSorted[11] >= 22):\n",
    "            return result + 'a'\n",
    "        # at least 4 month temperature >= 10 Celsius\n",
    "        elif (monthlyTemperatureSorted[8] >= 10):\n",
    "            return result + 'a'\n",
    "        else:\n",
    "            return result + 'a'\n",
    "    return 'undefined'"
   ]
  },
  {
   "cell_type": "code",
   "execution_count": 11,
   "metadata": {
    "colab": {
     "base_uri": "https://localhost:8080/"
    },
    "id": "mWuoxxAbAOjf",
    "outputId": "ca1db9af-653f-4962-ceef-fb4b56ede8f1"
   },
   "outputs": [
    {
     "name": "stderr",
     "output_type": "stream",
     "text": [
      "<ipython-input-11-d6c8080a4bea>:27: FutureWarning: The frame.append method is deprecated and will be removed from pandas in a future version. Use pandas.concat instead.\n",
      "  results = results.append({\"station\": station, \"actual_climate\": actual_climate, \"predicted_climate\": predicted_climate}, ignore_index=True)\n",
      "<ipython-input-11-d6c8080a4bea>:27: FutureWarning: The frame.append method is deprecated and will be removed from pandas in a future version. Use pandas.concat instead.\n",
      "  results = results.append({\"station\": station, \"actual_climate\": actual_climate, \"predicted_climate\": predicted_climate}, ignore_index=True)\n",
      "<ipython-input-11-d6c8080a4bea>:27: FutureWarning: The frame.append method is deprecated and will be removed from pandas in a future version. Use pandas.concat instead.\n",
      "  results = results.append({\"station\": station, \"actual_climate\": actual_climate, \"predicted_climate\": predicted_climate}, ignore_index=True)\n",
      "<ipython-input-11-d6c8080a4bea>:27: FutureWarning: The frame.append method is deprecated and will be removed from pandas in a future version. Use pandas.concat instead.\n",
      "  results = results.append({\"station\": station, \"actual_climate\": actual_climate, \"predicted_climate\": predicted_climate}, ignore_index=True)\n",
      "<ipython-input-11-d6c8080a4bea>:27: FutureWarning: The frame.append method is deprecated and will be removed from pandas in a future version. Use pandas.concat instead.\n",
      "  results = results.append({\"station\": station, \"actual_climate\": actual_climate, \"predicted_climate\": predicted_climate}, ignore_index=True)\n",
      "<ipython-input-11-d6c8080a4bea>:27: FutureWarning: The frame.append method is deprecated and will be removed from pandas in a future version. Use pandas.concat instead.\n",
      "  results = results.append({\"station\": station, \"actual_climate\": actual_climate, \"predicted_climate\": predicted_climate}, ignore_index=True)\n",
      "<ipython-input-11-d6c8080a4bea>:27: FutureWarning: The frame.append method is deprecated and will be removed from pandas in a future version. Use pandas.concat instead.\n",
      "  results = results.append({\"station\": station, \"actual_climate\": actual_climate, \"predicted_climate\": predicted_climate}, ignore_index=True)\n",
      "<ipython-input-11-d6c8080a4bea>:27: FutureWarning: The frame.append method is deprecated and will be removed from pandas in a future version. Use pandas.concat instead.\n",
      "  results = results.append({\"station\": station, \"actual_climate\": actual_climate, \"predicted_climate\": predicted_climate}, ignore_index=True)\n",
      "<ipython-input-11-d6c8080a4bea>:27: FutureWarning: The frame.append method is deprecated and will be removed from pandas in a future version. Use pandas.concat instead.\n",
      "  results = results.append({\"station\": station, \"actual_climate\": actual_climate, \"predicted_climate\": predicted_climate}, ignore_index=True)\n",
      "<ipython-input-11-d6c8080a4bea>:27: FutureWarning: The frame.append method is deprecated and will be removed from pandas in a future version. Use pandas.concat instead.\n",
      "  results = results.append({\"station\": station, \"actual_climate\": actual_climate, \"predicted_climate\": predicted_climate}, ignore_index=True)\n",
      "<ipython-input-11-d6c8080a4bea>:27: FutureWarning: The frame.append method is deprecated and will be removed from pandas in a future version. Use pandas.concat instead.\n",
      "  results = results.append({\"station\": station, \"actual_climate\": actual_climate, \"predicted_climate\": predicted_climate}, ignore_index=True)\n",
      "<ipython-input-11-d6c8080a4bea>:27: FutureWarning: The frame.append method is deprecated and will be removed from pandas in a future version. Use pandas.concat instead.\n",
      "  results = results.append({\"station\": station, \"actual_climate\": actual_climate, \"predicted_climate\": predicted_climate}, ignore_index=True)\n",
      "<ipython-input-11-d6c8080a4bea>:27: FutureWarning: The frame.append method is deprecated and will be removed from pandas in a future version. Use pandas.concat instead.\n",
      "  results = results.append({\"station\": station, \"actual_climate\": actual_climate, \"predicted_climate\": predicted_climate}, ignore_index=True)\n",
      "<ipython-input-11-d6c8080a4bea>:27: FutureWarning: The frame.append method is deprecated and will be removed from pandas in a future version. Use pandas.concat instead.\n",
      "  results = results.append({\"station\": station, \"actual_climate\": actual_climate, \"predicted_climate\": predicted_climate}, ignore_index=True)\n",
      "<ipython-input-11-d6c8080a4bea>:27: FutureWarning: The frame.append method is deprecated and will be removed from pandas in a future version. Use pandas.concat instead.\n",
      "  results = results.append({\"station\": station, \"actual_climate\": actual_climate, \"predicted_climate\": predicted_climate}, ignore_index=True)\n",
      "<ipython-input-11-d6c8080a4bea>:27: FutureWarning: The frame.append method is deprecated and will be removed from pandas in a future version. Use pandas.concat instead.\n",
      "  results = results.append({\"station\": station, \"actual_climate\": actual_climate, \"predicted_climate\": predicted_climate}, ignore_index=True)\n",
      "<ipython-input-11-d6c8080a4bea>:27: FutureWarning: The frame.append method is deprecated and will be removed from pandas in a future version. Use pandas.concat instead.\n",
      "  results = results.append({\"station\": station, \"actual_climate\": actual_climate, \"predicted_climate\": predicted_climate}, ignore_index=True)\n",
      "<ipython-input-11-d6c8080a4bea>:27: FutureWarning: The frame.append method is deprecated and will be removed from pandas in a future version. Use pandas.concat instead.\n",
      "  results = results.append({\"station\": station, \"actual_climate\": actual_climate, \"predicted_climate\": predicted_climate}, ignore_index=True)\n",
      "<ipython-input-11-d6c8080a4bea>:27: FutureWarning: The frame.append method is deprecated and will be removed from pandas in a future version. Use pandas.concat instead.\n",
      "  results = results.append({\"station\": station, \"actual_climate\": actual_climate, \"predicted_climate\": predicted_climate}, ignore_index=True)\n",
      "<ipython-input-11-d6c8080a4bea>:27: FutureWarning: The frame.append method is deprecated and will be removed from pandas in a future version. Use pandas.concat instead.\n",
      "  results = results.append({\"station\": station, \"actual_climate\": actual_climate, \"predicted_climate\": predicted_climate}, ignore_index=True)\n",
      "<ipython-input-11-d6c8080a4bea>:27: FutureWarning: The frame.append method is deprecated and will be removed from pandas in a future version. Use pandas.concat instead.\n",
      "  results = results.append({\"station\": station, \"actual_climate\": actual_climate, \"predicted_climate\": predicted_climate}, ignore_index=True)\n",
      "<ipython-input-11-d6c8080a4bea>:27: FutureWarning: The frame.append method is deprecated and will be removed from pandas in a future version. Use pandas.concat instead.\n",
      "  results = results.append({\"station\": station, \"actual_climate\": actual_climate, \"predicted_climate\": predicted_climate}, ignore_index=True)\n",
      "<ipython-input-11-d6c8080a4bea>:27: FutureWarning: The frame.append method is deprecated and will be removed from pandas in a future version. Use pandas.concat instead.\n",
      "  results = results.append({\"station\": station, \"actual_climate\": actual_climate, \"predicted_climate\": predicted_climate}, ignore_index=True)\n",
      "<ipython-input-11-d6c8080a4bea>:27: FutureWarning: The frame.append method is deprecated and will be removed from pandas in a future version. Use pandas.concat instead.\n",
      "  results = results.append({\"station\": station, \"actual_climate\": actual_climate, \"predicted_climate\": predicted_climate}, ignore_index=True)\n",
      "<ipython-input-11-d6c8080a4bea>:27: FutureWarning: The frame.append method is deprecated and will be removed from pandas in a future version. Use pandas.concat instead.\n",
      "  results = results.append({\"station\": station, \"actual_climate\": actual_climate, \"predicted_climate\": predicted_climate}, ignore_index=True)\n",
      "<ipython-input-11-d6c8080a4bea>:27: FutureWarning: The frame.append method is deprecated and will be removed from pandas in a future version. Use pandas.concat instead.\n",
      "  results = results.append({\"station\": station, \"actual_climate\": actual_climate, \"predicted_climate\": predicted_climate}, ignore_index=True)\n",
      "<ipython-input-11-d6c8080a4bea>:27: FutureWarning: The frame.append method is deprecated and will be removed from pandas in a future version. Use pandas.concat instead.\n",
      "  results = results.append({\"station\": station, \"actual_climate\": actual_climate, \"predicted_climate\": predicted_climate}, ignore_index=True)\n",
      "<ipython-input-11-d6c8080a4bea>:27: FutureWarning: The frame.append method is deprecated and will be removed from pandas in a future version. Use pandas.concat instead.\n",
      "  results = results.append({\"station\": station, \"actual_climate\": actual_climate, \"predicted_climate\": predicted_climate}, ignore_index=True)\n",
      "<ipython-input-11-d6c8080a4bea>:27: FutureWarning: The frame.append method is deprecated and will be removed from pandas in a future version. Use pandas.concat instead.\n",
      "  results = results.append({\"station\": station, \"actual_climate\": actual_climate, \"predicted_climate\": predicted_climate}, ignore_index=True)\n",
      "<ipython-input-11-d6c8080a4bea>:27: FutureWarning: The frame.append method is deprecated and will be removed from pandas in a future version. Use pandas.concat instead.\n",
      "  results = results.append({\"station\": station, \"actual_climate\": actual_climate, \"predicted_climate\": predicted_climate}, ignore_index=True)\n",
      "<ipython-input-11-d6c8080a4bea>:27: FutureWarning: The frame.append method is deprecated and will be removed from pandas in a future version. Use pandas.concat instead.\n",
      "  results = results.append({\"station\": station, \"actual_climate\": actual_climate, \"predicted_climate\": predicted_climate}, ignore_index=True)\n",
      "<ipython-input-11-d6c8080a4bea>:27: FutureWarning: The frame.append method is deprecated and will be removed from pandas in a future version. Use pandas.concat instead.\n",
      "  results = results.append({\"station\": station, \"actual_climate\": actual_climate, \"predicted_climate\": predicted_climate}, ignore_index=True)\n",
      "<ipython-input-11-d6c8080a4bea>:27: FutureWarning: The frame.append method is deprecated and will be removed from pandas in a future version. Use pandas.concat instead.\n",
      "  results = results.append({\"station\": station, \"actual_climate\": actual_climate, \"predicted_climate\": predicted_climate}, ignore_index=True)\n",
      "<ipython-input-11-d6c8080a4bea>:27: FutureWarning: The frame.append method is deprecated and will be removed from pandas in a future version. Use pandas.concat instead.\n",
      "  results = results.append({\"station\": station, \"actual_climate\": actual_climate, \"predicted_climate\": predicted_climate}, ignore_index=True)\n",
      "<ipython-input-11-d6c8080a4bea>:27: FutureWarning: The frame.append method is deprecated and will be removed from pandas in a future version. Use pandas.concat instead.\n",
      "  results = results.append({\"station\": station, \"actual_climate\": actual_climate, \"predicted_climate\": predicted_climate}, ignore_index=True)\n",
      "<ipython-input-11-d6c8080a4bea>:27: FutureWarning: The frame.append method is deprecated and will be removed from pandas in a future version. Use pandas.concat instead.\n",
      "  results = results.append({\"station\": station, \"actual_climate\": actual_climate, \"predicted_climate\": predicted_climate}, ignore_index=True)\n",
      "<ipython-input-11-d6c8080a4bea>:27: FutureWarning: The frame.append method is deprecated and will be removed from pandas in a future version. Use pandas.concat instead.\n",
      "  results = results.append({\"station\": station, \"actual_climate\": actual_climate, \"predicted_climate\": predicted_climate}, ignore_index=True)\n",
      "<ipython-input-11-d6c8080a4bea>:27: FutureWarning: The frame.append method is deprecated and will be removed from pandas in a future version. Use pandas.concat instead.\n",
      "  results = results.append({\"station\": station, \"actual_climate\": actual_climate, \"predicted_climate\": predicted_climate}, ignore_index=True)\n",
      "<ipython-input-11-d6c8080a4bea>:27: FutureWarning: The frame.append method is deprecated and will be removed from pandas in a future version. Use pandas.concat instead.\n",
      "  results = results.append({\"station\": station, \"actual_climate\": actual_climate, \"predicted_climate\": predicted_climate}, ignore_index=True)\n",
      "<ipython-input-11-d6c8080a4bea>:27: FutureWarning: The frame.append method is deprecated and will be removed from pandas in a future version. Use pandas.concat instead.\n",
      "  results = results.append({\"station\": station, \"actual_climate\": actual_climate, \"predicted_climate\": predicted_climate}, ignore_index=True)\n",
      "<ipython-input-11-d6c8080a4bea>:27: FutureWarning: The frame.append method is deprecated and will be removed from pandas in a future version. Use pandas.concat instead.\n",
      "  results = results.append({\"station\": station, \"actual_climate\": actual_climate, \"predicted_climate\": predicted_climate}, ignore_index=True)\n",
      "<ipython-input-11-d6c8080a4bea>:27: FutureWarning: The frame.append method is deprecated and will be removed from pandas in a future version. Use pandas.concat instead.\n",
      "  results = results.append({\"station\": station, \"actual_climate\": actual_climate, \"predicted_climate\": predicted_climate}, ignore_index=True)\n",
      "<ipython-input-11-d6c8080a4bea>:27: FutureWarning: The frame.append method is deprecated and will be removed from pandas in a future version. Use pandas.concat instead.\n",
      "  results = results.append({\"station\": station, \"actual_climate\": actual_climate, \"predicted_climate\": predicted_climate}, ignore_index=True)\n",
      "<ipython-input-11-d6c8080a4bea>:27: FutureWarning: The frame.append method is deprecated and will be removed from pandas in a future version. Use pandas.concat instead.\n",
      "  results = results.append({\"station\": station, \"actual_climate\": actual_climate, \"predicted_climate\": predicted_climate}, ignore_index=True)\n",
      "<ipython-input-11-d6c8080a4bea>:27: FutureWarning: The frame.append method is deprecated and will be removed from pandas in a future version. Use pandas.concat instead.\n",
      "  results = results.append({\"station\": station, \"actual_climate\": actual_climate, \"predicted_climate\": predicted_climate}, ignore_index=True)\n",
      "<ipython-input-11-d6c8080a4bea>:27: FutureWarning: The frame.append method is deprecated and will be removed from pandas in a future version. Use pandas.concat instead.\n",
      "  results = results.append({\"station\": station, \"actual_climate\": actual_climate, \"predicted_climate\": predicted_climate}, ignore_index=True)\n",
      "<ipython-input-11-d6c8080a4bea>:27: FutureWarning: The frame.append method is deprecated and will be removed from pandas in a future version. Use pandas.concat instead.\n",
      "  results = results.append({\"station\": station, \"actual_climate\": actual_climate, \"predicted_climate\": predicted_climate}, ignore_index=True)\n",
      "<ipython-input-11-d6c8080a4bea>:27: FutureWarning: The frame.append method is deprecated and will be removed from pandas in a future version. Use pandas.concat instead.\n",
      "  results = results.append({\"station\": station, \"actual_climate\": actual_climate, \"predicted_climate\": predicted_climate}, ignore_index=True)\n",
      "<ipython-input-11-d6c8080a4bea>:27: FutureWarning: The frame.append method is deprecated and will be removed from pandas in a future version. Use pandas.concat instead.\n",
      "  results = results.append({\"station\": station, \"actual_climate\": actual_climate, \"predicted_climate\": predicted_climate}, ignore_index=True)\n",
      "<ipython-input-11-d6c8080a4bea>:27: FutureWarning: The frame.append method is deprecated and will be removed from pandas in a future version. Use pandas.concat instead.\n",
      "  results = results.append({\"station\": station, \"actual_climate\": actual_climate, \"predicted_climate\": predicted_climate}, ignore_index=True)\n",
      "<ipython-input-11-d6c8080a4bea>:27: FutureWarning: The frame.append method is deprecated and will be removed from pandas in a future version. Use pandas.concat instead.\n",
      "  results = results.append({\"station\": station, \"actual_climate\": actual_climate, \"predicted_climate\": predicted_climate}, ignore_index=True)\n",
      "<ipython-input-11-d6c8080a4bea>:27: FutureWarning: The frame.append method is deprecated and will be removed from pandas in a future version. Use pandas.concat instead.\n",
      "  results = results.append({\"station\": station, \"actual_climate\": actual_climate, \"predicted_climate\": predicted_climate}, ignore_index=True)\n",
      "<ipython-input-11-d6c8080a4bea>:27: FutureWarning: The frame.append method is deprecated and will be removed from pandas in a future version. Use pandas.concat instead.\n",
      "  results = results.append({\"station\": station, \"actual_climate\": actual_climate, \"predicted_climate\": predicted_climate}, ignore_index=True)\n",
      "<ipython-input-11-d6c8080a4bea>:27: FutureWarning: The frame.append method is deprecated and will be removed from pandas in a future version. Use pandas.concat instead.\n",
      "  results = results.append({\"station\": station, \"actual_climate\": actual_climate, \"predicted_climate\": predicted_climate}, ignore_index=True)\n",
      "<ipython-input-11-d6c8080a4bea>:27: FutureWarning: The frame.append method is deprecated and will be removed from pandas in a future version. Use pandas.concat instead.\n",
      "  results = results.append({\"station\": station, \"actual_climate\": actual_climate, \"predicted_climate\": predicted_climate}, ignore_index=True)\n",
      "<ipython-input-11-d6c8080a4bea>:27: FutureWarning: The frame.append method is deprecated and will be removed from pandas in a future version. Use pandas.concat instead.\n",
      "  results = results.append({\"station\": station, \"actual_climate\": actual_climate, \"predicted_climate\": predicted_climate}, ignore_index=True)\n",
      "<ipython-input-11-d6c8080a4bea>:27: FutureWarning: The frame.append method is deprecated and will be removed from pandas in a future version. Use pandas.concat instead.\n",
      "  results = results.append({\"station\": station, \"actual_climate\": actual_climate, \"predicted_climate\": predicted_climate}, ignore_index=True)\n",
      "<ipython-input-11-d6c8080a4bea>:27: FutureWarning: The frame.append method is deprecated and will be removed from pandas in a future version. Use pandas.concat instead.\n",
      "  results = results.append({\"station\": station, \"actual_climate\": actual_climate, \"predicted_climate\": predicted_climate}, ignore_index=True)\n",
      "<ipython-input-11-d6c8080a4bea>:27: FutureWarning: The frame.append method is deprecated and will be removed from pandas in a future version. Use pandas.concat instead.\n",
      "  results = results.append({\"station\": station, \"actual_climate\": actual_climate, \"predicted_climate\": predicted_climate}, ignore_index=True)\n",
      "<ipython-input-11-d6c8080a4bea>:27: FutureWarning: The frame.append method is deprecated and will be removed from pandas in a future version. Use pandas.concat instead.\n",
      "  results = results.append({\"station\": station, \"actual_climate\": actual_climate, \"predicted_climate\": predicted_climate}, ignore_index=True)\n",
      "<ipython-input-11-d6c8080a4bea>:27: FutureWarning: The frame.append method is deprecated and will be removed from pandas in a future version. Use pandas.concat instead.\n",
      "  results = results.append({\"station\": station, \"actual_climate\": actual_climate, \"predicted_climate\": predicted_climate}, ignore_index=True)\n",
      "<ipython-input-11-d6c8080a4bea>:27: FutureWarning: The frame.append method is deprecated and will be removed from pandas in a future version. Use pandas.concat instead.\n",
      "  results = results.append({\"station\": station, \"actual_climate\": actual_climate, \"predicted_climate\": predicted_climate}, ignore_index=True)\n",
      "<ipython-input-11-d6c8080a4bea>:27: FutureWarning: The frame.append method is deprecated and will be removed from pandas in a future version. Use pandas.concat instead.\n",
      "  results = results.append({\"station\": station, \"actual_climate\": actual_climate, \"predicted_climate\": predicted_climate}, ignore_index=True)\n",
      "<ipython-input-11-d6c8080a4bea>:27: FutureWarning: The frame.append method is deprecated and will be removed from pandas in a future version. Use pandas.concat instead.\n",
      "  results = results.append({\"station\": station, \"actual_climate\": actual_climate, \"predicted_climate\": predicted_climate}, ignore_index=True)\n",
      "<ipython-input-11-d6c8080a4bea>:27: FutureWarning: The frame.append method is deprecated and will be removed from pandas in a future version. Use pandas.concat instead.\n",
      "  results = results.append({\"station\": station, \"actual_climate\": actual_climate, \"predicted_climate\": predicted_climate}, ignore_index=True)\n",
      "<ipython-input-11-d6c8080a4bea>:27: FutureWarning: The frame.append method is deprecated and will be removed from pandas in a future version. Use pandas.concat instead.\n",
      "  results = results.append({\"station\": station, \"actual_climate\": actual_climate, \"predicted_climate\": predicted_climate}, ignore_index=True)\n",
      "<ipython-input-11-d6c8080a4bea>:27: FutureWarning: The frame.append method is deprecated and will be removed from pandas in a future version. Use pandas.concat instead.\n",
      "  results = results.append({\"station\": station, \"actual_climate\": actual_climate, \"predicted_climate\": predicted_climate}, ignore_index=True)\n",
      "<ipython-input-11-d6c8080a4bea>:27: FutureWarning: The frame.append method is deprecated and will be removed from pandas in a future version. Use pandas.concat instead.\n",
      "  results = results.append({\"station\": station, \"actual_climate\": actual_climate, \"predicted_climate\": predicted_climate}, ignore_index=True)\n",
      "<ipython-input-11-d6c8080a4bea>:27: FutureWarning: The frame.append method is deprecated and will be removed from pandas in a future version. Use pandas.concat instead.\n",
      "  results = results.append({\"station\": station, \"actual_climate\": actual_climate, \"predicted_climate\": predicted_climate}, ignore_index=True)\n",
      "<ipython-input-11-d6c8080a4bea>:27: FutureWarning: The frame.append method is deprecated and will be removed from pandas in a future version. Use pandas.concat instead.\n",
      "  results = results.append({\"station\": station, \"actual_climate\": actual_climate, \"predicted_climate\": predicted_climate}, ignore_index=True)\n",
      "<ipython-input-11-d6c8080a4bea>:27: FutureWarning: The frame.append method is deprecated and will be removed from pandas in a future version. Use pandas.concat instead.\n",
      "  results = results.append({\"station\": station, \"actual_climate\": actual_climate, \"predicted_climate\": predicted_climate}, ignore_index=True)\n",
      "<ipython-input-11-d6c8080a4bea>:27: FutureWarning: The frame.append method is deprecated and will be removed from pandas in a future version. Use pandas.concat instead.\n",
      "  results = results.append({\"station\": station, \"actual_climate\": actual_climate, \"predicted_climate\": predicted_climate}, ignore_index=True)\n",
      "<ipython-input-11-d6c8080a4bea>:27: FutureWarning: The frame.append method is deprecated and will be removed from pandas in a future version. Use pandas.concat instead.\n",
      "  results = results.append({\"station\": station, \"actual_climate\": actual_climate, \"predicted_climate\": predicted_climate}, ignore_index=True)\n",
      "<ipython-input-11-d6c8080a4bea>:27: FutureWarning: The frame.append method is deprecated and will be removed from pandas in a future version. Use pandas.concat instead.\n",
      "  results = results.append({\"station\": station, \"actual_climate\": actual_climate, \"predicted_climate\": predicted_climate}, ignore_index=True)\n",
      "<ipython-input-11-d6c8080a4bea>:27: FutureWarning: The frame.append method is deprecated and will be removed from pandas in a future version. Use pandas.concat instead.\n",
      "  results = results.append({\"station\": station, \"actual_climate\": actual_climate, \"predicted_climate\": predicted_climate}, ignore_index=True)\n",
      "<ipython-input-11-d6c8080a4bea>:27: FutureWarning: The frame.append method is deprecated and will be removed from pandas in a future version. Use pandas.concat instead.\n",
      "  results = results.append({\"station\": station, \"actual_climate\": actual_climate, \"predicted_climate\": predicted_climate}, ignore_index=True)\n",
      "<ipython-input-11-d6c8080a4bea>:27: FutureWarning: The frame.append method is deprecated and will be removed from pandas in a future version. Use pandas.concat instead.\n",
      "  results = results.append({\"station\": station, \"actual_climate\": actual_climate, \"predicted_climate\": predicted_climate}, ignore_index=True)\n",
      "<ipython-input-11-d6c8080a4bea>:27: FutureWarning: The frame.append method is deprecated and will be removed from pandas in a future version. Use pandas.concat instead.\n",
      "  results = results.append({\"station\": station, \"actual_climate\": actual_climate, \"predicted_climate\": predicted_climate}, ignore_index=True)\n",
      "<ipython-input-11-d6c8080a4bea>:27: FutureWarning: The frame.append method is deprecated and will be removed from pandas in a future version. Use pandas.concat instead.\n",
      "  results = results.append({\"station\": station, \"actual_climate\": actual_climate, \"predicted_climate\": predicted_climate}, ignore_index=True)\n",
      "<ipython-input-11-d6c8080a4bea>:27: FutureWarning: The frame.append method is deprecated and will be removed from pandas in a future version. Use pandas.concat instead.\n",
      "  results = results.append({\"station\": station, \"actual_climate\": actual_climate, \"predicted_climate\": predicted_climate}, ignore_index=True)\n",
      "<ipython-input-11-d6c8080a4bea>:27: FutureWarning: The frame.append method is deprecated and will be removed from pandas in a future version. Use pandas.concat instead.\n",
      "  results = results.append({\"station\": station, \"actual_climate\": actual_climate, \"predicted_climate\": predicted_climate}, ignore_index=True)\n",
      "<ipython-input-11-d6c8080a4bea>:27: FutureWarning: The frame.append method is deprecated and will be removed from pandas in a future version. Use pandas.concat instead.\n",
      "  results = results.append({\"station\": station, \"actual_climate\": actual_climate, \"predicted_climate\": predicted_climate}, ignore_index=True)\n",
      "<ipython-input-11-d6c8080a4bea>:27: FutureWarning: The frame.append method is deprecated and will be removed from pandas in a future version. Use pandas.concat instead.\n",
      "  results = results.append({\"station\": station, \"actual_climate\": actual_climate, \"predicted_climate\": predicted_climate}, ignore_index=True)\n",
      "<ipython-input-11-d6c8080a4bea>:27: FutureWarning: The frame.append method is deprecated and will be removed from pandas in a future version. Use pandas.concat instead.\n",
      "  results = results.append({\"station\": station, \"actual_climate\": actual_climate, \"predicted_climate\": predicted_climate}, ignore_index=True)\n",
      "<ipython-input-11-d6c8080a4bea>:27: FutureWarning: The frame.append method is deprecated and will be removed from pandas in a future version. Use pandas.concat instead.\n",
      "  results = results.append({\"station\": station, \"actual_climate\": actual_climate, \"predicted_climate\": predicted_climate}, ignore_index=True)\n",
      "<ipython-input-11-d6c8080a4bea>:27: FutureWarning: The frame.append method is deprecated and will be removed from pandas in a future version. Use pandas.concat instead.\n",
      "  results = results.append({\"station\": station, \"actual_climate\": actual_climate, \"predicted_climate\": predicted_climate}, ignore_index=True)\n",
      "<ipython-input-11-d6c8080a4bea>:27: FutureWarning: The frame.append method is deprecated and will be removed from pandas in a future version. Use pandas.concat instead.\n",
      "  results = results.append({\"station\": station, \"actual_climate\": actual_climate, \"predicted_climate\": predicted_climate}, ignore_index=True)\n",
      "<ipython-input-11-d6c8080a4bea>:27: FutureWarning: The frame.append method is deprecated and will be removed from pandas in a future version. Use pandas.concat instead.\n",
      "  results = results.append({\"station\": station, \"actual_climate\": actual_climate, \"predicted_climate\": predicted_climate}, ignore_index=True)\n",
      "<ipython-input-11-d6c8080a4bea>:27: FutureWarning: The frame.append method is deprecated and will be removed from pandas in a future version. Use pandas.concat instead.\n",
      "  results = results.append({\"station\": station, \"actual_climate\": actual_climate, \"predicted_climate\": predicted_climate}, ignore_index=True)\n",
      "<ipython-input-11-d6c8080a4bea>:27: FutureWarning: The frame.append method is deprecated and will be removed from pandas in a future version. Use pandas.concat instead.\n",
      "  results = results.append({\"station\": station, \"actual_climate\": actual_climate, \"predicted_climate\": predicted_climate}, ignore_index=True)\n",
      "<ipython-input-11-d6c8080a4bea>:27: FutureWarning: The frame.append method is deprecated and will be removed from pandas in a future version. Use pandas.concat instead.\n",
      "  results = results.append({\"station\": station, \"actual_climate\": actual_climate, \"predicted_climate\": predicted_climate}, ignore_index=True)\n",
      "<ipython-input-11-d6c8080a4bea>:27: FutureWarning: The frame.append method is deprecated and will be removed from pandas in a future version. Use pandas.concat instead.\n",
      "  results = results.append({\"station\": station, \"actual_climate\": actual_climate, \"predicted_climate\": predicted_climate}, ignore_index=True)\n",
      "<ipython-input-11-d6c8080a4bea>:27: FutureWarning: The frame.append method is deprecated and will be removed from pandas in a future version. Use pandas.concat instead.\n",
      "  results = results.append({\"station\": station, \"actual_climate\": actual_climate, \"predicted_climate\": predicted_climate}, ignore_index=True)\n",
      "<ipython-input-11-d6c8080a4bea>:27: FutureWarning: The frame.append method is deprecated and will be removed from pandas in a future version. Use pandas.concat instead.\n",
      "  results = results.append({\"station\": station, \"actual_climate\": actual_climate, \"predicted_climate\": predicted_climate}, ignore_index=True)\n",
      "<ipython-input-11-d6c8080a4bea>:27: FutureWarning: The frame.append method is deprecated and will be removed from pandas in a future version. Use pandas.concat instead.\n",
      "  results = results.append({\"station\": station, \"actual_climate\": actual_climate, \"predicted_climate\": predicted_climate}, ignore_index=True)\n",
      "<ipython-input-11-d6c8080a4bea>:27: FutureWarning: The frame.append method is deprecated and will be removed from pandas in a future version. Use pandas.concat instead.\n",
      "  results = results.append({\"station\": station, \"actual_climate\": actual_climate, \"predicted_climate\": predicted_climate}, ignore_index=True)\n",
      "<ipython-input-11-d6c8080a4bea>:27: FutureWarning: The frame.append method is deprecated and will be removed from pandas in a future version. Use pandas.concat instead.\n",
      "  results = results.append({\"station\": station, \"actual_climate\": actual_climate, \"predicted_climate\": predicted_climate}, ignore_index=True)\n",
      "<ipython-input-11-d6c8080a4bea>:27: FutureWarning: The frame.append method is deprecated and will be removed from pandas in a future version. Use pandas.concat instead.\n",
      "  results = results.append({\"station\": station, \"actual_climate\": actual_climate, \"predicted_climate\": predicted_climate}, ignore_index=True)\n",
      "<ipython-input-11-d6c8080a4bea>:27: FutureWarning: The frame.append method is deprecated and will be removed from pandas in a future version. Use pandas.concat instead.\n",
      "  results = results.append({\"station\": station, \"actual_climate\": actual_climate, \"predicted_climate\": predicted_climate}, ignore_index=True)\n",
      "<ipython-input-11-d6c8080a4bea>:27: FutureWarning: The frame.append method is deprecated and will be removed from pandas in a future version. Use pandas.concat instead.\n",
      "  results = results.append({\"station\": station, \"actual_climate\": actual_climate, \"predicted_climate\": predicted_climate}, ignore_index=True)\n",
      "<ipython-input-11-d6c8080a4bea>:27: FutureWarning: The frame.append method is deprecated and will be removed from pandas in a future version. Use pandas.concat instead.\n",
      "  results = results.append({\"station\": station, \"actual_climate\": actual_climate, \"predicted_climate\": predicted_climate}, ignore_index=True)\n",
      "<ipython-input-11-d6c8080a4bea>:27: FutureWarning: The frame.append method is deprecated and will be removed from pandas in a future version. Use pandas.concat instead.\n",
      "  results = results.append({\"station\": station, \"actual_climate\": actual_climate, \"predicted_climate\": predicted_climate}, ignore_index=True)\n",
      "<ipython-input-11-d6c8080a4bea>:27: FutureWarning: The frame.append method is deprecated and will be removed from pandas in a future version. Use pandas.concat instead.\n",
      "  results = results.append({\"station\": station, \"actual_climate\": actual_climate, \"predicted_climate\": predicted_climate}, ignore_index=True)\n",
      "<ipython-input-11-d6c8080a4bea>:27: FutureWarning: The frame.append method is deprecated and will be removed from pandas in a future version. Use pandas.concat instead.\n",
      "  results = results.append({\"station\": station, \"actual_climate\": actual_climate, \"predicted_climate\": predicted_climate}, ignore_index=True)\n",
      "<ipython-input-11-d6c8080a4bea>:27: FutureWarning: The frame.append method is deprecated and will be removed from pandas in a future version. Use pandas.concat instead.\n",
      "  results = results.append({\"station\": station, \"actual_climate\": actual_climate, \"predicted_climate\": predicted_climate}, ignore_index=True)\n",
      "<ipython-input-11-d6c8080a4bea>:27: FutureWarning: The frame.append method is deprecated and will be removed from pandas in a future version. Use pandas.concat instead.\n",
      "  results = results.append({\"station\": station, \"actual_climate\": actual_climate, \"predicted_climate\": predicted_climate}, ignore_index=True)\n",
      "<ipython-input-11-d6c8080a4bea>:27: FutureWarning: The frame.append method is deprecated and will be removed from pandas in a future version. Use pandas.concat instead.\n",
      "  results = results.append({\"station\": station, \"actual_climate\": actual_climate, \"predicted_climate\": predicted_climate}, ignore_index=True)\n",
      "<ipython-input-11-d6c8080a4bea>:27: FutureWarning: The frame.append method is deprecated and will be removed from pandas in a future version. Use pandas.concat instead.\n",
      "  results = results.append({\"station\": station, \"actual_climate\": actual_climate, \"predicted_climate\": predicted_climate}, ignore_index=True)\n",
      "<ipython-input-11-d6c8080a4bea>:27: FutureWarning: The frame.append method is deprecated and will be removed from pandas in a future version. Use pandas.concat instead.\n",
      "  results = results.append({\"station\": station, \"actual_climate\": actual_climate, \"predicted_climate\": predicted_climate}, ignore_index=True)\n",
      "<ipython-input-11-d6c8080a4bea>:27: FutureWarning: The frame.append method is deprecated and will be removed from pandas in a future version. Use pandas.concat instead.\n",
      "  results = results.append({\"station\": station, \"actual_climate\": actual_climate, \"predicted_climate\": predicted_climate}, ignore_index=True)\n",
      "<ipython-input-11-d6c8080a4bea>:27: FutureWarning: The frame.append method is deprecated and will be removed from pandas in a future version. Use pandas.concat instead.\n",
      "  results = results.append({\"station\": station, \"actual_climate\": actual_climate, \"predicted_climate\": predicted_climate}, ignore_index=True)\n",
      "<ipython-input-11-d6c8080a4bea>:27: FutureWarning: The frame.append method is deprecated and will be removed from pandas in a future version. Use pandas.concat instead.\n",
      "  results = results.append({\"station\": station, \"actual_climate\": actual_climate, \"predicted_climate\": predicted_climate}, ignore_index=True)\n",
      "<ipython-input-11-d6c8080a4bea>:27: FutureWarning: The frame.append method is deprecated and will be removed from pandas in a future version. Use pandas.concat instead.\n",
      "  results = results.append({\"station\": station, \"actual_climate\": actual_climate, \"predicted_climate\": predicted_climate}, ignore_index=True)\n",
      "<ipython-input-11-d6c8080a4bea>:27: FutureWarning: The frame.append method is deprecated and will be removed from pandas in a future version. Use pandas.concat instead.\n",
      "  results = results.append({\"station\": station, \"actual_climate\": actual_climate, \"predicted_climate\": predicted_climate}, ignore_index=True)\n",
      "<ipython-input-11-d6c8080a4bea>:27: FutureWarning: The frame.append method is deprecated and will be removed from pandas in a future version. Use pandas.concat instead.\n",
      "  results = results.append({\"station\": station, \"actual_climate\": actual_climate, \"predicted_climate\": predicted_climate}, ignore_index=True)\n",
      "<ipython-input-11-d6c8080a4bea>:27: FutureWarning: The frame.append method is deprecated and will be removed from pandas in a future version. Use pandas.concat instead.\n",
      "  results = results.append({\"station\": station, \"actual_climate\": actual_climate, \"predicted_climate\": predicted_climate}, ignore_index=True)\n",
      "<ipython-input-11-d6c8080a4bea>:27: FutureWarning: The frame.append method is deprecated and will be removed from pandas in a future version. Use pandas.concat instead.\n",
      "  results = results.append({\"station\": station, \"actual_climate\": actual_climate, \"predicted_climate\": predicted_climate}, ignore_index=True)\n",
      "<ipython-input-11-d6c8080a4bea>:27: FutureWarning: The frame.append method is deprecated and will be removed from pandas in a future version. Use pandas.concat instead.\n",
      "  results = results.append({\"station\": station, \"actual_climate\": actual_climate, \"predicted_climate\": predicted_climate}, ignore_index=True)\n",
      "<ipython-input-11-d6c8080a4bea>:27: FutureWarning: The frame.append method is deprecated and will be removed from pandas in a future version. Use pandas.concat instead.\n",
      "  results = results.append({\"station\": station, \"actual_climate\": actual_climate, \"predicted_climate\": predicted_climate}, ignore_index=True)\n",
      "<ipython-input-11-d6c8080a4bea>:27: FutureWarning: The frame.append method is deprecated and will be removed from pandas in a future version. Use pandas.concat instead.\n",
      "  results = results.append({\"station\": station, \"actual_climate\": actual_climate, \"predicted_climate\": predicted_climate}, ignore_index=True)\n",
      "<ipython-input-11-d6c8080a4bea>:27: FutureWarning: The frame.append method is deprecated and will be removed from pandas in a future version. Use pandas.concat instead.\n",
      "  results = results.append({\"station\": station, \"actual_climate\": actual_climate, \"predicted_climate\": predicted_climate}, ignore_index=True)\n",
      "<ipython-input-11-d6c8080a4bea>:27: FutureWarning: The frame.append method is deprecated and will be removed from pandas in a future version. Use pandas.concat instead.\n",
      "  results = results.append({\"station\": station, \"actual_climate\": actual_climate, \"predicted_climate\": predicted_climate}, ignore_index=True)\n",
      "<ipython-input-11-d6c8080a4bea>:27: FutureWarning: The frame.append method is deprecated and will be removed from pandas in a future version. Use pandas.concat instead.\n",
      "  results = results.append({\"station\": station, \"actual_climate\": actual_climate, \"predicted_climate\": predicted_climate}, ignore_index=True)\n",
      "<ipython-input-11-d6c8080a4bea>:27: FutureWarning: The frame.append method is deprecated and will be removed from pandas in a future version. Use pandas.concat instead.\n",
      "  results = results.append({\"station\": station, \"actual_climate\": actual_climate, \"predicted_climate\": predicted_climate}, ignore_index=True)\n",
      "<ipython-input-11-d6c8080a4bea>:27: FutureWarning: The frame.append method is deprecated and will be removed from pandas in a future version. Use pandas.concat instead.\n",
      "  results = results.append({\"station\": station, \"actual_climate\": actual_climate, \"predicted_climate\": predicted_climate}, ignore_index=True)\n",
      "<ipython-input-11-d6c8080a4bea>:27: FutureWarning: The frame.append method is deprecated and will be removed from pandas in a future version. Use pandas.concat instead.\n",
      "  results = results.append({\"station\": station, \"actual_climate\": actual_climate, \"predicted_climate\": predicted_climate}, ignore_index=True)\n",
      "<ipython-input-11-d6c8080a4bea>:27: FutureWarning: The frame.append method is deprecated and will be removed from pandas in a future version. Use pandas.concat instead.\n",
      "  results = results.append({\"station\": station, \"actual_climate\": actual_climate, \"predicted_climate\": predicted_climate}, ignore_index=True)\n",
      "<ipython-input-11-d6c8080a4bea>:27: FutureWarning: The frame.append method is deprecated and will be removed from pandas in a future version. Use pandas.concat instead.\n",
      "  results = results.append({\"station\": station, \"actual_climate\": actual_climate, \"predicted_climate\": predicted_climate}, ignore_index=True)\n",
      "<ipython-input-11-d6c8080a4bea>:27: FutureWarning: The frame.append method is deprecated and will be removed from pandas in a future version. Use pandas.concat instead.\n",
      "  results = results.append({\"station\": station, \"actual_climate\": actual_climate, \"predicted_climate\": predicted_climate}, ignore_index=True)\n",
      "<ipython-input-11-d6c8080a4bea>:27: FutureWarning: The frame.append method is deprecated and will be removed from pandas in a future version. Use pandas.concat instead.\n",
      "  results = results.append({\"station\": station, \"actual_climate\": actual_climate, \"predicted_climate\": predicted_climate}, ignore_index=True)\n",
      "<ipython-input-11-d6c8080a4bea>:27: FutureWarning: The frame.append method is deprecated and will be removed from pandas in a future version. Use pandas.concat instead.\n",
      "  results = results.append({\"station\": station, \"actual_climate\": actual_climate, \"predicted_climate\": predicted_climate}, ignore_index=True)\n",
      "<ipython-input-11-d6c8080a4bea>:27: FutureWarning: The frame.append method is deprecated and will be removed from pandas in a future version. Use pandas.concat instead.\n",
      "  results = results.append({\"station\": station, \"actual_climate\": actual_climate, \"predicted_climate\": predicted_climate}, ignore_index=True)\n",
      "<ipython-input-11-d6c8080a4bea>:27: FutureWarning: The frame.append method is deprecated and will be removed from pandas in a future version. Use pandas.concat instead.\n",
      "  results = results.append({\"station\": station, \"actual_climate\": actual_climate, \"predicted_climate\": predicted_climate}, ignore_index=True)\n",
      "<ipython-input-11-d6c8080a4bea>:27: FutureWarning: The frame.append method is deprecated and will be removed from pandas in a future version. Use pandas.concat instead.\n",
      "  results = results.append({\"station\": station, \"actual_climate\": actual_climate, \"predicted_climate\": predicted_climate}, ignore_index=True)\n"
     ]
    }
   ],
   "source": [
    "import pandas as pd\n",
    "\n",
    "# Load the data\n",
    "data = pd.read_csv(\"predictions_vs_actual.csv\")\n",
    "\n",
    "# Create an empty DataFrame to store the results\n",
    "results = pd.DataFrame(columns=[\"station\", \"actual_climate\", \"predicted_climate\"])\n",
    "\n",
    "# For each station, compute the actual and predicted climate types\n",
    "for station in data[\"station\"].unique():\n",
    "    # Get the data for this station\n",
    "    station_data = data[data[\"station\"] == station]\n",
    "\n",
    "    # Get the actual monthly average temperatures and precipitations\n",
    "    actual_monthly_temperature = station_data[[\"actual_tavg_\" + str(i) for i in range(1, 13)]].values.flatten().tolist()\n",
    "    actual_monthly_precipitation = station_data[[\"actual_prcp_\" + str(i) for i in range(1, 13)]].values.flatten().tolist()\n",
    "\n",
    "    # Get the predicted monthly average temperatures and precipitations\n",
    "    predicted_monthly_temperature = station_data[[\"predicted_tavg_\" + str(i) for i in range(1, 13)]].values.flatten().tolist()\n",
    "    predicted_monthly_precipitation = station_data[[\"predicted_prcp_\" + str(i) for i in range(1, 13)]].values.flatten().tolist()\n",
    "\n",
    "    # Calculate the climate type\n",
    "    actual_climate = koppen(actual_monthly_temperature, actual_monthly_precipitation, \"N\")  # Assuming all stations are in Northern hemisphere\n",
    "    predicted_climate = koppen(predicted_monthly_temperature, predicted_monthly_precipitation, \"N\")\n",
    "\n",
    "    # Save the results\n",
    "    results = results.append({\"station\": station, \"actual_climate\": actual_climate, \"predicted_climate\": predicted_climate}, ignore_index=True)\n"
   ]
  },
  {
   "cell_type": "code",
   "execution_count": 12,
   "metadata": {
    "colab": {
     "base_uri": "https://localhost:8080/",
     "height": 424
    },
    "id": "St0RtxLXg4nf",
    "outputId": "9af84033-a3b1-4ad0-d5cb-96c69a4b1b79"
   },
   "outputs": [
    {
     "data": {
      "text/html": [
       "\n",
       "  <div id=\"df-4f885838-908a-4ac6-81f6-f10cdd022825\" class=\"colab-df-container\">\n",
       "    <div>\n",
       "<style scoped>\n",
       "    .dataframe tbody tr th:only-of-type {\n",
       "        vertical-align: middle;\n",
       "    }\n",
       "\n",
       "    .dataframe tbody tr th {\n",
       "        vertical-align: top;\n",
       "    }\n",
       "\n",
       "    .dataframe thead th {\n",
       "        text-align: right;\n",
       "    }\n",
       "</style>\n",
       "<table border=\"1\" class=\"dataframe\">\n",
       "  <thead>\n",
       "    <tr style=\"text-align: right;\">\n",
       "      <th></th>\n",
       "      <th>station</th>\n",
       "      <th>actual_climate</th>\n",
       "      <th>predicted_climate</th>\n",
       "    </tr>\n",
       "  </thead>\n",
       "  <tbody>\n",
       "    <tr>\n",
       "      <th>0</th>\n",
       "      <td>02935</td>\n",
       "      <td>Dsa</td>\n",
       "      <td>Dsa</td>\n",
       "    </tr>\n",
       "    <tr>\n",
       "      <th>1</th>\n",
       "      <td>01025</td>\n",
       "      <td>Dsa</td>\n",
       "      <td>Dsa</td>\n",
       "    </tr>\n",
       "    <tr>\n",
       "      <th>2</th>\n",
       "      <td>D4592</td>\n",
       "      <td>Dsa</td>\n",
       "      <td>Csa</td>\n",
       "    </tr>\n",
       "    <tr>\n",
       "      <th>3</th>\n",
       "      <td>11035</td>\n",
       "      <td>Csa</td>\n",
       "      <td>BSk</td>\n",
       "    </tr>\n",
       "    <tr>\n",
       "      <th>4</th>\n",
       "      <td>D2444</td>\n",
       "      <td>Csa</td>\n",
       "      <td>Csa</td>\n",
       "    </tr>\n",
       "    <tr>\n",
       "      <th>...</th>\n",
       "      <td>...</td>\n",
       "      <td>...</td>\n",
       "      <td>...</td>\n",
       "    </tr>\n",
       "    <tr>\n",
       "      <th>129</th>\n",
       "      <td>10469</td>\n",
       "      <td>Csa</td>\n",
       "      <td>Csa</td>\n",
       "    </tr>\n",
       "    <tr>\n",
       "      <th>130</th>\n",
       "      <td>10496</td>\n",
       "      <td>Csa</td>\n",
       "      <td>BSk</td>\n",
       "    </tr>\n",
       "    <tr>\n",
       "      <th>131</th>\n",
       "      <td>72429</td>\n",
       "      <td>Dsa</td>\n",
       "      <td>Dsa</td>\n",
       "    </tr>\n",
       "    <tr>\n",
       "      <th>132</th>\n",
       "      <td>03005</td>\n",
       "      <td>Csa</td>\n",
       "      <td>Csa</td>\n",
       "    </tr>\n",
       "    <tr>\n",
       "      <th>133</th>\n",
       "      <td>72617</td>\n",
       "      <td>Dsa</td>\n",
       "      <td>Dsa</td>\n",
       "    </tr>\n",
       "  </tbody>\n",
       "</table>\n",
       "<p>134 rows × 3 columns</p>\n",
       "</div>\n",
       "    <div class=\"colab-df-buttons\">\n",
       "\n",
       "  <div class=\"colab-df-container\">\n",
       "    <button class=\"colab-df-convert\" onclick=\"convertToInteractive('df-4f885838-908a-4ac6-81f6-f10cdd022825')\"\n",
       "            title=\"Convert this dataframe to an interactive table.\"\n",
       "            style=\"display:none;\">\n",
       "\n",
       "  <svg xmlns=\"http://www.w3.org/2000/svg\" height=\"24px\" viewBox=\"0 -960 960 960\">\n",
       "    <path d=\"M120-120v-720h720v720H120Zm60-500h600v-160H180v160Zm220 220h160v-160H400v160Zm0 220h160v-160H400v160ZM180-400h160v-160H180v160Zm440 0h160v-160H620v160ZM180-180h160v-160H180v160Zm440 0h160v-160H620v160Z\"/>\n",
       "  </svg>\n",
       "    </button>\n",
       "\n",
       "  <style>\n",
       "    .colab-df-container {\n",
       "      display:flex;\n",
       "      gap: 12px;\n",
       "    }\n",
       "\n",
       "    .colab-df-convert {\n",
       "      background-color: #E8F0FE;\n",
       "      border: none;\n",
       "      border-radius: 50%;\n",
       "      cursor: pointer;\n",
       "      display: none;\n",
       "      fill: #1967D2;\n",
       "      height: 32px;\n",
       "      padding: 0 0 0 0;\n",
       "      width: 32px;\n",
       "    }\n",
       "\n",
       "    .colab-df-convert:hover {\n",
       "      background-color: #E2EBFA;\n",
       "      box-shadow: 0px 1px 2px rgba(60, 64, 67, 0.3), 0px 1px 3px 1px rgba(60, 64, 67, 0.15);\n",
       "      fill: #174EA6;\n",
       "    }\n",
       "\n",
       "    .colab-df-buttons div {\n",
       "      margin-bottom: 4px;\n",
       "    }\n",
       "\n",
       "    [theme=dark] .colab-df-convert {\n",
       "      background-color: #3B4455;\n",
       "      fill: #D2E3FC;\n",
       "    }\n",
       "\n",
       "    [theme=dark] .colab-df-convert:hover {\n",
       "      background-color: #434B5C;\n",
       "      box-shadow: 0px 1px 3px 1px rgba(0, 0, 0, 0.15);\n",
       "      filter: drop-shadow(0px 1px 2px rgba(0, 0, 0, 0.3));\n",
       "      fill: #FFFFFF;\n",
       "    }\n",
       "  </style>\n",
       "\n",
       "    <script>\n",
       "      const buttonEl =\n",
       "        document.querySelector('#df-4f885838-908a-4ac6-81f6-f10cdd022825 button.colab-df-convert');\n",
       "      buttonEl.style.display =\n",
       "        google.colab.kernel.accessAllowed ? 'block' : 'none';\n",
       "\n",
       "      async function convertToInteractive(key) {\n",
       "        const element = document.querySelector('#df-4f885838-908a-4ac6-81f6-f10cdd022825');\n",
       "        const dataTable =\n",
       "          await google.colab.kernel.invokeFunction('convertToInteractive',\n",
       "                                                    [key], {});\n",
       "        if (!dataTable) return;\n",
       "\n",
       "        const docLinkHtml = 'Like what you see? Visit the ' +\n",
       "          '<a target=\"_blank\" href=https://colab.research.google.com/notebooks/data_table.ipynb>data table notebook</a>'\n",
       "          + ' to learn more about interactive tables.';\n",
       "        element.innerHTML = '';\n",
       "        dataTable['output_type'] = 'display_data';\n",
       "        await google.colab.output.renderOutput(dataTable, element);\n",
       "        const docLink = document.createElement('div');\n",
       "        docLink.innerHTML = docLinkHtml;\n",
       "        element.appendChild(docLink);\n",
       "      }\n",
       "    </script>\n",
       "  </div>\n",
       "\n",
       "\n",
       "<div id=\"df-e7a20232-a24a-4941-853c-50992b344e3e\">\n",
       "  <button class=\"colab-df-quickchart\" onclick=\"quickchart('df-e7a20232-a24a-4941-853c-50992b344e3e')\"\n",
       "            title=\"Suggest charts.\"\n",
       "            style=\"display:none;\">\n",
       "\n",
       "<svg xmlns=\"http://www.w3.org/2000/svg\" height=\"24px\"viewBox=\"0 0 24 24\"\n",
       "     width=\"24px\">\n",
       "    <g>\n",
       "        <path d=\"M19 3H5c-1.1 0-2 .9-2 2v14c0 1.1.9 2 2 2h14c1.1 0 2-.9 2-2V5c0-1.1-.9-2-2-2zM9 17H7v-7h2v7zm4 0h-2V7h2v10zm4 0h-2v-4h2v4z\"/>\n",
       "    </g>\n",
       "</svg>\n",
       "  </button>\n",
       "\n",
       "<style>\n",
       "  .colab-df-quickchart {\n",
       "      --bg-color: #E8F0FE;\n",
       "      --fill-color: #1967D2;\n",
       "      --hover-bg-color: #E2EBFA;\n",
       "      --hover-fill-color: #174EA6;\n",
       "      --disabled-fill-color: #AAA;\n",
       "      --disabled-bg-color: #DDD;\n",
       "  }\n",
       "\n",
       "  [theme=dark] .colab-df-quickchart {\n",
       "      --bg-color: #3B4455;\n",
       "      --fill-color: #D2E3FC;\n",
       "      --hover-bg-color: #434B5C;\n",
       "      --hover-fill-color: #FFFFFF;\n",
       "      --disabled-bg-color: #3B4455;\n",
       "      --disabled-fill-color: #666;\n",
       "  }\n",
       "\n",
       "  .colab-df-quickchart {\n",
       "    background-color: var(--bg-color);\n",
       "    border: none;\n",
       "    border-radius: 50%;\n",
       "    cursor: pointer;\n",
       "    display: none;\n",
       "    fill: var(--fill-color);\n",
       "    height: 32px;\n",
       "    padding: 0;\n",
       "    width: 32px;\n",
       "  }\n",
       "\n",
       "  .colab-df-quickchart:hover {\n",
       "    background-color: var(--hover-bg-color);\n",
       "    box-shadow: 0 1px 2px rgba(60, 64, 67, 0.3), 0 1px 3px 1px rgba(60, 64, 67, 0.15);\n",
       "    fill: var(--button-hover-fill-color);\n",
       "  }\n",
       "\n",
       "  .colab-df-quickchart-complete:disabled,\n",
       "  .colab-df-quickchart-complete:disabled:hover {\n",
       "    background-color: var(--disabled-bg-color);\n",
       "    fill: var(--disabled-fill-color);\n",
       "    box-shadow: none;\n",
       "  }\n",
       "\n",
       "  .colab-df-spinner {\n",
       "    border: 2px solid var(--fill-color);\n",
       "    border-color: transparent;\n",
       "    border-bottom-color: var(--fill-color);\n",
       "    animation:\n",
       "      spin 1s steps(1) infinite;\n",
       "  }\n",
       "\n",
       "  @keyframes spin {\n",
       "    0% {\n",
       "      border-color: transparent;\n",
       "      border-bottom-color: var(--fill-color);\n",
       "      border-left-color: var(--fill-color);\n",
       "    }\n",
       "    20% {\n",
       "      border-color: transparent;\n",
       "      border-left-color: var(--fill-color);\n",
       "      border-top-color: var(--fill-color);\n",
       "    }\n",
       "    30% {\n",
       "      border-color: transparent;\n",
       "      border-left-color: var(--fill-color);\n",
       "      border-top-color: var(--fill-color);\n",
       "      border-right-color: var(--fill-color);\n",
       "    }\n",
       "    40% {\n",
       "      border-color: transparent;\n",
       "      border-right-color: var(--fill-color);\n",
       "      border-top-color: var(--fill-color);\n",
       "    }\n",
       "    60% {\n",
       "      border-color: transparent;\n",
       "      border-right-color: var(--fill-color);\n",
       "    }\n",
       "    80% {\n",
       "      border-color: transparent;\n",
       "      border-right-color: var(--fill-color);\n",
       "      border-bottom-color: var(--fill-color);\n",
       "    }\n",
       "    90% {\n",
       "      border-color: transparent;\n",
       "      border-bottom-color: var(--fill-color);\n",
       "    }\n",
       "  }\n",
       "</style>\n",
       "\n",
       "  <script>\n",
       "    async function quickchart(key) {\n",
       "      const quickchartButtonEl =\n",
       "        document.querySelector('#' + key + ' button');\n",
       "      quickchartButtonEl.disabled = true;  // To prevent multiple clicks.\n",
       "      quickchartButtonEl.classList.add('colab-df-spinner');\n",
       "      try {\n",
       "        const charts = await google.colab.kernel.invokeFunction(\n",
       "            'suggestCharts', [key], {});\n",
       "      } catch (error) {\n",
       "        console.error('Error during call to suggestCharts:', error);\n",
       "      }\n",
       "      quickchartButtonEl.classList.remove('colab-df-spinner');\n",
       "      quickchartButtonEl.classList.add('colab-df-quickchart-complete');\n",
       "    }\n",
       "    (() => {\n",
       "      let quickchartButtonEl =\n",
       "        document.querySelector('#df-e7a20232-a24a-4941-853c-50992b344e3e button');\n",
       "      quickchartButtonEl.style.display =\n",
       "        google.colab.kernel.accessAllowed ? 'block' : 'none';\n",
       "    })();\n",
       "  </script>\n",
       "</div>\n",
       "\n",
       "  <div id=\"id_d5b5c7e0-e639-4657-86e0-97c50779d5c8\">\n",
       "    <style>\n",
       "      .colab-df-generate {\n",
       "        background-color: #E8F0FE;\n",
       "        border: none;\n",
       "        border-radius: 50%;\n",
       "        cursor: pointer;\n",
       "        display: none;\n",
       "        fill: #1967D2;\n",
       "        height: 32px;\n",
       "        padding: 0 0 0 0;\n",
       "        width: 32px;\n",
       "      }\n",
       "\n",
       "      .colab-df-generate:hover {\n",
       "        background-color: #E2EBFA;\n",
       "        box-shadow: 0px 1px 2px rgba(60, 64, 67, 0.3), 0px 1px 3px 1px rgba(60, 64, 67, 0.15);\n",
       "        fill: #174EA6;\n",
       "      }\n",
       "\n",
       "      [theme=dark] .colab-df-generate {\n",
       "        background-color: #3B4455;\n",
       "        fill: #D2E3FC;\n",
       "      }\n",
       "\n",
       "      [theme=dark] .colab-df-generate:hover {\n",
       "        background-color: #434B5C;\n",
       "        box-shadow: 0px 1px 3px 1px rgba(0, 0, 0, 0.15);\n",
       "        filter: drop-shadow(0px 1px 2px rgba(0, 0, 0, 0.3));\n",
       "        fill: #FFFFFF;\n",
       "      }\n",
       "    </style>\n",
       "    <button class=\"colab-df-generate\" onclick=\"generateWithVariable('results')\"\n",
       "            title=\"Generate code using this dataframe.\"\n",
       "            style=\"display:none;\">\n",
       "\n",
       "  <svg xmlns=\"http://www.w3.org/2000/svg\" height=\"24px\"viewBox=\"0 0 24 24\"\n",
       "       width=\"24px\">\n",
       "    <path d=\"M7,19H8.4L18.45,9,17,7.55,7,17.6ZM5,21V16.75L18.45,3.32a2,2,0,0,1,2.83,0l1.4,1.43a1.91,1.91,0,0,1,.58,1.4,1.91,1.91,0,0,1-.58,1.4L9.25,21ZM18.45,9,17,7.55Zm-12,3A5.31,5.31,0,0,0,4.9,8.1,5.31,5.31,0,0,0,1,6.5,5.31,5.31,0,0,0,4.9,4.9,5.31,5.31,0,0,0,6.5,1,5.31,5.31,0,0,0,8.1,4.9,5.31,5.31,0,0,0,12,6.5,5.46,5.46,0,0,0,6.5,12Z\"/>\n",
       "  </svg>\n",
       "    </button>\n",
       "    <script>\n",
       "      (() => {\n",
       "      const buttonEl =\n",
       "        document.querySelector('#id_d5b5c7e0-e639-4657-86e0-97c50779d5c8 button.colab-df-generate');\n",
       "      buttonEl.style.display =\n",
       "        google.colab.kernel.accessAllowed ? 'block' : 'none';\n",
       "\n",
       "      buttonEl.onclick = () => {\n",
       "        google.colab.notebook.generateWithVariable('results');\n",
       "      }\n",
       "      })();\n",
       "    </script>\n",
       "  </div>\n",
       "\n",
       "    </div>\n",
       "  </div>\n"
      ],
      "text/plain": [
       "    station actual_climate predicted_climate\n",
       "0     02935            Dsa               Dsa\n",
       "1     01025            Dsa               Dsa\n",
       "2     D4592            Dsa               Csa\n",
       "3     11035            Csa               BSk\n",
       "4     D2444            Csa               Csa\n",
       "..      ...            ...               ...\n",
       "129   10469            Csa               Csa\n",
       "130   10496            Csa               BSk\n",
       "131   72429            Dsa               Dsa\n",
       "132   03005            Csa               Csa\n",
       "133   72617            Dsa               Dsa\n",
       "\n",
       "[134 rows x 3 columns]"
      ]
     },
     "execution_count": 12,
     "metadata": {},
     "output_type": "execute_result"
    }
   ],
   "source": [
    "results"
   ]
  },
  {
   "cell_type": "code",
   "execution_count": 13,
   "metadata": {
    "colab": {
     "base_uri": "https://localhost:8080/"
    },
    "id": "kP5zVp6bg-Td",
    "outputId": "c441258e-bca1-4458-e0dd-90a96c374fc0"
   },
   "outputs": [
    {
     "name": "stdout",
     "output_type": "stream",
     "text": [
      "Precision: 0.8070\n",
      "Recall: 0.8431\n",
      "F1 Score: 0.8161\n"
     ]
    }
   ],
   "source": [
    "from sklearn.metrics import precision_score, recall_score, f1_score\n",
    "\n",
    "# Getting true labels and predictions\n",
    "y_true = results[\"actual_climate\"].tolist()\n",
    "y_pred = results[\"predicted_climate\"].tolist()\n",
    "\n",
    "# Calculate metrics\n",
    "precision = precision_score(y_true, y_pred, average='macro')\n",
    "recall = recall_score(y_true, y_pred, average='macro')\n",
    "f1 = f1_score(y_true, y_pred, average='macro')\n",
    "\n",
    "print(f\"Precision: {precision:.4f}\")\n",
    "print(f\"Recall: {recall:.4f}\")\n",
    "print(f\"F1 Score: {f1:.4f}\")"
   ]
  }
 ],
 "metadata": {
  "accelerator": "GPU",
  "colab": {
   "gpuType": "A100",
   "machine_shape": "hm",
   "provenance": []
  },
  "kernelspec": {
   "display_name": "Python 3 (ipykernel)",
   "language": "python",
   "name": "python3"
  },
  "language_info": {
   "name": "python"
  }
 },
 "nbformat": 4,
 "nbformat_minor": 1
}
