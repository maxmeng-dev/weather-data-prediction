{
  "cells": [
    {
      "cell_type": "code",
      "execution_count": 1,
      "metadata": {
        "id": "pKyQxfVAmc0k",
        "colab": {
          "base_uri": "https://localhost:8080/"
        },
        "outputId": "bb837224-1fdb-483a-c1f4-de1f775de2f8"
      },
      "outputs": [
        {
          "output_type": "stream",
          "name": "stdout",
          "text": [
            "cuda\n",
            "t 2.1.0+cu118\n"
          ]
        }
      ],
      "source": [
        "import torch\n",
        "\n",
        "device = torch.device(\"cuda\" if torch.cuda.is_available() else \"cpu\")\n",
        "\n",
        "print(device)\n",
        "print(\"t\",torch.__version__)\n",
        "\n",
        "torch.manual_seed(42)\n",
        "if torch.cuda.is_available():\n",
        "    torch.cuda.manual_seed_all(42)"
      ]
    },
    {
      "cell_type": "code",
      "source": [],
      "metadata": {
        "id": "HMrh4RtHANoG"
      },
      "execution_count": 1,
      "outputs": []
    },
    {
      "cell_type": "code",
      "source": [
        "import torch\n",
        "import torch.nn as nn\n",
        "import pandas as pd\n",
        "import numpy as np\n",
        "import math\n",
        "\n",
        "# Transformer Model\n",
        "class TimeSeriesTransformer(nn.Module):\n",
        "    def __init__(self, input_dim, model_dim, num_heads, num_layers, dropout=0.1):\n",
        "        super(TimeSeriesTransformer, self).__init__()\n",
        "        self.linear = nn.Linear(input_dim, model_dim)\n",
        "        self.transformer = nn.Transformer(d_model=model_dim, nhead=num_heads,\n",
        "                                          num_encoder_layers=num_layers,\n",
        "                                          dropout=dropout)\n",
        "        self.fc = nn.Linear(model_dim, input_dim)\n",
        "\n",
        "    def forward(self, src, tgt=None):\n",
        "        src = self.linear(src)\n",
        "        if tgt is None:\n",
        "            tgt = src\n",
        "        else:\n",
        "            tgt = self.linear(tgt)\n",
        "        output = self.transformer(src, tgt)\n",
        "        return self.fc(output)"
      ],
      "metadata": {
        "id": "adwdwK01KgZi"
      },
      "execution_count": 2,
      "outputs": []
    },
    {
      "cell_type": "code",
      "source": [
        "import torch\n",
        "import torch.nn as nn\n",
        "import pandas as pd\n",
        "import numpy as np\n",
        "import math\n",
        "\n",
        "# Load data\n",
        "data = pd.read_csv('filtered_data.csv')\n",
        "\n",
        "# Preprocess data\n",
        "data['tavg'] = pd.to_numeric(data['tavg'], errors='coerce')\n",
        "data['prcp'] = pd.to_numeric(data['prcp'], errors='coerce')\n",
        "data.dropna(subset=['tavg', 'prcp'], inplace=True)\n",
        "\n",
        "# Normalize data\n",
        "tavg_mean, tavg_std = data['tavg'].mean(), data['tavg'].std()\n",
        "prcp_mean, prcp_std = data['prcp'].mean(), data['prcp'].std()\n",
        "data['tavg_norm'] = (data['tavg'] - tavg_mean) / tavg_std\n",
        "data['prcp_norm'] = (data['prcp'] - prcp_mean) / prcp_std\n",
        "\n",
        "\n",
        "results_normalised = []\n",
        "results=[]\n",
        "stations = data['station'].unique()\n",
        "\n",
        "for station in stations:\n",
        "    train_mask = (data['station'] == station) & (data['year'].between(1977, 2019))\n",
        "    val_mask = (data['station'] == station) & (data['year'] == 2020)\n",
        "    train_data = data[train_mask][['tavg_norm', 'prcp_norm']].values\n",
        "    val_data = data[val_mask][['tavg_norm', 'prcp_norm']].values\n",
        "\n",
        "    train_src = torch.tensor(train_data, dtype=torch.float32).unsqueeze(0).to(device)\n",
        "    # Decoder target should have the same length as train_src but ending in val_data (2020 data)\n",
        "    train_tgt = np.vstack([train_data[:-12], val_data])\n",
        "    train_tgt = torch.tensor(train_tgt, dtype=torch.float32).unsqueeze(0).to(device)\n",
        "\n",
        "    model = TimeSeriesTransformer(2, 512, 8, 3).to(device)\n",
        "    criterion = nn.MSELoss()\n",
        "    optimizer = torch.optim.Adam(model.parameters(), lr=0.001)\n",
        "\n",
        "    epochs = 120\n",
        "    for epoch in range(epochs):\n",
        "        optimizer.zero_grad()\n",
        "        output = model(train_src, train_tgt)  # Encoder uses train_data, Decoder tries to predict val_data\n",
        "        loss = criterion(output[:, -12:], train_tgt[:, -12:])  # Focus loss on the last 12 months (2020 data)\n",
        "        loss.backward()\n",
        "        optimizer.step()\n",
        "\n",
        "        if (epoch+1) % 24 == 0:\n",
        "            print(f'Station {station}, Epoch [{epoch+1}/{epochs}], Loss: {loss.item():.4f}')\n",
        "\n",
        "    model.eval()\n",
        "    with torch.no_grad():\n",
        "        # For prediction, provide only the encoder input. Let the decoder generate predictions.\n",
        "        pred_2021 = model(train_src)\n",
        "        pred_2021 = pred_2021[:, -12:]\n",
        "\n",
        "    # Retrieve last 12 months for predictions\n",
        "    pred_values = pred_2021[0, -12:].tolist()\n",
        "\n",
        "    actual_tavg_norm_2021 = data[(data['station'] == station) & (data['year'] == 2021)][['tavg_norm']].values.flatten().tolist()\n",
        "    actual_prcp_norm_2021 = data[(data['station'] == station) & (data['year'] == 2021)][['prcp_norm']].values.flatten().tolist()\n",
        "\n",
        "    pred_tavg_norm = [x[0] for x in pred_values]\n",
        "    pred_prcp_norm = [x[1] for x in pred_values]\n",
        "\n",
        "    station_results = [station] + pred_tavg_norm + pred_prcp_norm + actual_tavg_norm_2021 + actual_prcp_norm_2021\n",
        "    results_normalised.append(station_results)\n",
        "\n",
        "    #### Inverse normalization\n",
        "    pred_tavg = [x[0] * tavg_std + tavg_mean for x in pred_values]\n",
        "    pred_prcp = [x[1] * prcp_std + prcp_mean for x in pred_values]\n",
        "    actual_tavg_2021 = data[(data['station'] == station) & (data['year'] == 2021)][['tavg']].values.flatten().tolist()\n",
        "    actual_prcp_2021 = data[(data['station'] == station) & (data['year'] == 2021)][['prcp']].values.flatten().tolist()\n",
        "\n",
        "    station_results = [station] + pred_tavg + pred_prcp + actual_tavg_2021 + actual_prcp_2021\n",
        "    results.append(station_results)\n",
        "\n",
        "\n",
        "\n",
        "# Create final CSV with origin data\n",
        "columns = ['station'] + [f'predicted_tavg_{i}' for i in range(1, 13)] + [f'predicted_prcp_{i}' for i in range(1, 13)] + [f'actual_tavg_{i}' for i in range(1, 13)] + [f'actual_prcp_{i}' for i in range(1, 13)]\n",
        "df_results = pd.DataFrame(results, columns=columns)\n",
        "df_results.to_csv('predictions_vs_actual.csv', index=False)"
      ],
      "metadata": {
        "colab": {
          "base_uri": "https://localhost:8080/"
        },
        "id": "OhwngMh-JthE",
        "outputId": "237ea6e8-dc91-4484-aec5-b0c8dbf16c07"
      },
      "execution_count": 3,
      "outputs": [
        {
          "output_type": "stream",
          "name": "stderr",
          "text": [
            "/usr/local/lib/python3.10/dist-packages/torch/nn/modules/transformer.py:282: UserWarning: enable_nested_tensor is True, but self.use_nested_tensor is False because encoder_layer.self_attn.batch_first was not True(use batch_first for better inference performance)\n",
            "  warnings.warn(f\"enable_nested_tensor is True, but self.use_nested_tensor is False because {why_not_sparsity_fast_path}\")\n"
          ]
        },
        {
          "output_type": "stream",
          "name": "stdout",
          "text": [
            "Station 02935, Epoch [24/120], Loss: 0.3794\n",
            "Station 02935, Epoch [48/120], Loss: 0.1546\n",
            "Station 02935, Epoch [72/120], Loss: 0.1468\n",
            "Station 02935, Epoch [96/120], Loss: 0.1421\n",
            "Station 02935, Epoch [120/120], Loss: 0.1580\n"
          ]
        },
        {
          "output_type": "stream",
          "name": "stderr",
          "text": [
            "/usr/local/lib/python3.10/dist-packages/torch/nn/modules/transformer.py:282: UserWarning: enable_nested_tensor is True, but self.use_nested_tensor is False because encoder_layer.self_attn.batch_first was not True(use batch_first for better inference performance)\n",
            "  warnings.warn(f\"enable_nested_tensor is True, but self.use_nested_tensor is False because {why_not_sparsity_fast_path}\")\n"
          ]
        },
        {
          "output_type": "stream",
          "name": "stdout",
          "text": [
            "Station 01025, Epoch [24/120], Loss: 0.8257\n",
            "Station 01025, Epoch [48/120], Loss: 0.7516\n",
            "Station 01025, Epoch [72/120], Loss: 0.6818\n",
            "Station 01025, Epoch [96/120], Loss: 0.6937\n",
            "Station 01025, Epoch [120/120], Loss: 0.5040\n"
          ]
        },
        {
          "output_type": "stream",
          "name": "stderr",
          "text": [
            "/usr/local/lib/python3.10/dist-packages/torch/nn/modules/transformer.py:282: UserWarning: enable_nested_tensor is True, but self.use_nested_tensor is False because encoder_layer.self_attn.batch_first was not True(use batch_first for better inference performance)\n",
            "  warnings.warn(f\"enable_nested_tensor is True, but self.use_nested_tensor is False because {why_not_sparsity_fast_path}\")\n"
          ]
        },
        {
          "output_type": "stream",
          "name": "stdout",
          "text": [
            "Station D4592, Epoch [24/120], Loss: 0.5193\n",
            "Station D4592, Epoch [48/120], Loss: 0.3226\n",
            "Station D4592, Epoch [72/120], Loss: 0.1836\n",
            "Station D4592, Epoch [96/120], Loss: 0.2390\n",
            "Station D4592, Epoch [120/120], Loss: 0.1960\n"
          ]
        },
        {
          "output_type": "stream",
          "name": "stderr",
          "text": [
            "/usr/local/lib/python3.10/dist-packages/torch/nn/modules/transformer.py:282: UserWarning: enable_nested_tensor is True, but self.use_nested_tensor is False because encoder_layer.self_attn.batch_first was not True(use batch_first for better inference performance)\n",
            "  warnings.warn(f\"enable_nested_tensor is True, but self.use_nested_tensor is False because {why_not_sparsity_fast_path}\")\n"
          ]
        },
        {
          "output_type": "stream",
          "name": "stdout",
          "text": [
            "Station 11035, Epoch [24/120], Loss: 0.2747\n",
            "Station 11035, Epoch [48/120], Loss: 0.1933\n",
            "Station 11035, Epoch [72/120], Loss: 0.2227\n",
            "Station 11035, Epoch [96/120], Loss: 0.1831\n",
            "Station 11035, Epoch [120/120], Loss: 0.1820\n"
          ]
        },
        {
          "output_type": "stream",
          "name": "stderr",
          "text": [
            "/usr/local/lib/python3.10/dist-packages/torch/nn/modules/transformer.py:282: UserWarning: enable_nested_tensor is True, but self.use_nested_tensor is False because encoder_layer.self_attn.batch_first was not True(use batch_first for better inference performance)\n",
            "  warnings.warn(f\"enable_nested_tensor is True, but self.use_nested_tensor is False because {why_not_sparsity_fast_path}\")\n"
          ]
        },
        {
          "output_type": "stream",
          "name": "stdout",
          "text": [
            "Station D2444, Epoch [24/120], Loss: 0.5147\n",
            "Station D2444, Epoch [48/120], Loss: 0.4277\n",
            "Station D2444, Epoch [72/120], Loss: 0.2063\n",
            "Station D2444, Epoch [96/120], Loss: 0.2019\n",
            "Station D2444, Epoch [120/120], Loss: 0.1666\n"
          ]
        },
        {
          "output_type": "stream",
          "name": "stderr",
          "text": [
            "/usr/local/lib/python3.10/dist-packages/torch/nn/modules/transformer.py:282: UserWarning: enable_nested_tensor is True, but self.use_nested_tensor is False because encoder_layer.self_attn.batch_first was not True(use batch_first for better inference performance)\n",
            "  warnings.warn(f\"enable_nested_tensor is True, but self.use_nested_tensor is False because {why_not_sparsity_fast_path}\")\n"
          ]
        },
        {
          "output_type": "stream",
          "name": "stdout",
          "text": [
            "Station D4169, Epoch [24/120], Loss: 0.4841\n",
            "Station D4169, Epoch [48/120], Loss: 0.2782\n",
            "Station D4169, Epoch [72/120], Loss: 0.1871\n",
            "Station D4169, Epoch [96/120], Loss: 0.1759\n",
            "Station D4169, Epoch [120/120], Loss: 0.2099\n"
          ]
        },
        {
          "output_type": "stream",
          "name": "stderr",
          "text": [
            "/usr/local/lib/python3.10/dist-packages/torch/nn/modules/transformer.py:282: UserWarning: enable_nested_tensor is True, but self.use_nested_tensor is False because encoder_layer.self_attn.batch_first was not True(use batch_first for better inference performance)\n",
            "  warnings.warn(f\"enable_nested_tensor is True, but self.use_nested_tensor is False because {why_not_sparsity_fast_path}\")\n"
          ]
        },
        {
          "output_type": "stream",
          "name": "stdout",
          "text": [
            "Station 10513, Epoch [24/120], Loss: 0.4663\n",
            "Station 10513, Epoch [48/120], Loss: 0.2337\n",
            "Station 10513, Epoch [72/120], Loss: 0.2594\n",
            "Station 10513, Epoch [96/120], Loss: 0.2279\n",
            "Station 10513, Epoch [120/120], Loss: 0.2354\n"
          ]
        },
        {
          "output_type": "stream",
          "name": "stderr",
          "text": [
            "/usr/local/lib/python3.10/dist-packages/torch/nn/modules/transformer.py:282: UserWarning: enable_nested_tensor is True, but self.use_nested_tensor is False because encoder_layer.self_attn.batch_first was not True(use batch_first for better inference performance)\n",
            "  warnings.warn(f\"enable_nested_tensor is True, but self.use_nested_tensor is False because {why_not_sparsity_fast_path}\")\n"
          ]
        },
        {
          "output_type": "stream",
          "name": "stdout",
          "text": [
            "Station 10261, Epoch [24/120], Loss: 0.3182\n",
            "Station 10261, Epoch [48/120], Loss: 0.3043\n",
            "Station 10261, Epoch [72/120], Loss: 0.1329\n",
            "Station 10261, Epoch [96/120], Loss: 0.1241\n",
            "Station 10261, Epoch [120/120], Loss: 0.1175\n"
          ]
        },
        {
          "output_type": "stream",
          "name": "stderr",
          "text": [
            "/usr/local/lib/python3.10/dist-packages/torch/nn/modules/transformer.py:282: UserWarning: enable_nested_tensor is True, but self.use_nested_tensor is False because encoder_layer.self_attn.batch_first was not True(use batch_first for better inference performance)\n",
            "  warnings.warn(f\"enable_nested_tensor is True, but self.use_nested_tensor is False because {why_not_sparsity_fast_path}\")\n"
          ]
        },
        {
          "output_type": "stream",
          "name": "stdout",
          "text": [
            "Station 72745, Epoch [24/120], Loss: 0.4974\n",
            "Station 72745, Epoch [48/120], Loss: 0.3534\n",
            "Station 72745, Epoch [72/120], Loss: 0.2444\n",
            "Station 72745, Epoch [96/120], Loss: 0.1889\n",
            "Station 72745, Epoch [120/120], Loss: 0.3856\n"
          ]
        },
        {
          "output_type": "stream",
          "name": "stderr",
          "text": [
            "/usr/local/lib/python3.10/dist-packages/torch/nn/modules/transformer.py:282: UserWarning: enable_nested_tensor is True, but self.use_nested_tensor is False because encoder_layer.self_attn.batch_first was not True(use batch_first for better inference performance)\n",
            "  warnings.warn(f\"enable_nested_tensor is True, but self.use_nested_tensor is False because {why_not_sparsity_fast_path}\")\n"
          ]
        },
        {
          "output_type": "stream",
          "name": "stdout",
          "text": [
            "Station D5664, Epoch [24/120], Loss: 0.5935\n",
            "Station D5664, Epoch [48/120], Loss: 0.4035\n",
            "Station D5664, Epoch [72/120], Loss: 0.3007\n",
            "Station D5664, Epoch [96/120], Loss: 0.3326\n",
            "Station D5664, Epoch [120/120], Loss: 0.3124\n"
          ]
        },
        {
          "output_type": "stream",
          "name": "stderr",
          "text": [
            "/usr/local/lib/python3.10/dist-packages/torch/nn/modules/transformer.py:282: UserWarning: enable_nested_tensor is True, but self.use_nested_tensor is False because encoder_layer.self_attn.batch_first was not True(use batch_first for better inference performance)\n",
            "  warnings.warn(f\"enable_nested_tensor is True, but self.use_nested_tensor is False because {why_not_sparsity_fast_path}\")\n"
          ]
        },
        {
          "output_type": "stream",
          "name": "stdout",
          "text": [
            "Station 72546, Epoch [24/120], Loss: 0.6251\n",
            "Station 72546, Epoch [48/120], Loss: 0.4340\n",
            "Station 72546, Epoch [72/120], Loss: 0.3675\n",
            "Station 72546, Epoch [96/120], Loss: 0.2531\n",
            "Station 72546, Epoch [120/120], Loss: 0.3094\n"
          ]
        },
        {
          "output_type": "stream",
          "name": "stderr",
          "text": [
            "/usr/local/lib/python3.10/dist-packages/torch/nn/modules/transformer.py:282: UserWarning: enable_nested_tensor is True, but self.use_nested_tensor is False because encoder_layer.self_attn.batch_first was not True(use batch_first for better inference performance)\n",
            "  warnings.warn(f\"enable_nested_tensor is True, but self.use_nested_tensor is False because {why_not_sparsity_fast_path}\")\n"
          ]
        },
        {
          "output_type": "stream",
          "name": "stdout",
          "text": [
            "Station 10499, Epoch [24/120], Loss: 0.4864\n",
            "Station 10499, Epoch [48/120], Loss: 0.3494\n",
            "Station 10499, Epoch [72/120], Loss: 0.3566\n",
            "Station 10499, Epoch [96/120], Loss: 0.3428\n",
            "Station 10499, Epoch [120/120], Loss: 0.3531\n"
          ]
        },
        {
          "output_type": "stream",
          "name": "stderr",
          "text": [
            "/usr/local/lib/python3.10/dist-packages/torch/nn/modules/transformer.py:282: UserWarning: enable_nested_tensor is True, but self.use_nested_tensor is False because encoder_layer.self_attn.batch_first was not True(use batch_first for better inference performance)\n",
            "  warnings.warn(f\"enable_nested_tensor is True, but self.use_nested_tensor is False because {why_not_sparsity_fast_path}\")\n"
          ]
        },
        {
          "output_type": "stream",
          "name": "stdout",
          "text": [
            "Station 10738, Epoch [24/120], Loss: 0.2992\n",
            "Station 10738, Epoch [48/120], Loss: 0.2290\n",
            "Station 10738, Epoch [72/120], Loss: 0.1649\n",
            "Station 10738, Epoch [96/120], Loss: 0.2282\n",
            "Station 10738, Epoch [120/120], Loss: 0.1679\n"
          ]
        },
        {
          "output_type": "stream",
          "name": "stderr",
          "text": [
            "/usr/local/lib/python3.10/dist-packages/torch/nn/modules/transformer.py:282: UserWarning: enable_nested_tensor is True, but self.use_nested_tensor is False because encoder_layer.self_attn.batch_first was not True(use batch_first for better inference performance)\n",
            "  warnings.warn(f\"enable_nested_tensor is True, but self.use_nested_tensor is False because {why_not_sparsity_fast_path}\")\n"
          ]
        },
        {
          "output_type": "stream",
          "name": "stdout",
          "text": [
            "Station 03026, Epoch [24/120], Loss: 0.8140\n",
            "Station 03026, Epoch [48/120], Loss: 0.7035\n",
            "Station 03026, Epoch [72/120], Loss: 0.7346\n",
            "Station 03026, Epoch [96/120], Loss: 0.5629\n",
            "Station 03026, Epoch [120/120], Loss: 0.6214\n"
          ]
        },
        {
          "output_type": "stream",
          "name": "stderr",
          "text": [
            "/usr/local/lib/python3.10/dist-packages/torch/nn/modules/transformer.py:282: UserWarning: enable_nested_tensor is True, but self.use_nested_tensor is False because encoder_layer.self_attn.batch_first was not True(use batch_first for better inference performance)\n",
            "  warnings.warn(f\"enable_nested_tensor is True, but self.use_nested_tensor is False because {why_not_sparsity_fast_path}\")\n"
          ]
        },
        {
          "output_type": "stream",
          "name": "stdout",
          "text": [
            "Station D0320, Epoch [24/120], Loss: 0.4206\n",
            "Station D0320, Epoch [48/120], Loss: 0.3980\n",
            "Station D0320, Epoch [72/120], Loss: 0.2556\n",
            "Station D0320, Epoch [96/120], Loss: 0.3494\n",
            "Station D0320, Epoch [120/120], Loss: 0.2530\n"
          ]
        },
        {
          "output_type": "stream",
          "name": "stderr",
          "text": [
            "/usr/local/lib/python3.10/dist-packages/torch/nn/modules/transformer.py:282: UserWarning: enable_nested_tensor is True, but self.use_nested_tensor is False because encoder_layer.self_attn.batch_first was not True(use batch_first for better inference performance)\n",
            "  warnings.warn(f\"enable_nested_tensor is True, but self.use_nested_tensor is False because {why_not_sparsity_fast_path}\")\n"
          ]
        },
        {
          "output_type": "stream",
          "name": "stdout",
          "text": [
            "Station 10338, Epoch [24/120], Loss: 0.4660\n",
            "Station 10338, Epoch [48/120], Loss: 0.3855\n",
            "Station 10338, Epoch [72/120], Loss: 0.3893\n",
            "Station 10338, Epoch [96/120], Loss: 0.1840\n",
            "Station 10338, Epoch [120/120], Loss: 0.2102\n"
          ]
        },
        {
          "output_type": "stream",
          "name": "stderr",
          "text": [
            "/usr/local/lib/python3.10/dist-packages/torch/nn/modules/transformer.py:282: UserWarning: enable_nested_tensor is True, but self.use_nested_tensor is False because encoder_layer.self_attn.batch_first was not True(use batch_first for better inference performance)\n",
            "  warnings.warn(f\"enable_nested_tensor is True, but self.use_nested_tensor is False because {why_not_sparsity_fast_path}\")\n"
          ]
        },
        {
          "output_type": "stream",
          "name": "stdout",
          "text": [
            "Station 10113, Epoch [24/120], Loss: 0.3422\n",
            "Station 10113, Epoch [48/120], Loss: 0.1988\n",
            "Station 10113, Epoch [72/120], Loss: 0.1231\n",
            "Station 10113, Epoch [96/120], Loss: 0.1072\n",
            "Station 10113, Epoch [120/120], Loss: 0.0912\n"
          ]
        },
        {
          "output_type": "stream",
          "name": "stderr",
          "text": [
            "/usr/local/lib/python3.10/dist-packages/torch/nn/modules/transformer.py:282: UserWarning: enable_nested_tensor is True, but self.use_nested_tensor is False because encoder_layer.self_attn.batch_first was not True(use batch_first for better inference performance)\n",
            "  warnings.warn(f\"enable_nested_tensor is True, but self.use_nested_tensor is False because {why_not_sparsity_fast_path}\")\n"
          ]
        },
        {
          "output_type": "stream",
          "name": "stdout",
          "text": [
            "Station 10675, Epoch [24/120], Loss: 0.5069\n",
            "Station 10675, Epoch [48/120], Loss: 0.2981\n",
            "Station 10675, Epoch [72/120], Loss: 0.2374\n",
            "Station 10675, Epoch [96/120], Loss: 0.1363\n",
            "Station 10675, Epoch [120/120], Loss: 0.1187\n"
          ]
        },
        {
          "output_type": "stream",
          "name": "stderr",
          "text": [
            "/usr/local/lib/python3.10/dist-packages/torch/nn/modules/transformer.py:282: UserWarning: enable_nested_tensor is True, but self.use_nested_tensor is False because encoder_layer.self_attn.batch_first was not True(use batch_first for better inference performance)\n",
            "  warnings.warn(f\"enable_nested_tensor is True, but self.use_nested_tensor is False because {why_not_sparsity_fast_path}\")\n"
          ]
        },
        {
          "output_type": "stream",
          "name": "stdout",
          "text": [
            "Station 10852, Epoch [24/120], Loss: 0.4657\n",
            "Station 10852, Epoch [48/120], Loss: 0.3392\n",
            "Station 10852, Epoch [72/120], Loss: 0.2971\n",
            "Station 10852, Epoch [96/120], Loss: 0.2394\n",
            "Station 10852, Epoch [120/120], Loss: 0.2535\n"
          ]
        },
        {
          "output_type": "stream",
          "name": "stderr",
          "text": [
            "/usr/local/lib/python3.10/dist-packages/torch/nn/modules/transformer.py:282: UserWarning: enable_nested_tensor is True, but self.use_nested_tensor is False because encoder_layer.self_attn.batch_first was not True(use batch_first for better inference performance)\n",
            "  warnings.warn(f\"enable_nested_tensor is True, but self.use_nested_tensor is False because {why_not_sparsity_fast_path}\")\n"
          ]
        },
        {
          "output_type": "stream",
          "name": "stdout",
          "text": [
            "Station 10488, Epoch [24/120], Loss: 0.5424\n",
            "Station 10488, Epoch [48/120], Loss: 0.5112\n",
            "Station 10488, Epoch [72/120], Loss: 0.5469\n",
            "Station 10488, Epoch [96/120], Loss: 0.3426\n",
            "Station 10488, Epoch [120/120], Loss: 0.2842\n"
          ]
        },
        {
          "output_type": "stream",
          "name": "stderr",
          "text": [
            "/usr/local/lib/python3.10/dist-packages/torch/nn/modules/transformer.py:282: UserWarning: enable_nested_tensor is True, but self.use_nested_tensor is False because encoder_layer.self_attn.batch_first was not True(use batch_first for better inference performance)\n",
            "  warnings.warn(f\"enable_nested_tensor is True, but self.use_nested_tensor is False because {why_not_sparsity_fast_path}\")\n"
          ]
        },
        {
          "output_type": "stream",
          "name": "stdout",
          "text": [
            "Station 91182, Epoch [24/120], Loss: 0.2341\n",
            "Station 91182, Epoch [48/120], Loss: 0.2857\n",
            "Station 91182, Epoch [72/120], Loss: 0.2100\n",
            "Station 91182, Epoch [96/120], Loss: 0.2173\n",
            "Station 91182, Epoch [120/120], Loss: 0.2614\n"
          ]
        },
        {
          "output_type": "stream",
          "name": "stderr",
          "text": [
            "/usr/local/lib/python3.10/dist-packages/torch/nn/modules/transformer.py:282: UserWarning: enable_nested_tensor is True, but self.use_nested_tensor is False because encoder_layer.self_attn.batch_first was not True(use batch_first for better inference performance)\n",
            "  warnings.warn(f\"enable_nested_tensor is True, but self.use_nested_tensor is False because {why_not_sparsity_fast_path}\")\n"
          ]
        },
        {
          "output_type": "stream",
          "name": "stdout",
          "text": [
            "Station 72219, Epoch [24/120], Loss: 1.1178\n",
            "Station 72219, Epoch [48/120], Loss: 0.8947\n",
            "Station 72219, Epoch [72/120], Loss: 1.0528\n",
            "Station 72219, Epoch [96/120], Loss: 0.9969\n",
            "Station 72219, Epoch [120/120], Loss: 0.7762\n"
          ]
        },
        {
          "output_type": "stream",
          "name": "stderr",
          "text": [
            "/usr/local/lib/python3.10/dist-packages/torch/nn/modules/transformer.py:282: UserWarning: enable_nested_tensor is True, but self.use_nested_tensor is False because encoder_layer.self_attn.batch_first was not True(use batch_first for better inference performance)\n",
            "  warnings.warn(f\"enable_nested_tensor is True, but self.use_nested_tensor is False because {why_not_sparsity_fast_path}\")\n"
          ]
        },
        {
          "output_type": "stream",
          "name": "stdout",
          "text": [
            "Station 72386, Epoch [24/120], Loss: 0.6124\n",
            "Station 72386, Epoch [48/120], Loss: 0.6312\n",
            "Station 72386, Epoch [72/120], Loss: 0.3974\n",
            "Station 72386, Epoch [96/120], Loss: 0.1419\n",
            "Station 72386, Epoch [120/120], Loss: 0.0733\n"
          ]
        },
        {
          "output_type": "stream",
          "name": "stderr",
          "text": [
            "/usr/local/lib/python3.10/dist-packages/torch/nn/modules/transformer.py:282: UserWarning: enable_nested_tensor is True, but self.use_nested_tensor is False because encoder_layer.self_attn.batch_first was not True(use batch_first for better inference performance)\n",
            "  warnings.warn(f\"enable_nested_tensor is True, but self.use_nested_tensor is False because {why_not_sparsity_fast_path}\")\n"
          ]
        },
        {
          "output_type": "stream",
          "name": "stdout",
          "text": [
            "Station 10729, Epoch [24/120], Loss: 0.4587\n",
            "Station 10729, Epoch [48/120], Loss: 0.3769\n",
            "Station 10729, Epoch [72/120], Loss: 0.3950\n",
            "Station 10729, Epoch [96/120], Loss: 0.1831\n",
            "Station 10729, Epoch [120/120], Loss: 0.1753\n"
          ]
        },
        {
          "output_type": "stream",
          "name": "stderr",
          "text": [
            "/usr/local/lib/python3.10/dist-packages/torch/nn/modules/transformer.py:282: UserWarning: enable_nested_tensor is True, but self.use_nested_tensor is False because encoder_layer.self_attn.batch_first was not True(use batch_first for better inference performance)\n",
            "  warnings.warn(f\"enable_nested_tensor is True, but self.use_nested_tensor is False because {why_not_sparsity_fast_path}\")\n"
          ]
        },
        {
          "output_type": "stream",
          "name": "stdout",
          "text": [
            "Station D3402, Epoch [24/120], Loss: 0.7210\n",
            "Station D3402, Epoch [48/120], Loss: 0.6129\n",
            "Station D3402, Epoch [72/120], Loss: 0.3434\n",
            "Station D3402, Epoch [96/120], Loss: 0.3665\n",
            "Station D3402, Epoch [120/120], Loss: 0.2222\n"
          ]
        },
        {
          "output_type": "stream",
          "name": "stderr",
          "text": [
            "/usr/local/lib/python3.10/dist-packages/torch/nn/modules/transformer.py:282: UserWarning: enable_nested_tensor is True, but self.use_nested_tensor is False because encoder_layer.self_attn.batch_first was not True(use batch_first for better inference performance)\n",
            "  warnings.warn(f\"enable_nested_tensor is True, but self.use_nested_tensor is False because {why_not_sparsity_fast_path}\")\n"
          ]
        },
        {
          "output_type": "stream",
          "name": "stdout",
          "text": [
            "Station 10688, Epoch [24/120], Loss: 0.5919\n",
            "Station 10688, Epoch [48/120], Loss: 0.5578\n",
            "Station 10688, Epoch [72/120], Loss: 0.3311\n",
            "Station 10688, Epoch [96/120], Loss: 0.2746\n",
            "Station 10688, Epoch [120/120], Loss: 0.2786\n"
          ]
        },
        {
          "output_type": "stream",
          "name": "stderr",
          "text": [
            "/usr/local/lib/python3.10/dist-packages/torch/nn/modules/transformer.py:282: UserWarning: enable_nested_tensor is True, but self.use_nested_tensor is False because encoder_layer.self_attn.batch_first was not True(use batch_first for better inference performance)\n",
            "  warnings.warn(f\"enable_nested_tensor is True, but self.use_nested_tensor is False because {why_not_sparsity_fast_path}\")\n"
          ]
        },
        {
          "output_type": "stream",
          "name": "stdout",
          "text": [
            "Station 72597, Epoch [24/120], Loss: 0.4470\n",
            "Station 72597, Epoch [48/120], Loss: 0.3596\n",
            "Station 72597, Epoch [72/120], Loss: 0.2778\n",
            "Station 72597, Epoch [96/120], Loss: 0.2645\n",
            "Station 72597, Epoch [120/120], Loss: 0.1838\n"
          ]
        },
        {
          "output_type": "stream",
          "name": "stderr",
          "text": [
            "/usr/local/lib/python3.10/dist-packages/torch/nn/modules/transformer.py:282: UserWarning: enable_nested_tensor is True, but self.use_nested_tensor is False because encoder_layer.self_attn.batch_first was not True(use batch_first for better inference performance)\n",
            "  warnings.warn(f\"enable_nested_tensor is True, but self.use_nested_tensor is False because {why_not_sparsity_fast_path}\")\n"
          ]
        },
        {
          "output_type": "stream",
          "name": "stdout",
          "text": [
            "Station 72434, Epoch [24/120], Loss: 1.0471\n",
            "Station 72434, Epoch [48/120], Loss: 0.6521\n",
            "Station 72434, Epoch [72/120], Loss: 0.6971\n",
            "Station 72434, Epoch [96/120], Loss: 0.5542\n",
            "Station 72434, Epoch [120/120], Loss: 0.5151\n"
          ]
        },
        {
          "output_type": "stream",
          "name": "stderr",
          "text": [
            "/usr/local/lib/python3.10/dist-packages/torch/nn/modules/transformer.py:282: UserWarning: enable_nested_tensor is True, but self.use_nested_tensor is False because encoder_layer.self_attn.batch_first was not True(use batch_first for better inference performance)\n",
            "  warnings.warn(f\"enable_nested_tensor is True, but self.use_nested_tensor is False because {why_not_sparsity_fast_path}\")\n"
          ]
        },
        {
          "output_type": "stream",
          "name": "stdout",
          "text": [
            "Station D2750, Epoch [24/120], Loss: 0.5866\n",
            "Station D2750, Epoch [48/120], Loss: 0.3812\n",
            "Station D2750, Epoch [72/120], Loss: 0.2480\n",
            "Station D2750, Epoch [96/120], Loss: 0.2690\n",
            "Station D2750, Epoch [120/120], Loss: 0.1970\n"
          ]
        },
        {
          "output_type": "stream",
          "name": "stderr",
          "text": [
            "/usr/local/lib/python3.10/dist-packages/torch/nn/modules/transformer.py:282: UserWarning: enable_nested_tensor is True, but self.use_nested_tensor is False because encoder_layer.self_attn.batch_first was not True(use batch_first for better inference performance)\n",
            "  warnings.warn(f\"enable_nested_tensor is True, but self.use_nested_tensor is False because {why_not_sparsity_fast_path}\")\n"
          ]
        },
        {
          "output_type": "stream",
          "name": "stdout",
          "text": [
            "Station D4651, Epoch [24/120], Loss: 0.6789\n",
            "Station D4651, Epoch [48/120], Loss: 0.3737\n",
            "Station D4651, Epoch [72/120], Loss: 0.4268\n",
            "Station D4651, Epoch [96/120], Loss: 0.4362\n",
            "Station D4651, Epoch [120/120], Loss: 0.4065\n"
          ]
        },
        {
          "output_type": "stream",
          "name": "stderr",
          "text": [
            "/usr/local/lib/python3.10/dist-packages/torch/nn/modules/transformer.py:282: UserWarning: enable_nested_tensor is True, but self.use_nested_tensor is False because encoder_layer.self_attn.batch_first was not True(use batch_first for better inference performance)\n",
            "  warnings.warn(f\"enable_nested_tensor is True, but self.use_nested_tensor is False because {why_not_sparsity_fast_path}\")\n"
          ]
        },
        {
          "output_type": "stream",
          "name": "stdout",
          "text": [
            "Station D5229, Epoch [24/120], Loss: 0.9711\n",
            "Station D5229, Epoch [48/120], Loss: 0.7774\n",
            "Station D5229, Epoch [72/120], Loss: 0.6291\n",
            "Station D5229, Epoch [96/120], Loss: 0.2297\n",
            "Station D5229, Epoch [120/120], Loss: 0.2964\n"
          ]
        },
        {
          "output_type": "stream",
          "name": "stderr",
          "text": [
            "/usr/local/lib/python3.10/dist-packages/torch/nn/modules/transformer.py:282: UserWarning: enable_nested_tensor is True, but self.use_nested_tensor is False because encoder_layer.self_attn.batch_first was not True(use batch_first for better inference performance)\n",
            "  warnings.warn(f\"enable_nested_tensor is True, but self.use_nested_tensor is False because {why_not_sparsity_fast_path}\")\n"
          ]
        },
        {
          "output_type": "stream",
          "name": "stdout",
          "text": [
            "Station 08314, Epoch [24/120], Loss: 0.3685\n",
            "Station 08314, Epoch [48/120], Loss: 0.3049\n",
            "Station 08314, Epoch [72/120], Loss: 0.2630\n",
            "Station 08314, Epoch [96/120], Loss: 0.0983\n",
            "Station 08314, Epoch [120/120], Loss: 0.0800\n"
          ]
        },
        {
          "output_type": "stream",
          "name": "stderr",
          "text": [
            "/usr/local/lib/python3.10/dist-packages/torch/nn/modules/transformer.py:282: UserWarning: enable_nested_tensor is True, but self.use_nested_tensor is False because encoder_layer.self_attn.batch_first was not True(use batch_first for better inference performance)\n",
            "  warnings.warn(f\"enable_nested_tensor is True, but self.use_nested_tensor is False because {why_not_sparsity_fast_path}\")\n"
          ]
        },
        {
          "output_type": "stream",
          "name": "stdout",
          "text": [
            "Station 10567, Epoch [24/120], Loss: 0.2375\n",
            "Station 10567, Epoch [48/120], Loss: 0.1772\n",
            "Station 10567, Epoch [72/120], Loss: 0.1834\n",
            "Station 10567, Epoch [96/120], Loss: 0.1620\n",
            "Station 10567, Epoch [120/120], Loss: 0.1943\n"
          ]
        },
        {
          "output_type": "stream",
          "name": "stderr",
          "text": [
            "/usr/local/lib/python3.10/dist-packages/torch/nn/modules/transformer.py:282: UserWarning: enable_nested_tensor is True, but self.use_nested_tensor is False because encoder_layer.self_attn.batch_first was not True(use batch_first for better inference performance)\n",
            "  warnings.warn(f\"enable_nested_tensor is True, but self.use_nested_tensor is False because {why_not_sparsity_fast_path}\")\n"
          ]
        },
        {
          "output_type": "stream",
          "name": "stdout",
          "text": [
            "Station 06700, Epoch [24/120], Loss: 0.7191\n",
            "Station 06700, Epoch [48/120], Loss: 0.5663\n",
            "Station 06700, Epoch [72/120], Loss: 0.4895\n",
            "Station 06700, Epoch [96/120], Loss: 0.2853\n",
            "Station 06700, Epoch [120/120], Loss: 0.2711\n"
          ]
        },
        {
          "output_type": "stream",
          "name": "stderr",
          "text": [
            "/usr/local/lib/python3.10/dist-packages/torch/nn/modules/transformer.py:282: UserWarning: enable_nested_tensor is True, but self.use_nested_tensor is False because encoder_layer.self_attn.batch_first was not True(use batch_first for better inference performance)\n",
            "  warnings.warn(f\"enable_nested_tensor is True, but self.use_nested_tensor is False because {why_not_sparsity_fast_path}\")\n"
          ]
        },
        {
          "output_type": "stream",
          "name": "stdout",
          "text": [
            "Station 10162, Epoch [24/120], Loss: 0.2886\n",
            "Station 10162, Epoch [48/120], Loss: 0.2115\n",
            "Station 10162, Epoch [72/120], Loss: 0.1264\n",
            "Station 10162, Epoch [96/120], Loss: 0.1315\n",
            "Station 10162, Epoch [120/120], Loss: 0.0662\n"
          ]
        },
        {
          "output_type": "stream",
          "name": "stderr",
          "text": [
            "/usr/local/lib/python3.10/dist-packages/torch/nn/modules/transformer.py:282: UserWarning: enable_nested_tensor is True, but self.use_nested_tensor is False because encoder_layer.self_attn.batch_first was not True(use batch_first for better inference performance)\n",
            "  warnings.warn(f\"enable_nested_tensor is True, but self.use_nested_tensor is False because {why_not_sparsity_fast_path}\")\n"
          ]
        },
        {
          "output_type": "stream",
          "name": "stdout",
          "text": [
            "Station 11240, Epoch [24/120], Loss: 0.4792\n",
            "Station 11240, Epoch [48/120], Loss: 0.2097\n",
            "Station 11240, Epoch [72/120], Loss: 0.1783\n",
            "Station 11240, Epoch [96/120], Loss: 0.1565\n",
            "Station 11240, Epoch [120/120], Loss: 0.1165\n"
          ]
        },
        {
          "output_type": "stream",
          "name": "stderr",
          "text": [
            "/usr/local/lib/python3.10/dist-packages/torch/nn/modules/transformer.py:282: UserWarning: enable_nested_tensor is True, but self.use_nested_tensor is False because encoder_layer.self_attn.batch_first was not True(use batch_first for better inference performance)\n",
            "  warnings.warn(f\"enable_nested_tensor is True, but self.use_nested_tensor is False because {why_not_sparsity_fast_path}\")\n"
          ]
        },
        {
          "output_type": "stream",
          "name": "stdout",
          "text": [
            "Station 10348, Epoch [24/120], Loss: 0.3871\n",
            "Station 10348, Epoch [48/120], Loss: 0.2887\n",
            "Station 10348, Epoch [72/120], Loss: 0.2128\n",
            "Station 10348, Epoch [96/120], Loss: 0.1382\n",
            "Station 10348, Epoch [120/120], Loss: 0.1463\n"
          ]
        },
        {
          "output_type": "stream",
          "name": "stderr",
          "text": [
            "/usr/local/lib/python3.10/dist-packages/torch/nn/modules/transformer.py:282: UserWarning: enable_nested_tensor is True, but self.use_nested_tensor is False because encoder_layer.self_attn.batch_first was not True(use batch_first for better inference performance)\n",
            "  warnings.warn(f\"enable_nested_tensor is True, but self.use_nested_tensor is False because {why_not_sparsity_fast_path}\")\n"
          ]
        },
        {
          "output_type": "stream",
          "name": "stdout",
          "text": [
            "Station D3739, Epoch [24/120], Loss: 0.2659\n",
            "Station D3739, Epoch [48/120], Loss: 0.2369\n",
            "Station D3739, Epoch [72/120], Loss: 0.2247\n",
            "Station D3739, Epoch [96/120], Loss: 0.2386\n",
            "Station D3739, Epoch [120/120], Loss: 0.2238\n"
          ]
        },
        {
          "output_type": "stream",
          "name": "stderr",
          "text": [
            "/usr/local/lib/python3.10/dist-packages/torch/nn/modules/transformer.py:282: UserWarning: enable_nested_tensor is True, but self.use_nested_tensor is False because encoder_layer.self_attn.batch_first was not True(use batch_first for better inference performance)\n",
            "  warnings.warn(f\"enable_nested_tensor is True, but self.use_nested_tensor is False because {why_not_sparsity_fast_path}\")\n"
          ]
        },
        {
          "output_type": "stream",
          "name": "stdout",
          "text": [
            "Station 06660, Epoch [24/120], Loss: 0.6757\n",
            "Station 06660, Epoch [48/120], Loss: 0.6130\n",
            "Station 06660, Epoch [72/120], Loss: 0.3270\n",
            "Station 06660, Epoch [96/120], Loss: 0.2387\n",
            "Station 06660, Epoch [120/120], Loss: 0.3208\n"
          ]
        },
        {
          "output_type": "stream",
          "name": "stderr",
          "text": [
            "/usr/local/lib/python3.10/dist-packages/torch/nn/modules/transformer.py:282: UserWarning: enable_nested_tensor is True, but self.use_nested_tensor is False because encoder_layer.self_attn.batch_first was not True(use batch_first for better inference performance)\n",
            "  warnings.warn(f\"enable_nested_tensor is True, but self.use_nested_tensor is False because {why_not_sparsity_fast_path}\")\n"
          ]
        },
        {
          "output_type": "stream",
          "name": "stdout",
          "text": [
            "Station D1266, Epoch [24/120], Loss: 0.5696\n",
            "Station D1266, Epoch [48/120], Loss: 0.4535\n",
            "Station D1266, Epoch [72/120], Loss: 0.4044\n",
            "Station D1266, Epoch [96/120], Loss: 0.2809\n",
            "Station D1266, Epoch [120/120], Loss: 0.3951\n"
          ]
        },
        {
          "output_type": "stream",
          "name": "stderr",
          "text": [
            "/usr/local/lib/python3.10/dist-packages/torch/nn/modules/transformer.py:282: UserWarning: enable_nested_tensor is True, but self.use_nested_tensor is False because encoder_layer.self_attn.batch_first was not True(use batch_first for better inference performance)\n",
            "  warnings.warn(f\"enable_nested_tensor is True, but self.use_nested_tensor is False because {why_not_sparsity_fast_path}\")\n"
          ]
        },
        {
          "output_type": "stream",
          "name": "stdout",
          "text": [
            "Station 10028, Epoch [24/120], Loss: 0.5628\n",
            "Station 10028, Epoch [48/120], Loss: 0.4449\n",
            "Station 10028, Epoch [72/120], Loss: 0.3868\n",
            "Station 10028, Epoch [96/120], Loss: 0.4642\n",
            "Station 10028, Epoch [120/120], Loss: 0.2932\n"
          ]
        },
        {
          "output_type": "stream",
          "name": "stderr",
          "text": [
            "/usr/local/lib/python3.10/dist-packages/torch/nn/modules/transformer.py:282: UserWarning: enable_nested_tensor is True, but self.use_nested_tensor is False because encoder_layer.self_attn.batch_first was not True(use batch_first for better inference performance)\n",
            "  warnings.warn(f\"enable_nested_tensor is True, but self.use_nested_tensor is False because {why_not_sparsity_fast_path}\")\n"
          ]
        },
        {
          "output_type": "stream",
          "name": "stdout",
          "text": [
            "Station 72450, Epoch [24/120], Loss: 0.3783\n",
            "Station 72450, Epoch [48/120], Loss: 0.2302\n",
            "Station 72450, Epoch [72/120], Loss: 0.2266\n",
            "Station 72450, Epoch [96/120], Loss: 0.2248\n",
            "Station 72450, Epoch [120/120], Loss: 0.2271\n"
          ]
        },
        {
          "output_type": "stream",
          "name": "stderr",
          "text": [
            "/usr/local/lib/python3.10/dist-packages/torch/nn/modules/transformer.py:282: UserWarning: enable_nested_tensor is True, but self.use_nested_tensor is False because encoder_layer.self_attn.batch_first was not True(use batch_first for better inference performance)\n",
            "  warnings.warn(f\"enable_nested_tensor is True, but self.use_nested_tensor is False because {why_not_sparsity_fast_path}\")\n"
          ]
        },
        {
          "output_type": "stream",
          "name": "stdout",
          "text": [
            "Station 11120, Epoch [24/120], Loss: 1.1980\n",
            "Station 11120, Epoch [48/120], Loss: 1.1526\n",
            "Station 11120, Epoch [72/120], Loss: 1.0379\n",
            "Station 11120, Epoch [96/120], Loss: 0.5479\n",
            "Station 11120, Epoch [120/120], Loss: 0.6010\n"
          ]
        },
        {
          "output_type": "stream",
          "name": "stderr",
          "text": [
            "/usr/local/lib/python3.10/dist-packages/torch/nn/modules/transformer.py:282: UserWarning: enable_nested_tensor is True, but self.use_nested_tensor is False because encoder_layer.self_attn.batch_first was not True(use batch_first for better inference performance)\n",
            "  warnings.warn(f\"enable_nested_tensor is True, but self.use_nested_tensor is False because {why_not_sparsity_fast_path}\")\n"
          ]
        },
        {
          "output_type": "stream",
          "name": "stdout",
          "text": [
            "Station 10410, Epoch [24/120], Loss: 0.5858\n",
            "Station 10410, Epoch [48/120], Loss: 0.2963\n",
            "Station 10410, Epoch [72/120], Loss: 0.3041\n",
            "Station 10410, Epoch [96/120], Loss: 0.2245\n",
            "Station 10410, Epoch [120/120], Loss: 0.1263\n"
          ]
        },
        {
          "output_type": "stream",
          "name": "stderr",
          "text": [
            "/usr/local/lib/python3.10/dist-packages/torch/nn/modules/transformer.py:282: UserWarning: enable_nested_tensor is True, but self.use_nested_tensor is False because encoder_layer.self_attn.batch_first was not True(use batch_first for better inference performance)\n",
            "  warnings.warn(f\"enable_nested_tensor is True, but self.use_nested_tensor is False because {why_not_sparsity_fast_path}\")\n"
          ]
        },
        {
          "output_type": "stream",
          "name": "stdout",
          "text": [
            "Station 72445, Epoch [24/120], Loss: 0.5521\n",
            "Station 72445, Epoch [48/120], Loss: 0.4675\n",
            "Station 72445, Epoch [72/120], Loss: 0.4192\n",
            "Station 72445, Epoch [96/120], Loss: 0.4269\n",
            "Station 72445, Epoch [120/120], Loss: 0.3585\n"
          ]
        },
        {
          "output_type": "stream",
          "name": "stderr",
          "text": [
            "/usr/local/lib/python3.10/dist-packages/torch/nn/modules/transformer.py:282: UserWarning: enable_nested_tensor is True, but self.use_nested_tensor is False because encoder_layer.self_attn.batch_first was not True(use batch_first for better inference performance)\n",
            "  warnings.warn(f\"enable_nested_tensor is True, but self.use_nested_tensor is False because {why_not_sparsity_fast_path}\")\n"
          ]
        },
        {
          "output_type": "stream",
          "name": "stdout",
          "text": [
            "Station 10015, Epoch [24/120], Loss: 0.5276\n",
            "Station 10015, Epoch [48/120], Loss: 0.3732\n",
            "Station 10015, Epoch [72/120], Loss: 0.3468\n",
            "Station 10015, Epoch [96/120], Loss: 0.2541\n",
            "Station 10015, Epoch [120/120], Loss: 0.1497\n"
          ]
        },
        {
          "output_type": "stream",
          "name": "stderr",
          "text": [
            "/usr/local/lib/python3.10/dist-packages/torch/nn/modules/transformer.py:282: UserWarning: enable_nested_tensor is True, but self.use_nested_tensor is False because encoder_layer.self_attn.batch_first was not True(use batch_first for better inference performance)\n",
            "  warnings.warn(f\"enable_nested_tensor is True, but self.use_nested_tensor is False because {why_not_sparsity_fast_path}\")\n"
          ]
        },
        {
          "output_type": "stream",
          "name": "stdout",
          "text": [
            "Station EDXU0, Epoch [24/120], Loss: 0.4686\n",
            "Station EDXU0, Epoch [48/120], Loss: 0.3612\n",
            "Station EDXU0, Epoch [72/120], Loss: 0.2727\n",
            "Station EDXU0, Epoch [96/120], Loss: 0.1735\n",
            "Station EDXU0, Epoch [120/120], Loss: 0.1753\n"
          ]
        },
        {
          "output_type": "stream",
          "name": "stderr",
          "text": [
            "/usr/local/lib/python3.10/dist-packages/torch/nn/modules/transformer.py:282: UserWarning: enable_nested_tensor is True, but self.use_nested_tensor is False because encoder_layer.self_attn.batch_first was not True(use batch_first for better inference performance)\n",
            "  warnings.warn(f\"enable_nested_tensor is True, but self.use_nested_tensor is False because {why_not_sparsity_fast_path}\")\n"
          ]
        },
        {
          "output_type": "stream",
          "name": "stdout",
          "text": [
            "Station D4323, Epoch [24/120], Loss: 0.2567\n",
            "Station D4323, Epoch [48/120], Loss: 0.1718\n",
            "Station D4323, Epoch [72/120], Loss: 0.2064\n",
            "Station D4323, Epoch [96/120], Loss: 0.1354\n",
            "Station D4323, Epoch [120/120], Loss: 0.1861\n"
          ]
        },
        {
          "output_type": "stream",
          "name": "stderr",
          "text": [
            "/usr/local/lib/python3.10/dist-packages/torch/nn/modules/transformer.py:282: UserWarning: enable_nested_tensor is True, but self.use_nested_tensor is False because encoder_layer.self_attn.batch_first was not True(use batch_first for better inference performance)\n",
            "  warnings.warn(f\"enable_nested_tensor is True, but self.use_nested_tensor is False because {why_not_sparsity_fast_path}\")\n"
          ]
        },
        {
          "output_type": "stream",
          "name": "stdout",
          "text": [
            "Station D0151, Epoch [24/120], Loss: 0.4484\n",
            "Station D0151, Epoch [48/120], Loss: 0.3376\n",
            "Station D0151, Epoch [72/120], Loss: 0.2635\n",
            "Station D0151, Epoch [96/120], Loss: 0.2426\n",
            "Station D0151, Epoch [120/120], Loss: 0.2593\n"
          ]
        },
        {
          "output_type": "stream",
          "name": "stderr",
          "text": [
            "/usr/local/lib/python3.10/dist-packages/torch/nn/modules/transformer.py:282: UserWarning: enable_nested_tensor is True, but self.use_nested_tensor is False because encoder_layer.self_attn.batch_first was not True(use batch_first for better inference performance)\n",
            "  warnings.warn(f\"enable_nested_tensor is True, but self.use_nested_tensor is False because {why_not_sparsity_fast_path}\")\n"
          ]
        },
        {
          "output_type": "stream",
          "name": "stdout",
          "text": [
            "Station 10763, Epoch [24/120], Loss: 0.5618\n",
            "Station 10763, Epoch [48/120], Loss: 0.4695\n",
            "Station 10763, Epoch [72/120], Loss: 0.2710\n",
            "Station 10763, Epoch [96/120], Loss: 0.2773\n",
            "Station 10763, Epoch [120/120], Loss: 0.1634\n"
          ]
        },
        {
          "output_type": "stream",
          "name": "stderr",
          "text": [
            "/usr/local/lib/python3.10/dist-packages/torch/nn/modules/transformer.py:282: UserWarning: enable_nested_tensor is True, but self.use_nested_tensor is False because encoder_layer.self_attn.batch_first was not True(use batch_first for better inference performance)\n",
            "  warnings.warn(f\"enable_nested_tensor is True, but self.use_nested_tensor is False because {why_not_sparsity_fast_path}\")\n"
          ]
        },
        {
          "output_type": "stream",
          "name": "stdout",
          "text": [
            "Station 72327, Epoch [24/120], Loss: 0.8474\n",
            "Station 72327, Epoch [48/120], Loss: 0.6494\n",
            "Station 72327, Epoch [72/120], Loss: 0.6711\n",
            "Station 72327, Epoch [96/120], Loss: 0.5330\n",
            "Station 72327, Epoch [120/120], Loss: 0.3470\n"
          ]
        },
        {
          "output_type": "stream",
          "name": "stderr",
          "text": [
            "/usr/local/lib/python3.10/dist-packages/torch/nn/modules/transformer.py:282: UserWarning: enable_nested_tensor is True, but self.use_nested_tensor is False because encoder_layer.self_attn.batch_first was not True(use batch_first for better inference performance)\n",
            "  warnings.warn(f\"enable_nested_tensor is True, but self.use_nested_tensor is False because {why_not_sparsity_fast_path}\")\n"
          ]
        },
        {
          "output_type": "stream",
          "name": "stdout",
          "text": [
            "Station 08306, Epoch [24/120], Loss: 0.3477\n",
            "Station 08306, Epoch [48/120], Loss: 0.3993\n",
            "Station 08306, Epoch [72/120], Loss: 0.3786\n",
            "Station 08306, Epoch [96/120], Loss: 0.2696\n",
            "Station 08306, Epoch [120/120], Loss: 0.2569\n"
          ]
        },
        {
          "output_type": "stream",
          "name": "stderr",
          "text": [
            "/usr/local/lib/python3.10/dist-packages/torch/nn/modules/transformer.py:282: UserWarning: enable_nested_tensor is True, but self.use_nested_tensor is False because encoder_layer.self_attn.batch_first was not True(use batch_first for better inference performance)\n",
            "  warnings.warn(f\"enable_nested_tensor is True, but self.use_nested_tensor is False because {why_not_sparsity_fast_path}\")\n"
          ]
        },
        {
          "output_type": "stream",
          "name": "stdout",
          "text": [
            "Station 10170, Epoch [24/120], Loss: 0.3883\n",
            "Station 10170, Epoch [48/120], Loss: 0.1125\n",
            "Station 10170, Epoch [72/120], Loss: 0.1459\n",
            "Station 10170, Epoch [96/120], Loss: 0.1011\n",
            "Station 10170, Epoch [120/120], Loss: 0.0724\n"
          ]
        },
        {
          "output_type": "stream",
          "name": "stderr",
          "text": [
            "/usr/local/lib/python3.10/dist-packages/torch/nn/modules/transformer.py:282: UserWarning: enable_nested_tensor is True, but self.use_nested_tensor is False because encoder_layer.self_attn.batch_first was not True(use batch_first for better inference performance)\n",
            "  warnings.warn(f\"enable_nested_tensor is True, but self.use_nested_tensor is False because {why_not_sparsity_fast_path}\")\n"
          ]
        },
        {
          "output_type": "stream",
          "name": "stdout",
          "text": [
            "Station 10400, Epoch [24/120], Loss: 0.5050\n",
            "Station 10400, Epoch [48/120], Loss: 0.4564\n",
            "Station 10400, Epoch [72/120], Loss: 0.4376\n",
            "Station 10400, Epoch [96/120], Loss: 0.2397\n",
            "Station 10400, Epoch [120/120], Loss: 0.1757\n"
          ]
        },
        {
          "output_type": "stream",
          "name": "stderr",
          "text": [
            "/usr/local/lib/python3.10/dist-packages/torch/nn/modules/transformer.py:282: UserWarning: enable_nested_tensor is True, but self.use_nested_tensor is False because encoder_layer.self_attn.batch_first was not True(use batch_first for better inference performance)\n",
            "  warnings.warn(f\"enable_nested_tensor is True, but self.use_nested_tensor is False because {why_not_sparsity_fast_path}\")\n"
          ]
        },
        {
          "output_type": "stream",
          "name": "stdout",
          "text": [
            "Station 72681, Epoch [24/120], Loss: 0.5618\n",
            "Station 72681, Epoch [48/120], Loss: 0.3039\n",
            "Station 72681, Epoch [72/120], Loss: 0.1575\n",
            "Station 72681, Epoch [96/120], Loss: 0.1918\n",
            "Station 72681, Epoch [120/120], Loss: 0.1612\n"
          ]
        },
        {
          "output_type": "stream",
          "name": "stderr",
          "text": [
            "/usr/local/lib/python3.10/dist-packages/torch/nn/modules/transformer.py:282: UserWarning: enable_nested_tensor is True, but self.use_nested_tensor is False because encoder_layer.self_attn.batch_first was not True(use batch_first for better inference performance)\n",
            "  warnings.warn(f\"enable_nested_tensor is True, but self.use_nested_tensor is False because {why_not_sparsity_fast_path}\")\n"
          ]
        },
        {
          "output_type": "stream",
          "name": "stdout",
          "text": [
            "Station EDMW0, Epoch [24/120], Loss: 0.4762\n",
            "Station EDMW0, Epoch [48/120], Loss: 0.3468\n",
            "Station EDMW0, Epoch [72/120], Loss: 0.1748\n",
            "Station EDMW0, Epoch [96/120], Loss: 0.1850\n",
            "Station EDMW0, Epoch [120/120], Loss: 0.1677\n"
          ]
        },
        {
          "output_type": "stream",
          "name": "stderr",
          "text": [
            "/usr/local/lib/python3.10/dist-packages/torch/nn/modules/transformer.py:282: UserWarning: enable_nested_tensor is True, but self.use_nested_tensor is False because encoder_layer.self_attn.batch_first was not True(use batch_first for better inference performance)\n",
            "  warnings.warn(f\"enable_nested_tensor is True, but self.use_nested_tensor is False because {why_not_sparsity_fast_path}\")\n"
          ]
        },
        {
          "output_type": "stream",
          "name": "stdout",
          "text": [
            "Station 72250, Epoch [24/120], Loss: 0.7703\n",
            "Station 72250, Epoch [48/120], Loss: 0.7660\n",
            "Station 72250, Epoch [72/120], Loss: 0.7446\n",
            "Station 72250, Epoch [96/120], Loss: 0.7959\n",
            "Station 72250, Epoch [120/120], Loss: 0.7933\n"
          ]
        },
        {
          "output_type": "stream",
          "name": "stderr",
          "text": [
            "/usr/local/lib/python3.10/dist-packages/torch/nn/modules/transformer.py:282: UserWarning: enable_nested_tensor is True, but self.use_nested_tensor is False because encoder_layer.self_attn.batch_first was not True(use batch_first for better inference performance)\n",
            "  warnings.warn(f\"enable_nested_tensor is True, but self.use_nested_tensor is False because {why_not_sparsity_fast_path}\")\n"
          ]
        },
        {
          "output_type": "stream",
          "name": "stdout",
          "text": [
            "Station 72278, Epoch [24/120], Loss: 0.5413\n",
            "Station 72278, Epoch [48/120], Loss: 0.5232\n",
            "Station 72278, Epoch [72/120], Loss: 0.5120\n",
            "Station 72278, Epoch [96/120], Loss: 0.4993\n",
            "Station 72278, Epoch [120/120], Loss: 0.5224\n"
          ]
        },
        {
          "output_type": "stream",
          "name": "stderr",
          "text": [
            "/usr/local/lib/python3.10/dist-packages/torch/nn/modules/transformer.py:282: UserWarning: enable_nested_tensor is True, but self.use_nested_tensor is False because encoder_layer.self_attn.batch_first was not True(use batch_first for better inference performance)\n",
            "  warnings.warn(f\"enable_nested_tensor is True, but self.use_nested_tensor is False because {why_not_sparsity_fast_path}\")\n"
          ]
        },
        {
          "output_type": "stream",
          "name": "stdout",
          "text": [
            "Station 01241, Epoch [24/120], Loss: 0.3871\n",
            "Station 01241, Epoch [48/120], Loss: 0.3814\n",
            "Station 01241, Epoch [72/120], Loss: 0.3188\n",
            "Station 01241, Epoch [96/120], Loss: 0.2445\n",
            "Station 01241, Epoch [120/120], Loss: 0.2762\n"
          ]
        },
        {
          "output_type": "stream",
          "name": "stderr",
          "text": [
            "/usr/local/lib/python3.10/dist-packages/torch/nn/modules/transformer.py:282: UserWarning: enable_nested_tensor is True, but self.use_nested_tensor is False because encoder_layer.self_attn.batch_first was not True(use batch_first for better inference performance)\n",
            "  warnings.warn(f\"enable_nested_tensor is True, but self.use_nested_tensor is False because {why_not_sparsity_fast_path}\")\n"
          ]
        },
        {
          "output_type": "stream",
          "name": "stdout",
          "text": [
            "Station D4287, Epoch [24/120], Loss: 0.5754\n",
            "Station D4287, Epoch [48/120], Loss: 0.3764\n",
            "Station D4287, Epoch [72/120], Loss: 0.2761\n",
            "Station D4287, Epoch [96/120], Loss: 0.2807\n",
            "Station D4287, Epoch [120/120], Loss: 0.3382\n"
          ]
        },
        {
          "output_type": "stream",
          "name": "stderr",
          "text": [
            "/usr/local/lib/python3.10/dist-packages/torch/nn/modules/transformer.py:282: UserWarning: enable_nested_tensor is True, but self.use_nested_tensor is False because encoder_layer.self_attn.batch_first was not True(use batch_first for better inference performance)\n",
            "  warnings.warn(f\"enable_nested_tensor is True, but self.use_nested_tensor is False because {why_not_sparsity_fast_path}\")\n"
          ]
        },
        {
          "output_type": "stream",
          "name": "stdout",
          "text": [
            "Station 10628, Epoch [24/120], Loss: 0.3703\n",
            "Station 10628, Epoch [48/120], Loss: 0.2827\n",
            "Station 10628, Epoch [72/120], Loss: 0.1508\n",
            "Station 10628, Epoch [96/120], Loss: 0.1141\n",
            "Station 10628, Epoch [120/120], Loss: 0.1534\n"
          ]
        },
        {
          "output_type": "stream",
          "name": "stderr",
          "text": [
            "/usr/local/lib/python3.10/dist-packages/torch/nn/modules/transformer.py:282: UserWarning: enable_nested_tensor is True, but self.use_nested_tensor is False because encoder_layer.self_attn.batch_first was not True(use batch_first for better inference performance)\n",
            "  warnings.warn(f\"enable_nested_tensor is True, but self.use_nested_tensor is False because {why_not_sparsity_fast_path}\")\n"
          ]
        },
        {
          "output_type": "stream",
          "name": "stdout",
          "text": [
            "Station 10946, Epoch [24/120], Loss: 0.6327\n",
            "Station 10946, Epoch [48/120], Loss: 0.6504\n",
            "Station 10946, Epoch [72/120], Loss: 0.5342\n",
            "Station 10946, Epoch [96/120], Loss: 0.5815\n",
            "Station 10946, Epoch [120/120], Loss: 0.5160\n"
          ]
        },
        {
          "output_type": "stream",
          "name": "stderr",
          "text": [
            "/usr/local/lib/python3.10/dist-packages/torch/nn/modules/transformer.py:282: UserWarning: enable_nested_tensor is True, but self.use_nested_tensor is False because encoder_layer.self_attn.batch_first was not True(use batch_first for better inference performance)\n",
            "  warnings.warn(f\"enable_nested_tensor is True, but self.use_nested_tensor is False because {why_not_sparsity_fast_path}\")\n"
          ]
        },
        {
          "output_type": "stream",
          "name": "stdout",
          "text": [
            "Station D3137, Epoch [24/120], Loss: 0.3783\n",
            "Station D3137, Epoch [48/120], Loss: 0.3461\n",
            "Station D3137, Epoch [72/120], Loss: 0.1980\n",
            "Station D3137, Epoch [96/120], Loss: 0.0833\n",
            "Station D3137, Epoch [120/120], Loss: 0.1046\n"
          ]
        },
        {
          "output_type": "stream",
          "name": "stderr",
          "text": [
            "/usr/local/lib/python3.10/dist-packages/torch/nn/modules/transformer.py:282: UserWarning: enable_nested_tensor is True, but self.use_nested_tensor is False because encoder_layer.self_attn.batch_first was not True(use batch_first for better inference performance)\n",
            "  warnings.warn(f\"enable_nested_tensor is True, but self.use_nested_tensor is False because {why_not_sparsity_fast_path}\")\n"
          ]
        },
        {
          "output_type": "stream",
          "name": "stdout",
          "text": [
            "Station 10427, Epoch [24/120], Loss: 0.6785\n",
            "Station 10427, Epoch [48/120], Loss: 0.6277\n",
            "Station 10427, Epoch [72/120], Loss: 0.7048\n",
            "Station 10427, Epoch [96/120], Loss: 0.5272\n",
            "Station 10427, Epoch [120/120], Loss: 0.5798\n"
          ]
        },
        {
          "output_type": "stream",
          "name": "stderr",
          "text": [
            "/usr/local/lib/python3.10/dist-packages/torch/nn/modules/transformer.py:282: UserWarning: enable_nested_tensor is True, but self.use_nested_tensor is False because encoder_layer.self_attn.batch_first was not True(use batch_first for better inference performance)\n",
            "  warnings.warn(f\"enable_nested_tensor is True, but self.use_nested_tensor is False because {why_not_sparsity_fast_path}\")\n"
          ]
        },
        {
          "output_type": "stream",
          "name": "stdout",
          "text": [
            "Station 10382, Epoch [24/120], Loss: 0.4125\n",
            "Station 10382, Epoch [48/120], Loss: 0.1139\n",
            "Station 10382, Epoch [72/120], Loss: 0.1333\n",
            "Station 10382, Epoch [96/120], Loss: 0.0678\n",
            "Station 10382, Epoch [120/120], Loss: 0.0982\n"
          ]
        },
        {
          "output_type": "stream",
          "name": "stderr",
          "text": [
            "/usr/local/lib/python3.10/dist-packages/torch/nn/modules/transformer.py:282: UserWarning: enable_nested_tensor is True, but self.use_nested_tensor is False because encoder_layer.self_attn.batch_first was not True(use batch_first for better inference performance)\n",
            "  warnings.warn(f\"enable_nested_tensor is True, but self.use_nested_tensor is False because {why_not_sparsity_fast_path}\")\n"
          ]
        },
        {
          "output_type": "stream",
          "name": "stdout",
          "text": [
            "Station 72315, Epoch [24/120], Loss: 0.8630\n",
            "Station 72315, Epoch [48/120], Loss: 0.6888\n",
            "Station 72315, Epoch [72/120], Loss: 0.6868\n",
            "Station 72315, Epoch [96/120], Loss: 0.7368\n",
            "Station 72315, Epoch [120/120], Loss: 0.5227\n"
          ]
        },
        {
          "output_type": "stream",
          "name": "stderr",
          "text": [
            "/usr/local/lib/python3.10/dist-packages/torch/nn/modules/transformer.py:282: UserWarning: enable_nested_tensor is True, but self.use_nested_tensor is False because encoder_layer.self_attn.batch_first was not True(use batch_first for better inference performance)\n",
            "  warnings.warn(f\"enable_nested_tensor is True, but self.use_nested_tensor is False because {why_not_sparsity_fast_path}\")\n"
          ]
        },
        {
          "output_type": "stream",
          "name": "stdout",
          "text": [
            "Station 10962, Epoch [24/120], Loss: 0.8081\n",
            "Station 10962, Epoch [48/120], Loss: 0.7176\n",
            "Station 10962, Epoch [72/120], Loss: 0.2613\n",
            "Station 10962, Epoch [96/120], Loss: 0.3390\n",
            "Station 10962, Epoch [120/120], Loss: 0.3068\n"
          ]
        },
        {
          "output_type": "stream",
          "name": "stderr",
          "text": [
            "/usr/local/lib/python3.10/dist-packages/torch/nn/modules/transformer.py:282: UserWarning: enable_nested_tensor is True, but self.use_nested_tensor is False because encoder_layer.self_attn.batch_first was not True(use batch_first for better inference performance)\n",
            "  warnings.warn(f\"enable_nested_tensor is True, but self.use_nested_tensor is False because {why_not_sparsity_fast_path}\")\n"
          ]
        },
        {
          "output_type": "stream",
          "name": "stdout",
          "text": [
            "Station 10948, Epoch [24/120], Loss: 1.8519\n",
            "Station 10948, Epoch [48/120], Loss: 1.8325\n",
            "Station 10948, Epoch [72/120], Loss: 1.2946\n",
            "Station 10948, Epoch [96/120], Loss: 0.6315\n",
            "Station 10948, Epoch [120/120], Loss: 1.2093\n"
          ]
        },
        {
          "output_type": "stream",
          "name": "stderr",
          "text": [
            "/usr/local/lib/python3.10/dist-packages/torch/nn/modules/transformer.py:282: UserWarning: enable_nested_tensor is True, but self.use_nested_tensor is False because encoder_layer.self_attn.batch_first was not True(use batch_first for better inference performance)\n",
            "  warnings.warn(f\"enable_nested_tensor is True, but self.use_nested_tensor is False because {why_not_sparsity_fast_path}\")\n"
          ]
        },
        {
          "output_type": "stream",
          "name": "stdout",
          "text": [
            "Station 72698, Epoch [24/120], Loss: 0.7562\n",
            "Station 72698, Epoch [48/120], Loss: 0.7962\n",
            "Station 72698, Epoch [72/120], Loss: 0.4542\n",
            "Station 72698, Epoch [96/120], Loss: 0.4098\n",
            "Station 72698, Epoch [120/120], Loss: 0.3747\n"
          ]
        },
        {
          "output_type": "stream",
          "name": "stderr",
          "text": [
            "/usr/local/lib/python3.10/dist-packages/torch/nn/modules/transformer.py:282: UserWarning: enable_nested_tensor is True, but self.use_nested_tensor is False because encoder_layer.self_attn.batch_first was not True(use batch_first for better inference performance)\n",
            "  warnings.warn(f\"enable_nested_tensor is True, but self.use_nested_tensor is False because {why_not_sparsity_fast_path}\")\n"
          ]
        },
        {
          "output_type": "stream",
          "name": "stdout",
          "text": [
            "Station 10035, Epoch [24/120], Loss: 0.5235\n",
            "Station 10035, Epoch [48/120], Loss: 0.4268\n",
            "Station 10035, Epoch [72/120], Loss: 0.3468\n",
            "Station 10035, Epoch [96/120], Loss: 0.3870\n",
            "Station 10035, Epoch [120/120], Loss: 0.1993\n"
          ]
        },
        {
          "output_type": "stream",
          "name": "stderr",
          "text": [
            "/usr/local/lib/python3.10/dist-packages/torch/nn/modules/transformer.py:282: UserWarning: enable_nested_tensor is True, but self.use_nested_tensor is False because encoder_layer.self_attn.batch_first was not True(use batch_first for better inference performance)\n",
            "  warnings.warn(f\"enable_nested_tensor is True, but self.use_nested_tensor is False because {why_not_sparsity_fast_path}\")\n"
          ]
        },
        {
          "output_type": "stream",
          "name": "stdout",
          "text": [
            "Station 08487, Epoch [24/120], Loss: 0.2244\n",
            "Station 08487, Epoch [48/120], Loss: 0.2243\n",
            "Station 08487, Epoch [72/120], Loss: 0.1591\n",
            "Station 08487, Epoch [96/120], Loss: 0.1466\n",
            "Station 08487, Epoch [120/120], Loss: 0.1708\n"
          ]
        },
        {
          "output_type": "stream",
          "name": "stderr",
          "text": [
            "/usr/local/lib/python3.10/dist-packages/torch/nn/modules/transformer.py:282: UserWarning: enable_nested_tensor is True, but self.use_nested_tensor is False because encoder_layer.self_attn.batch_first was not True(use batch_first for better inference performance)\n",
            "  warnings.warn(f\"enable_nested_tensor is True, but self.use_nested_tensor is False because {why_not_sparsity_fast_path}\")\n"
          ]
        },
        {
          "output_type": "stream",
          "name": "stdout",
          "text": [
            "Station 10815, Epoch [24/120], Loss: 1.0196\n",
            "Station 10815, Epoch [48/120], Loss: 1.7294\n",
            "Station 10815, Epoch [72/120], Loss: 1.2475\n",
            "Station 10815, Epoch [96/120], Loss: 1.9005\n",
            "Station 10815, Epoch [120/120], Loss: 1.6379\n"
          ]
        },
        {
          "output_type": "stream",
          "name": "stderr",
          "text": [
            "/usr/local/lib/python3.10/dist-packages/torch/nn/modules/transformer.py:282: UserWarning: enable_nested_tensor is True, but self.use_nested_tensor is False because encoder_layer.self_attn.batch_first was not True(use batch_first for better inference performance)\n",
            "  warnings.warn(f\"enable_nested_tensor is True, but self.use_nested_tensor is False because {why_not_sparsity_fast_path}\")\n"
          ]
        },
        {
          "output_type": "stream",
          "name": "stdout",
          "text": [
            "Station D3257, Epoch [24/120], Loss: 0.4193\n",
            "Station D3257, Epoch [48/120], Loss: 0.3882\n",
            "Station D3257, Epoch [72/120], Loss: 0.2636\n",
            "Station D3257, Epoch [96/120], Loss: 0.2718\n",
            "Station D3257, Epoch [120/120], Loss: 0.2723\n"
          ]
        },
        {
          "output_type": "stream",
          "name": "stderr",
          "text": [
            "/usr/local/lib/python3.10/dist-packages/torch/nn/modules/transformer.py:282: UserWarning: enable_nested_tensor is True, but self.use_nested_tensor is False because encoder_layer.self_attn.batch_first was not True(use batch_first for better inference performance)\n",
            "  warnings.warn(f\"enable_nested_tensor is True, but self.use_nested_tensor is False because {why_not_sparsity_fast_path}\")\n"
          ]
        },
        {
          "output_type": "stream",
          "name": "stdout",
          "text": [
            "Station 10430, Epoch [24/120], Loss: 0.4225\n",
            "Station 10430, Epoch [48/120], Loss: 0.3355\n",
            "Station 10430, Epoch [72/120], Loss: 0.2240\n",
            "Station 10430, Epoch [96/120], Loss: 0.2264\n",
            "Station 10430, Epoch [120/120], Loss: 0.1738\n"
          ]
        },
        {
          "output_type": "stream",
          "name": "stderr",
          "text": [
            "/usr/local/lib/python3.10/dist-packages/torch/nn/modules/transformer.py:282: UserWarning: enable_nested_tensor is True, but self.use_nested_tensor is False because encoder_layer.self_attn.batch_first was not True(use batch_first for better inference performance)\n",
            "  warnings.warn(f\"enable_nested_tensor is True, but self.use_nested_tensor is False because {why_not_sparsity_fast_path}\")\n"
          ]
        },
        {
          "output_type": "stream",
          "name": "stdout",
          "text": [
            "Station 10381, Epoch [24/120], Loss: 0.1799\n",
            "Station 10381, Epoch [48/120], Loss: 0.1461\n",
            "Station 10381, Epoch [72/120], Loss: 0.0688\n",
            "Station 10381, Epoch [96/120], Loss: 0.0856\n",
            "Station 10381, Epoch [120/120], Loss: 0.1359\n"
          ]
        },
        {
          "output_type": "stream",
          "name": "stderr",
          "text": [
            "/usr/local/lib/python3.10/dist-packages/torch/nn/modules/transformer.py:282: UserWarning: enable_nested_tensor is True, but self.use_nested_tensor is False because encoder_layer.self_attn.batch_first was not True(use batch_first for better inference performance)\n",
            "  warnings.warn(f\"enable_nested_tensor is True, but self.use_nested_tensor is False because {why_not_sparsity_fast_path}\")\n"
          ]
        },
        {
          "output_type": "stream",
          "name": "stdout",
          "text": [
            "Station 10544, Epoch [24/120], Loss: 0.6088\n",
            "Station 10544, Epoch [48/120], Loss: 0.5632\n",
            "Station 10544, Epoch [72/120], Loss: 0.6190\n",
            "Station 10544, Epoch [96/120], Loss: 0.5481\n",
            "Station 10544, Epoch [120/120], Loss: 0.2470\n"
          ]
        },
        {
          "output_type": "stream",
          "name": "stderr",
          "text": [
            "/usr/local/lib/python3.10/dist-packages/torch/nn/modules/transformer.py:282: UserWarning: enable_nested_tensor is True, but self.use_nested_tensor is False because encoder_layer.self_attn.batch_first was not True(use batch_first for better inference performance)\n",
            "  warnings.warn(f\"enable_nested_tensor is True, but self.use_nested_tensor is False because {why_not_sparsity_fast_path}\")\n"
          ]
        },
        {
          "output_type": "stream",
          "name": "stdout",
          "text": [
            "Station 70273, Epoch [24/120], Loss: 0.6166\n",
            "Station 70273, Epoch [48/120], Loss: 0.2477\n",
            "Station 70273, Epoch [72/120], Loss: 0.1380\n",
            "Station 70273, Epoch [96/120], Loss: 0.1339\n",
            "Station 70273, Epoch [120/120], Loss: 0.0823\n"
          ]
        },
        {
          "output_type": "stream",
          "name": "stderr",
          "text": [
            "/usr/local/lib/python3.10/dist-packages/torch/nn/modules/transformer.py:282: UserWarning: enable_nested_tensor is True, but self.use_nested_tensor is False because encoder_layer.self_attn.batch_first was not True(use batch_first for better inference performance)\n",
            "  warnings.warn(f\"enable_nested_tensor is True, but self.use_nested_tensor is False because {why_not_sparsity_fast_path}\")\n"
          ]
        },
        {
          "output_type": "stream",
          "name": "stdout",
          "text": [
            "Station 10020, Epoch [24/120], Loss: 0.4090\n",
            "Station 10020, Epoch [48/120], Loss: 0.4330\n",
            "Station 10020, Epoch [72/120], Loss: 0.3472\n",
            "Station 10020, Epoch [96/120], Loss: 0.3677\n",
            "Station 10020, Epoch [120/120], Loss: 0.3239\n"
          ]
        },
        {
          "output_type": "stream",
          "name": "stderr",
          "text": [
            "/usr/local/lib/python3.10/dist-packages/torch/nn/modules/transformer.py:282: UserWarning: enable_nested_tensor is True, but self.use_nested_tensor is False because encoder_layer.self_attn.batch_first was not True(use batch_first for better inference performance)\n",
            "  warnings.warn(f\"enable_nested_tensor is True, but self.use_nested_tensor is False because {why_not_sparsity_fast_path}\")\n"
          ]
        },
        {
          "output_type": "stream",
          "name": "stdout",
          "text": [
            "Station 10961, Epoch [24/120], Loss: 1.3963\n",
            "Station 10961, Epoch [48/120], Loss: 1.3724\n",
            "Station 10961, Epoch [72/120], Loss: 1.3777\n",
            "Station 10961, Epoch [96/120], Loss: 1.4041\n",
            "Station 10961, Epoch [120/120], Loss: 1.3194\n"
          ]
        },
        {
          "output_type": "stream",
          "name": "stderr",
          "text": [
            "/usr/local/lib/python3.10/dist-packages/torch/nn/modules/transformer.py:282: UserWarning: enable_nested_tensor is True, but self.use_nested_tensor is False because encoder_layer.self_attn.batch_first was not True(use batch_first for better inference performance)\n",
            "  warnings.warn(f\"enable_nested_tensor is True, but self.use_nested_tensor is False because {why_not_sparsity_fast_path}\")\n"
          ]
        },
        {
          "output_type": "stream",
          "name": "stdout",
          "text": [
            "Station 10742, Epoch [24/120], Loss: 0.3842\n",
            "Station 10742, Epoch [48/120], Loss: 0.3327\n",
            "Station 10742, Epoch [72/120], Loss: 0.3082\n",
            "Station 10742, Epoch [96/120], Loss: 0.3256\n",
            "Station 10742, Epoch [120/120], Loss: 0.1852\n"
          ]
        },
        {
          "output_type": "stream",
          "name": "stderr",
          "text": [
            "/usr/local/lib/python3.10/dist-packages/torch/nn/modules/transformer.py:282: UserWarning: enable_nested_tensor is True, but self.use_nested_tensor is False because encoder_layer.self_attn.batch_first was not True(use batch_first for better inference performance)\n",
            "  warnings.warn(f\"enable_nested_tensor is True, but self.use_nested_tensor is False because {why_not_sparsity_fast_path}\")\n"
          ]
        },
        {
          "output_type": "stream",
          "name": "stdout",
          "text": [
            "Station 10554, Epoch [24/120], Loss: 0.4098\n",
            "Station 10554, Epoch [48/120], Loss: 0.1688\n",
            "Station 10554, Epoch [72/120], Loss: 0.1106\n",
            "Station 10554, Epoch [96/120], Loss: 0.1196\n",
            "Station 10554, Epoch [120/120], Loss: 0.1474\n"
          ]
        },
        {
          "output_type": "stream",
          "name": "stderr",
          "text": [
            "/usr/local/lib/python3.10/dist-packages/torch/nn/modules/transformer.py:282: UserWarning: enable_nested_tensor is True, but self.use_nested_tensor is False because encoder_layer.self_attn.batch_first was not True(use batch_first for better inference performance)\n",
            "  warnings.warn(f\"enable_nested_tensor is True, but self.use_nested_tensor is False because {why_not_sparsity_fast_path}\")\n"
          ]
        },
        {
          "output_type": "stream",
          "name": "stdout",
          "text": [
            "Station 10385, Epoch [24/120], Loss: 0.1631\n",
            "Station 10385, Epoch [48/120], Loss: 0.0738\n",
            "Station 10385, Epoch [72/120], Loss: 0.0975\n",
            "Station 10385, Epoch [96/120], Loss: 0.1167\n",
            "Station 10385, Epoch [120/120], Loss: 0.0877\n"
          ]
        },
        {
          "output_type": "stream",
          "name": "stderr",
          "text": [
            "/usr/local/lib/python3.10/dist-packages/torch/nn/modules/transformer.py:282: UserWarning: enable_nested_tensor is True, but self.use_nested_tensor is False because encoder_layer.self_attn.batch_first was not True(use batch_first for better inference performance)\n",
            "  warnings.warn(f\"enable_nested_tensor is True, but self.use_nested_tensor is False because {why_not_sparsity_fast_path}\")\n"
          ]
        },
        {
          "output_type": "stream",
          "name": "stdout",
          "text": [
            "Station 10637, Epoch [24/120], Loss: 0.4124\n",
            "Station 10637, Epoch [48/120], Loss: 0.3886\n",
            "Station 10637, Epoch [72/120], Loss: 0.3183\n",
            "Station 10637, Epoch [96/120], Loss: 0.1529\n",
            "Station 10637, Epoch [120/120], Loss: 0.1523\n"
          ]
        },
        {
          "output_type": "stream",
          "name": "stderr",
          "text": [
            "/usr/local/lib/python3.10/dist-packages/torch/nn/modules/transformer.py:282: UserWarning: enable_nested_tensor is True, but self.use_nested_tensor is False because encoder_layer.self_attn.batch_first was not True(use batch_first for better inference performance)\n",
            "  warnings.warn(f\"enable_nested_tensor is True, but self.use_nested_tensor is False because {why_not_sparsity_fast_path}\")\n"
          ]
        },
        {
          "output_type": "stream",
          "name": "stdout",
          "text": [
            "Station D0217, Epoch [24/120], Loss: 0.6014\n",
            "Station D0217, Epoch [48/120], Loss: 0.5962\n",
            "Station D0217, Epoch [72/120], Loss: 0.3421\n",
            "Station D0217, Epoch [96/120], Loss: 0.3071\n",
            "Station D0217, Epoch [120/120], Loss: 0.2601\n"
          ]
        },
        {
          "output_type": "stream",
          "name": "stderr",
          "text": [
            "/usr/local/lib/python3.10/dist-packages/torch/nn/modules/transformer.py:282: UserWarning: enable_nested_tensor is True, but self.use_nested_tensor is False because encoder_layer.self_attn.batch_first was not True(use batch_first for better inference performance)\n",
            "  warnings.warn(f\"enable_nested_tensor is True, but self.use_nested_tensor is False because {why_not_sparsity_fast_path}\")\n"
          ]
        },
        {
          "output_type": "stream",
          "name": "stdout",
          "text": [
            "Station 10384, Epoch [24/120], Loss: 0.2881\n",
            "Station 10384, Epoch [48/120], Loss: 0.2864\n",
            "Station 10384, Epoch [72/120], Loss: 0.1088\n",
            "Station 10384, Epoch [96/120], Loss: 0.0652\n",
            "Station 10384, Epoch [120/120], Loss: 0.1027\n"
          ]
        },
        {
          "output_type": "stream",
          "name": "stderr",
          "text": [
            "/usr/local/lib/python3.10/dist-packages/torch/nn/modules/transformer.py:282: UserWarning: enable_nested_tensor is True, but self.use_nested_tensor is False because encoder_layer.self_attn.batch_first was not True(use batch_first for better inference performance)\n",
            "  warnings.warn(f\"enable_nested_tensor is True, but self.use_nested_tensor is False because {why_not_sparsity_fast_path}\")\n"
          ]
        },
        {
          "output_type": "stream",
          "name": "stdout",
          "text": [
            "Station D2947, Epoch [24/120], Loss: 0.4386\n",
            "Station D2947, Epoch [48/120], Loss: 0.2756\n",
            "Station D2947, Epoch [72/120], Loss: 0.1789\n",
            "Station D2947, Epoch [96/120], Loss: 0.7418\n",
            "Station D2947, Epoch [120/120], Loss: 0.5506\n"
          ]
        },
        {
          "output_type": "stream",
          "name": "stderr",
          "text": [
            "/usr/local/lib/python3.10/dist-packages/torch/nn/modules/transformer.py:282: UserWarning: enable_nested_tensor is True, but self.use_nested_tensor is False because encoder_layer.self_attn.batch_first was not True(use batch_first for better inference performance)\n",
            "  warnings.warn(f\"enable_nested_tensor is True, but self.use_nested_tensor is False because {why_not_sparsity_fast_path}\")\n"
          ]
        },
        {
          "output_type": "stream",
          "name": "stdout",
          "text": [
            "Station 10379, Epoch [24/120], Loss: 0.4134\n",
            "Station 10379, Epoch [48/120], Loss: 0.3536\n",
            "Station 10379, Epoch [72/120], Loss: 0.2987\n",
            "Station 10379, Epoch [96/120], Loss: 0.3362\n",
            "Station 10379, Epoch [120/120], Loss: 0.1522\n"
          ]
        },
        {
          "output_type": "stream",
          "name": "stderr",
          "text": [
            "/usr/local/lib/python3.10/dist-packages/torch/nn/modules/transformer.py:282: UserWarning: enable_nested_tensor is True, but self.use_nested_tensor is False because encoder_layer.self_attn.batch_first was not True(use batch_first for better inference performance)\n",
            "  warnings.warn(f\"enable_nested_tensor is True, but self.use_nested_tensor is False because {why_not_sparsity_fast_path}\")\n"
          ]
        },
        {
          "output_type": "stream",
          "name": "stdout",
          "text": [
            "Station 10184, Epoch [24/120], Loss: 0.4104\n",
            "Station 10184, Epoch [48/120], Loss: 0.3854\n",
            "Station 10184, Epoch [72/120], Loss: 0.3793\n",
            "Station 10184, Epoch [96/120], Loss: 0.1315\n",
            "Station 10184, Epoch [120/120], Loss: 0.1689\n"
          ]
        },
        {
          "output_type": "stream",
          "name": "stderr",
          "text": [
            "/usr/local/lib/python3.10/dist-packages/torch/nn/modules/transformer.py:282: UserWarning: enable_nested_tensor is True, but self.use_nested_tensor is False because encoder_layer.self_attn.batch_first was not True(use batch_first for better inference performance)\n",
            "  warnings.warn(f\"enable_nested_tensor is True, but self.use_nested_tensor is False because {why_not_sparsity_fast_path}\")\n"
          ]
        },
        {
          "output_type": "stream",
          "name": "stdout",
          "text": [
            "Station 10147, Epoch [24/120], Loss: 0.4834\n",
            "Station 10147, Epoch [48/120], Loss: 0.3544\n",
            "Station 10147, Epoch [72/120], Loss: 0.4420\n",
            "Station 10147, Epoch [96/120], Loss: 0.3432\n",
            "Station 10147, Epoch [120/120], Loss: 0.2899\n"
          ]
        },
        {
          "output_type": "stream",
          "name": "stderr",
          "text": [
            "/usr/local/lib/python3.10/dist-packages/torch/nn/modules/transformer.py:282: UserWarning: enable_nested_tensor is True, but self.use_nested_tensor is False because encoder_layer.self_attn.batch_first was not True(use batch_first for better inference performance)\n",
            "  warnings.warn(f\"enable_nested_tensor is True, but self.use_nested_tensor is False because {why_not_sparsity_fast_path}\")\n"
          ]
        },
        {
          "output_type": "stream",
          "name": "stdout",
          "text": [
            "Station 72270, Epoch [24/120], Loss: 0.5020\n",
            "Station 72270, Epoch [48/120], Loss: 0.4834\n",
            "Station 72270, Epoch [72/120], Loss: 0.1549\n",
            "Station 72270, Epoch [96/120], Loss: 0.1229\n",
            "Station 72270, Epoch [120/120], Loss: 0.0852\n"
          ]
        },
        {
          "output_type": "stream",
          "name": "stderr",
          "text": [
            "/usr/local/lib/python3.10/dist-packages/torch/nn/modules/transformer.py:282: UserWarning: enable_nested_tensor is True, but self.use_nested_tensor is False because encoder_layer.self_attn.batch_first was not True(use batch_first for better inference performance)\n",
            "  warnings.warn(f\"enable_nested_tensor is True, but self.use_nested_tensor is False because {why_not_sparsity_fast_path}\")\n"
          ]
        },
        {
          "output_type": "stream",
          "name": "stdout",
          "text": [
            "Station 10393, Epoch [24/120], Loss: 0.2881\n",
            "Station 10393, Epoch [48/120], Loss: 0.1146\n",
            "Station 10393, Epoch [72/120], Loss: 0.1013\n",
            "Station 10393, Epoch [96/120], Loss: 0.1056\n",
            "Station 10393, Epoch [120/120], Loss: 0.1062\n"
          ]
        },
        {
          "output_type": "stream",
          "name": "stderr",
          "text": [
            "/usr/local/lib/python3.10/dist-packages/torch/nn/modules/transformer.py:282: UserWarning: enable_nested_tensor is True, but self.use_nested_tensor is False because encoder_layer.self_attn.batch_first was not True(use batch_first for better inference performance)\n",
            "  warnings.warn(f\"enable_nested_tensor is True, but self.use_nested_tensor is False because {why_not_sparsity_fast_path}\")\n"
          ]
        },
        {
          "output_type": "stream",
          "name": "stdout",
          "text": [
            "Station 10542, Epoch [24/120], Loss: 0.4646\n",
            "Station 10542, Epoch [48/120], Loss: 0.3635\n",
            "Station 10542, Epoch [72/120], Loss: 0.2173\n",
            "Station 10542, Epoch [96/120], Loss: 0.1868\n",
            "Station 10542, Epoch [120/120], Loss: 0.1961\n"
          ]
        },
        {
          "output_type": "stream",
          "name": "stderr",
          "text": [
            "/usr/local/lib/python3.10/dist-packages/torch/nn/modules/transformer.py:282: UserWarning: enable_nested_tensor is True, but self.use_nested_tensor is False because encoder_layer.self_attn.batch_first was not True(use batch_first for better inference performance)\n",
            "  warnings.warn(f\"enable_nested_tensor is True, but self.use_nested_tensor is False because {why_not_sparsity_fast_path}\")\n"
          ]
        },
        {
          "output_type": "stream",
          "name": "stdout",
          "text": [
            "Station 71816, Epoch [24/120], Loss: 0.7752\n",
            "Station 71816, Epoch [48/120], Loss: 0.5798\n",
            "Station 71816, Epoch [72/120], Loss: 0.5667\n",
            "Station 71816, Epoch [96/120], Loss: 0.5512\n",
            "Station 71816, Epoch [120/120], Loss: 0.6255\n"
          ]
        },
        {
          "output_type": "stream",
          "name": "stderr",
          "text": [
            "/usr/local/lib/python3.10/dist-packages/torch/nn/modules/transformer.py:282: UserWarning: enable_nested_tensor is True, but self.use_nested_tensor is False because encoder_layer.self_attn.batch_first was not True(use batch_first for better inference performance)\n",
            "  warnings.warn(f\"enable_nested_tensor is True, but self.use_nested_tensor is False because {why_not_sparsity_fast_path}\")\n"
          ]
        },
        {
          "output_type": "stream",
          "name": "stdout",
          "text": [
            "Station 10224, Epoch [24/120], Loss: 0.3797\n",
            "Station 10224, Epoch [48/120], Loss: 0.3445\n",
            "Station 10224, Epoch [72/120], Loss: 0.2248\n",
            "Station 10224, Epoch [96/120], Loss: 0.2037\n",
            "Station 10224, Epoch [120/120], Loss: 0.1531\n"
          ]
        },
        {
          "output_type": "stream",
          "name": "stderr",
          "text": [
            "/usr/local/lib/python3.10/dist-packages/torch/nn/modules/transformer.py:282: UserWarning: enable_nested_tensor is True, but self.use_nested_tensor is False because encoder_layer.self_attn.batch_first was not True(use batch_first for better inference performance)\n",
            "  warnings.warn(f\"enable_nested_tensor is True, but self.use_nested_tensor is False because {why_not_sparsity_fast_path}\")\n"
          ]
        },
        {
          "output_type": "stream",
          "name": "stdout",
          "text": [
            "Station 72476, Epoch [24/120], Loss: 0.2868\n",
            "Station 72476, Epoch [48/120], Loss: 0.1099\n",
            "Station 72476, Epoch [72/120], Loss: 0.1020\n",
            "Station 72476, Epoch [96/120], Loss: 0.0731\n",
            "Station 72476, Epoch [120/120], Loss: 0.0586\n"
          ]
        },
        {
          "output_type": "stream",
          "name": "stderr",
          "text": [
            "/usr/local/lib/python3.10/dist-packages/torch/nn/modules/transformer.py:282: UserWarning: enable_nested_tensor is True, but self.use_nested_tensor is False because encoder_layer.self_attn.batch_first was not True(use batch_first for better inference performance)\n",
            "  warnings.warn(f\"enable_nested_tensor is True, but self.use_nested_tensor is False because {why_not_sparsity_fast_path}\")\n"
          ]
        },
        {
          "output_type": "stream",
          "name": "stdout",
          "text": [
            "Station 70261, Epoch [24/120], Loss: 0.4119\n",
            "Station 70261, Epoch [48/120], Loss: 0.4785\n",
            "Station 70261, Epoch [72/120], Loss: 0.3890\n",
            "Station 70261, Epoch [96/120], Loss: 0.4193\n",
            "Station 70261, Epoch [120/120], Loss: 0.2198\n"
          ]
        },
        {
          "output_type": "stream",
          "name": "stderr",
          "text": [
            "/usr/local/lib/python3.10/dist-packages/torch/nn/modules/transformer.py:282: UserWarning: enable_nested_tensor is True, but self.use_nested_tensor is False because encoder_layer.self_attn.batch_first was not True(use batch_first for better inference performance)\n",
            "  warnings.warn(f\"enable_nested_tensor is True, but self.use_nested_tensor is False because {why_not_sparsity_fast_path}\")\n"
          ]
        },
        {
          "output_type": "stream",
          "name": "stdout",
          "text": [
            "Station D4377, Epoch [24/120], Loss: 0.5592\n",
            "Station D4377, Epoch [48/120], Loss: 0.3762\n",
            "Station D4377, Epoch [72/120], Loss: 0.2693\n",
            "Station D4377, Epoch [96/120], Loss: 0.2056\n",
            "Station D4377, Epoch [120/120], Loss: 0.2017\n"
          ]
        },
        {
          "output_type": "stream",
          "name": "stderr",
          "text": [
            "/usr/local/lib/python3.10/dist-packages/torch/nn/modules/transformer.py:282: UserWarning: enable_nested_tensor is True, but self.use_nested_tensor is False because encoder_layer.self_attn.batch_first was not True(use batch_first for better inference performance)\n",
            "  warnings.warn(f\"enable_nested_tensor is True, but self.use_nested_tensor is False because {why_not_sparsity_fast_path}\")\n"
          ]
        },
        {
          "output_type": "stream",
          "name": "stdout",
          "text": [
            "Station 03377, Epoch [24/120], Loss: 0.3054\n",
            "Station 03377, Epoch [48/120], Loss: 0.3269\n",
            "Station 03377, Epoch [72/120], Loss: 0.2692\n",
            "Station 03377, Epoch [96/120], Loss: 0.2336\n",
            "Station 03377, Epoch [120/120], Loss: 0.2652\n"
          ]
        },
        {
          "output_type": "stream",
          "name": "stderr",
          "text": [
            "/usr/local/lib/python3.10/dist-packages/torch/nn/modules/transformer.py:282: UserWarning: enable_nested_tensor is True, but self.use_nested_tensor is False because encoder_layer.self_attn.batch_first was not True(use batch_first for better inference performance)\n",
            "  warnings.warn(f\"enable_nested_tensor is True, but self.use_nested_tensor is False because {why_not_sparsity_fast_path}\")\n"
          ]
        },
        {
          "output_type": "stream",
          "name": "stdout",
          "text": [
            "Station 10685, Epoch [24/120], Loss: 0.7453\n",
            "Station 10685, Epoch [48/120], Loss: 0.7302\n",
            "Station 10685, Epoch [72/120], Loss: 0.7296\n",
            "Station 10685, Epoch [96/120], Loss: 0.4532\n",
            "Station 10685, Epoch [120/120], Loss: 0.4584\n"
          ]
        },
        {
          "output_type": "stream",
          "name": "stderr",
          "text": [
            "/usr/local/lib/python3.10/dist-packages/torch/nn/modules/transformer.py:282: UserWarning: enable_nested_tensor is True, but self.use_nested_tensor is False because encoder_layer.self_attn.batch_first was not True(use batch_first for better inference performance)\n",
            "  warnings.warn(f\"enable_nested_tensor is True, but self.use_nested_tensor is False because {why_not_sparsity_fast_path}\")\n"
          ]
        },
        {
          "output_type": "stream",
          "name": "stdout",
          "text": [
            "Station 10875, Epoch [24/120], Loss: 0.5449\n",
            "Station 10875, Epoch [48/120], Loss: 0.5277\n",
            "Station 10875, Epoch [72/120], Loss: 0.2069\n",
            "Station 10875, Epoch [96/120], Loss: 0.1555\n",
            "Station 10875, Epoch [120/120], Loss: 0.1465\n"
          ]
        },
        {
          "output_type": "stream",
          "name": "stderr",
          "text": [
            "/usr/local/lib/python3.10/dist-packages/torch/nn/modules/transformer.py:282: UserWarning: enable_nested_tensor is True, but self.use_nested_tensor is False because encoder_layer.self_attn.batch_first was not True(use batch_first for better inference performance)\n",
            "  warnings.warn(f\"enable_nested_tensor is True, but self.use_nested_tensor is False because {why_not_sparsity_fast_path}\")\n"
          ]
        },
        {
          "output_type": "stream",
          "name": "stdout",
          "text": [
            "Station 10444, Epoch [24/120], Loss: 0.4984\n",
            "Station 10444, Epoch [48/120], Loss: 0.4731\n",
            "Station 10444, Epoch [72/120], Loss: 0.2375\n",
            "Station 10444, Epoch [96/120], Loss: 0.2216\n",
            "Station 10444, Epoch [120/120], Loss: 0.2201\n"
          ]
        },
        {
          "output_type": "stream",
          "name": "stderr",
          "text": [
            "/usr/local/lib/python3.10/dist-packages/torch/nn/modules/transformer.py:282: UserWarning: enable_nested_tensor is True, but self.use_nested_tensor is False because encoder_layer.self_attn.batch_first was not True(use batch_first for better inference performance)\n",
            "  warnings.warn(f\"enable_nested_tensor is True, but self.use_nested_tensor is False because {why_not_sparsity_fast_path}\")\n"
          ]
        },
        {
          "output_type": "stream",
          "name": "stdout",
          "text": [
            "Station 72202, Epoch [24/120], Loss: 3.8390\n",
            "Station 72202, Epoch [48/120], Loss: 3.6165\n",
            "Station 72202, Epoch [72/120], Loss: 3.5430\n",
            "Station 72202, Epoch [96/120], Loss: 3.6506\n",
            "Station 72202, Epoch [120/120], Loss: 2.7030\n"
          ]
        },
        {
          "output_type": "stream",
          "name": "stderr",
          "text": [
            "/usr/local/lib/python3.10/dist-packages/torch/nn/modules/transformer.py:282: UserWarning: enable_nested_tensor is True, but self.use_nested_tensor is False because encoder_layer.self_attn.batch_first was not True(use batch_first for better inference performance)\n",
            "  warnings.warn(f\"enable_nested_tensor is True, but self.use_nested_tensor is False because {why_not_sparsity_fast_path}\")\n"
          ]
        },
        {
          "output_type": "stream",
          "name": "stdout",
          "text": [
            "Station 10929, Epoch [24/120], Loss: 0.3373\n",
            "Station 10929, Epoch [48/120], Loss: 0.2960\n",
            "Station 10929, Epoch [72/120], Loss: 0.2722\n",
            "Station 10929, Epoch [96/120], Loss: 0.2036\n",
            "Station 10929, Epoch [120/120], Loss: 0.2361\n"
          ]
        },
        {
          "output_type": "stream",
          "name": "stderr",
          "text": [
            "/usr/local/lib/python3.10/dist-packages/torch/nn/modules/transformer.py:282: UserWarning: enable_nested_tensor is True, but self.use_nested_tensor is False because encoder_layer.self_attn.batch_first was not True(use batch_first for better inference performance)\n",
            "  warnings.warn(f\"enable_nested_tensor is True, but self.use_nested_tensor is False because {why_not_sparsity_fast_path}\")\n"
          ]
        },
        {
          "output_type": "stream",
          "name": "stdout",
          "text": [
            "Station 03969, Epoch [24/120], Loss: 0.4549\n",
            "Station 03969, Epoch [48/120], Loss: 0.3431\n",
            "Station 03969, Epoch [72/120], Loss: 0.3277\n",
            "Station 03969, Epoch [96/120], Loss: 0.3341\n",
            "Station 03969, Epoch [120/120], Loss: 0.3157\n"
          ]
        },
        {
          "output_type": "stream",
          "name": "stderr",
          "text": [
            "/usr/local/lib/python3.10/dist-packages/torch/nn/modules/transformer.py:282: UserWarning: enable_nested_tensor is True, but self.use_nested_tensor is False because encoder_layer.self_attn.batch_first was not True(use batch_first for better inference performance)\n",
            "  warnings.warn(f\"enable_nested_tensor is True, but self.use_nested_tensor is False because {why_not_sparsity_fast_path}\")\n"
          ]
        },
        {
          "output_type": "stream",
          "name": "stdout",
          "text": [
            "Station D0853, Epoch [24/120], Loss: 0.5372\n",
            "Station D0853, Epoch [48/120], Loss: 0.5518\n",
            "Station D0853, Epoch [72/120], Loss: 0.4840\n",
            "Station D0853, Epoch [96/120], Loss: 0.3415\n",
            "Station D0853, Epoch [120/120], Loss: 0.2345\n"
          ]
        },
        {
          "output_type": "stream",
          "name": "stderr",
          "text": [
            "/usr/local/lib/python3.10/dist-packages/torch/nn/modules/transformer.py:282: UserWarning: enable_nested_tensor is True, but self.use_nested_tensor is False because encoder_layer.self_attn.batch_first was not True(use batch_first for better inference performance)\n",
            "  warnings.warn(f\"enable_nested_tensor is True, but self.use_nested_tensor is False because {why_not_sparsity_fast_path}\")\n"
          ]
        },
        {
          "output_type": "stream",
          "name": "stdout",
          "text": [
            "Station 10526, Epoch [24/120], Loss: 0.6479\n",
            "Station 10526, Epoch [48/120], Loss: 0.2642\n",
            "Station 10526, Epoch [72/120], Loss: 0.1640\n",
            "Station 10526, Epoch [96/120], Loss: 0.4750\n",
            "Station 10526, Epoch [120/120], Loss: 0.3385\n"
          ]
        },
        {
          "output_type": "stream",
          "name": "stderr",
          "text": [
            "/usr/local/lib/python3.10/dist-packages/torch/nn/modules/transformer.py:282: UserWarning: enable_nested_tensor is True, but self.use_nested_tensor is False because encoder_layer.self_attn.batch_first was not True(use batch_first for better inference performance)\n",
            "  warnings.warn(f\"enable_nested_tensor is True, but self.use_nested_tensor is False because {why_not_sparsity_fast_path}\")\n"
          ]
        },
        {
          "output_type": "stream",
          "name": "stdout",
          "text": [
            "Station 72572, Epoch [24/120], Loss: 0.2643\n",
            "Station 72572, Epoch [48/120], Loss: 0.1880\n",
            "Station 72572, Epoch [72/120], Loss: 0.0946\n",
            "Station 72572, Epoch [96/120], Loss: 0.1211\n",
            "Station 72572, Epoch [120/120], Loss: 0.0792\n"
          ]
        },
        {
          "output_type": "stream",
          "name": "stderr",
          "text": [
            "/usr/local/lib/python3.10/dist-packages/torch/nn/modules/transformer.py:282: UserWarning: enable_nested_tensor is True, but self.use_nested_tensor is False because encoder_layer.self_attn.batch_first was not True(use batch_first for better inference performance)\n",
            "  warnings.warn(f\"enable_nested_tensor is True, but self.use_nested_tensor is False because {why_not_sparsity_fast_path}\")\n"
          ]
        },
        {
          "output_type": "stream",
          "name": "stdout",
          "text": [
            "Station 71906, Epoch [24/120], Loss: 1.0990\n",
            "Station 71906, Epoch [48/120], Loss: 0.2921\n",
            "Station 71906, Epoch [72/120], Loss: 0.1452\n",
            "Station 71906, Epoch [96/120], Loss: 0.1264\n",
            "Station 71906, Epoch [120/120], Loss: 0.1409\n"
          ]
        },
        {
          "output_type": "stream",
          "name": "stderr",
          "text": [
            "/usr/local/lib/python3.10/dist-packages/torch/nn/modules/transformer.py:282: UserWarning: enable_nested_tensor is True, but self.use_nested_tensor is False because encoder_layer.self_attn.batch_first was not True(use batch_first for better inference performance)\n",
            "  warnings.warn(f\"enable_nested_tensor is True, but self.use_nested_tensor is False because {why_not_sparsity_fast_path}\")\n"
          ]
        },
        {
          "output_type": "stream",
          "name": "stdout",
          "text": [
            "Station 72764, Epoch [24/120], Loss: 0.1952\n",
            "Station 72764, Epoch [48/120], Loss: 0.1010\n",
            "Station 72764, Epoch [72/120], Loss: 0.0897\n",
            "Station 72764, Epoch [96/120], Loss: 0.0839\n",
            "Station 72764, Epoch [120/120], Loss: 0.0768\n"
          ]
        },
        {
          "output_type": "stream",
          "name": "stderr",
          "text": [
            "/usr/local/lib/python3.10/dist-packages/torch/nn/modules/transformer.py:282: UserWarning: enable_nested_tensor is True, but self.use_nested_tensor is False because encoder_layer.self_attn.batch_first was not True(use batch_first for better inference performance)\n",
            "  warnings.warn(f\"enable_nested_tensor is True, but self.use_nested_tensor is False because {why_not_sparsity_fast_path}\")\n"
          ]
        },
        {
          "output_type": "stream",
          "name": "stdout",
          "text": [
            "Station 23933, Epoch [24/120], Loss: 0.2379\n",
            "Station 23933, Epoch [48/120], Loss: 0.2057\n",
            "Station 23933, Epoch [72/120], Loss: 0.1663\n",
            "Station 23933, Epoch [96/120], Loss: 0.1538\n",
            "Station 23933, Epoch [120/120], Loss: 0.1501\n"
          ]
        },
        {
          "output_type": "stream",
          "name": "stderr",
          "text": [
            "/usr/local/lib/python3.10/dist-packages/torch/nn/modules/transformer.py:282: UserWarning: enable_nested_tensor is True, but self.use_nested_tensor is False because encoder_layer.self_attn.batch_first was not True(use batch_first for better inference performance)\n",
            "  warnings.warn(f\"enable_nested_tensor is True, but self.use_nested_tensor is False because {why_not_sparsity_fast_path}\")\n"
          ]
        },
        {
          "output_type": "stream",
          "name": "stdout",
          "text": [
            "Station 25563, Epoch [24/120], Loss: 0.3866\n",
            "Station 25563, Epoch [48/120], Loss: 0.1748\n",
            "Station 25563, Epoch [72/120], Loss: 0.0881\n",
            "Station 25563, Epoch [96/120], Loss: 0.0926\n",
            "Station 25563, Epoch [120/120], Loss: 0.0882\n"
          ]
        },
        {
          "output_type": "stream",
          "name": "stderr",
          "text": [
            "/usr/local/lib/python3.10/dist-packages/torch/nn/modules/transformer.py:282: UserWarning: enable_nested_tensor is True, but self.use_nested_tensor is False because encoder_layer.self_attn.batch_first was not True(use batch_first for better inference performance)\n",
            "  warnings.warn(f\"enable_nested_tensor is True, but self.use_nested_tensor is False because {why_not_sparsity_fast_path}\")\n"
          ]
        },
        {
          "output_type": "stream",
          "name": "stdout",
          "text": [
            "Station D2700, Epoch [24/120], Loss: 0.2426\n",
            "Station D2700, Epoch [48/120], Loss: 0.2027\n",
            "Station D2700, Epoch [72/120], Loss: 0.1551\n",
            "Station D2700, Epoch [96/120], Loss: 0.2052\n",
            "Station D2700, Epoch [120/120], Loss: 0.1390\n"
          ]
        },
        {
          "output_type": "stream",
          "name": "stderr",
          "text": [
            "/usr/local/lib/python3.10/dist-packages/torch/nn/modules/transformer.py:282: UserWarning: enable_nested_tensor is True, but self.use_nested_tensor is False because encoder_layer.self_attn.batch_first was not True(use batch_first for better inference performance)\n",
            "  warnings.warn(f\"enable_nested_tensor is True, but self.use_nested_tensor is False because {why_not_sparsity_fast_path}\")\n"
          ]
        },
        {
          "output_type": "stream",
          "name": "stdout",
          "text": [
            "Station D1590, Epoch [24/120], Loss: 0.5773\n",
            "Station D1590, Epoch [48/120], Loss: 0.5351\n",
            "Station D1590, Epoch [72/120], Loss: 0.2448\n",
            "Station D1590, Epoch [96/120], Loss: 0.2868\n",
            "Station D1590, Epoch [120/120], Loss: 0.3640\n"
          ]
        },
        {
          "output_type": "stream",
          "name": "stderr",
          "text": [
            "/usr/local/lib/python3.10/dist-packages/torch/nn/modules/transformer.py:282: UserWarning: enable_nested_tensor is True, but self.use_nested_tensor is False because encoder_layer.self_attn.batch_first was not True(use batch_first for better inference performance)\n",
            "  warnings.warn(f\"enable_nested_tensor is True, but self.use_nested_tensor is False because {why_not_sparsity_fast_path}\")\n"
          ]
        },
        {
          "output_type": "stream",
          "name": "stdout",
          "text": [
            "Station 72365, Epoch [24/120], Loss: 0.6019\n",
            "Station 72365, Epoch [48/120], Loss: 0.5168\n",
            "Station 72365, Epoch [72/120], Loss: 0.2190\n",
            "Station 72365, Epoch [96/120], Loss: 0.0758\n",
            "Station 72365, Epoch [120/120], Loss: 0.0824\n"
          ]
        },
        {
          "output_type": "stream",
          "name": "stderr",
          "text": [
            "/usr/local/lib/python3.10/dist-packages/torch/nn/modules/transformer.py:282: UserWarning: enable_nested_tensor is True, but self.use_nested_tensor is False because encoder_layer.self_attn.batch_first was not True(use batch_first for better inference performance)\n",
            "  warnings.warn(f\"enable_nested_tensor is True, but self.use_nested_tensor is False because {why_not_sparsity_fast_path}\")\n"
          ]
        },
        {
          "output_type": "stream",
          "name": "stdout",
          "text": [
            "Station 06235, Epoch [24/120], Loss: 0.7562\n",
            "Station 06235, Epoch [48/120], Loss: 0.7156\n",
            "Station 06235, Epoch [72/120], Loss: 0.5706\n",
            "Station 06235, Epoch [96/120], Loss: 0.4760\n",
            "Station 06235, Epoch [120/120], Loss: 0.4603\n"
          ]
        },
        {
          "output_type": "stream",
          "name": "stderr",
          "text": [
            "/usr/local/lib/python3.10/dist-packages/torch/nn/modules/transformer.py:282: UserWarning: enable_nested_tensor is True, but self.use_nested_tensor is False because encoder_layer.self_attn.batch_first was not True(use batch_first for better inference performance)\n",
            "  warnings.warn(f\"enable_nested_tensor is True, but self.use_nested_tensor is False because {why_not_sparsity_fast_path}\")\n"
          ]
        },
        {
          "output_type": "stream",
          "name": "stdout",
          "text": [
            "Station 10655, Epoch [24/120], Loss: 0.3917\n",
            "Station 10655, Epoch [48/120], Loss: 0.4500\n",
            "Station 10655, Epoch [72/120], Loss: 0.2542\n",
            "Station 10655, Epoch [96/120], Loss: 0.1889\n",
            "Station 10655, Epoch [120/120], Loss: 0.1820\n"
          ]
        },
        {
          "output_type": "stream",
          "name": "stderr",
          "text": [
            "/usr/local/lib/python3.10/dist-packages/torch/nn/modules/transformer.py:282: UserWarning: enable_nested_tensor is True, but self.use_nested_tensor is False because encoder_layer.self_attn.batch_first was not True(use batch_first for better inference performance)\n",
            "  warnings.warn(f\"enable_nested_tensor is True, but self.use_nested_tensor is False because {why_not_sparsity_fast_path}\")\n"
          ]
        },
        {
          "output_type": "stream",
          "name": "stdout",
          "text": [
            "Station 72562, Epoch [24/120], Loss: 0.8316\n",
            "Station 72562, Epoch [48/120], Loss: 0.4027\n",
            "Station 72562, Epoch [72/120], Loss: 0.2541\n",
            "Station 72562, Epoch [96/120], Loss: 0.2399\n",
            "Station 72562, Epoch [120/120], Loss: 0.1953\n"
          ]
        },
        {
          "output_type": "stream",
          "name": "stderr",
          "text": [
            "/usr/local/lib/python3.10/dist-packages/torch/nn/modules/transformer.py:282: UserWarning: enable_nested_tensor is True, but self.use_nested_tensor is False because encoder_layer.self_attn.batch_first was not True(use batch_first for better inference performance)\n",
            "  warnings.warn(f\"enable_nested_tensor is True, but self.use_nested_tensor is False because {why_not_sparsity_fast_path}\")\n"
          ]
        },
        {
          "output_type": "stream",
          "name": "stdout",
          "text": [
            "Station D2932, Epoch [24/120], Loss: 0.3798\n",
            "Station D2932, Epoch [48/120], Loss: 0.2848\n",
            "Station D2932, Epoch [72/120], Loss: 0.1019\n",
            "Station D2932, Epoch [96/120], Loss: 0.1078\n",
            "Station D2932, Epoch [120/120], Loss: 0.0993\n"
          ]
        },
        {
          "output_type": "stream",
          "name": "stderr",
          "text": [
            "/usr/local/lib/python3.10/dist-packages/torch/nn/modules/transformer.py:282: UserWarning: enable_nested_tensor is True, but self.use_nested_tensor is False because encoder_layer.self_attn.batch_first was not True(use batch_first for better inference performance)\n",
            "  warnings.warn(f\"enable_nested_tensor is True, but self.use_nested_tensor is False because {why_not_sparsity_fast_path}\")\n"
          ]
        },
        {
          "output_type": "stream",
          "name": "stdout",
          "text": [
            "Station 10708, Epoch [24/120], Loss: 0.5084\n",
            "Station 10708, Epoch [48/120], Loss: 0.4386\n",
            "Station 10708, Epoch [72/120], Loss: 0.4202\n",
            "Station 10708, Epoch [96/120], Loss: 0.3135\n",
            "Station 10708, Epoch [120/120], Loss: 0.2143\n"
          ]
        },
        {
          "output_type": "stream",
          "name": "stderr",
          "text": [
            "/usr/local/lib/python3.10/dist-packages/torch/nn/modules/transformer.py:282: UserWarning: enable_nested_tensor is True, but self.use_nested_tensor is False because encoder_layer.self_attn.batch_first was not True(use batch_first for better inference performance)\n",
            "  warnings.warn(f\"enable_nested_tensor is True, but self.use_nested_tensor is False because {why_not_sparsity_fast_path}\")\n"
          ]
        },
        {
          "output_type": "stream",
          "name": "stdout",
          "text": [
            "Station 10091, Epoch [24/120], Loss: 0.4232\n",
            "Station 10091, Epoch [48/120], Loss: 0.3398\n",
            "Station 10091, Epoch [72/120], Loss: 0.2279\n",
            "Station 10091, Epoch [96/120], Loss: 0.1638\n",
            "Station 10091, Epoch [120/120], Loss: 0.1395\n"
          ]
        },
        {
          "output_type": "stream",
          "name": "stderr",
          "text": [
            "/usr/local/lib/python3.10/dist-packages/torch/nn/modules/transformer.py:282: UserWarning: enable_nested_tensor is True, but self.use_nested_tensor is False because encoder_layer.self_attn.batch_first was not True(use batch_first for better inference performance)\n",
            "  warnings.warn(f\"enable_nested_tensor is True, but self.use_nested_tensor is False because {why_not_sparsity_fast_path}\")\n"
          ]
        },
        {
          "output_type": "stream",
          "name": "stdout",
          "text": [
            "Station 07510, Epoch [24/120], Loss: 0.8766\n",
            "Station 07510, Epoch [48/120], Loss: 0.7270\n",
            "Station 07510, Epoch [72/120], Loss: 0.3339\n",
            "Station 07510, Epoch [96/120], Loss: 0.4333\n",
            "Station 07510, Epoch [120/120], Loss: 0.3663\n"
          ]
        },
        {
          "output_type": "stream",
          "name": "stderr",
          "text": [
            "/usr/local/lib/python3.10/dist-packages/torch/nn/modules/transformer.py:282: UserWarning: enable_nested_tensor is True, but self.use_nested_tensor is False because encoder_layer.self_attn.batch_first was not True(use batch_first for better inference performance)\n",
            "  warnings.warn(f\"enable_nested_tensor is True, but self.use_nested_tensor is False because {why_not_sparsity_fast_path}\")\n"
          ]
        },
        {
          "output_type": "stream",
          "name": "stdout",
          "text": [
            "Station 10291, Epoch [24/120], Loss: 0.3328\n",
            "Station 10291, Epoch [48/120], Loss: 0.2987\n",
            "Station 10291, Epoch [72/120], Loss: 0.3728\n",
            "Station 10291, Epoch [96/120], Loss: 0.1718\n",
            "Station 10291, Epoch [120/120], Loss: 0.0942\n"
          ]
        },
        {
          "output_type": "stream",
          "name": "stderr",
          "text": [
            "/usr/local/lib/python3.10/dist-packages/torch/nn/modules/transformer.py:282: UserWarning: enable_nested_tensor is True, but self.use_nested_tensor is False because encoder_layer.self_attn.batch_first was not True(use batch_first for better inference performance)\n",
            "  warnings.warn(f\"enable_nested_tensor is True, but self.use_nested_tensor is False because {why_not_sparsity_fast_path}\")\n"
          ]
        },
        {
          "output_type": "stream",
          "name": "stdout",
          "text": [
            "Station 72206, Epoch [24/120], Loss: 1.6948\n",
            "Station 72206, Epoch [48/120], Loss: 1.6771\n",
            "Station 72206, Epoch [72/120], Loss: 1.8737\n",
            "Station 72206, Epoch [96/120], Loss: 1.6836\n",
            "Station 72206, Epoch [120/120], Loss: 1.3243\n"
          ]
        },
        {
          "output_type": "stream",
          "name": "stderr",
          "text": [
            "/usr/local/lib/python3.10/dist-packages/torch/nn/modules/transformer.py:282: UserWarning: enable_nested_tensor is True, but self.use_nested_tensor is False because encoder_layer.self_attn.batch_first was not True(use batch_first for better inference performance)\n",
            "  warnings.warn(f\"enable_nested_tensor is True, but self.use_nested_tensor is False because {why_not_sparsity_fast_path}\")\n"
          ]
        },
        {
          "output_type": "stream",
          "name": "stdout",
          "text": [
            "Station 71727, Epoch [24/120], Loss: 0.3835\n",
            "Station 71727, Epoch [48/120], Loss: 0.2447\n",
            "Station 71727, Epoch [72/120], Loss: 0.1837\n",
            "Station 71727, Epoch [96/120], Loss: 0.1626\n",
            "Station 71727, Epoch [120/120], Loss: 0.1550\n"
          ]
        },
        {
          "output_type": "stream",
          "name": "stderr",
          "text": [
            "/usr/local/lib/python3.10/dist-packages/torch/nn/modules/transformer.py:282: UserWarning: enable_nested_tensor is True, but self.use_nested_tensor is False because encoder_layer.self_attn.batch_first was not True(use batch_first for better inference performance)\n",
            "  warnings.warn(f\"enable_nested_tensor is True, but self.use_nested_tensor is False because {why_not_sparsity_fast_path}\")\n"
          ]
        },
        {
          "output_type": "stream",
          "name": "stdout",
          "text": [
            "Station D5440, Epoch [24/120], Loss: 0.2161\n",
            "Station D5440, Epoch [48/120], Loss: 0.2270\n",
            "Station D5440, Epoch [72/120], Loss: 0.2345\n",
            "Station D5440, Epoch [96/120], Loss: 0.1489\n",
            "Station D5440, Epoch [120/120], Loss: 0.1497\n"
          ]
        },
        {
          "output_type": "stream",
          "name": "stderr",
          "text": [
            "/usr/local/lib/python3.10/dist-packages/torch/nn/modules/transformer.py:282: UserWarning: enable_nested_tensor is True, but self.use_nested_tensor is False because encoder_layer.self_attn.batch_first was not True(use batch_first for better inference performance)\n",
            "  warnings.warn(f\"enable_nested_tensor is True, but self.use_nested_tensor is False because {why_not_sparsity_fast_path}\")\n"
          ]
        },
        {
          "output_type": "stream",
          "name": "stdout",
          "text": [
            "Station D1197, Epoch [24/120], Loss: 0.6150\n",
            "Station D1197, Epoch [48/120], Loss: 0.5962\n",
            "Station D1197, Epoch [72/120], Loss: 0.4313\n",
            "Station D1197, Epoch [96/120], Loss: 0.3386\n",
            "Station D1197, Epoch [120/120], Loss: 0.4154\n"
          ]
        }
      ]
    },
    {
      "cell_type": "code",
      "source": [
        "# Compute overall RMSE using norm data\n",
        "columns = ['station'] + [f'predicted_tavg_{i}' for i in range(1, 13)] + [f'predicted_prcp_{i}' for i in range(1, 13)] + [f'actual_tavg_{i}' for i in range(1, 13)] + [f'actual_prcp_{i}' for i in range(1, 13)]\n",
        "df_results_normalised = pd.DataFrame(results_normalised, columns=columns)\n",
        "df_results_normalised.to_csv('predictions_vs_actual_norm.csv', index=False)\n",
        "\n",
        "predicted_vals = df_results_normalised[[f'predicted_tavg_{i}' for i in range(1, 13)] + [f'predicted_prcp_{i}' for i in range(1, 13)]].values\n",
        "actual_vals = df_results_normalised[[f'actual_tavg_{i}' for i in range(1, 13)] + [f'actual_prcp_{i}' for i in range(1, 13)]].values\n",
        "\n",
        "mse = ((predicted_vals - actual_vals) ** 2).mean()\n",
        "rmse = math.sqrt(mse)\n",
        "\n",
        "print(f\"Overall RMSE: {rmse:.4f}\")\n",
        "\n",
        "mae = abs(predicted_vals - actual_vals).mean()\n",
        "print(f\"Overall MAE: {mae:.4f}\")"
      ],
      "metadata": {
        "id": "ErcOm8nIoBjW",
        "colab": {
          "base_uri": "https://localhost:8080/"
        },
        "outputId": "ac3eb030-585c-4e80-d74e-bdc96d83e4ba"
      },
      "execution_count": 4,
      "outputs": [
        {
          "output_type": "stream",
          "name": "stdout",
          "text": [
            "Overall RMSE: 0.6819\n",
            "Overall MAE: 0.4524\n"
          ]
        }
      ]
    },
    {
      "cell_type": "code",
      "source": [
        "def koppen(monthlyTemperature, monthlyPrecipitation, hemisphere):\n",
        "    monthlyTemperatureSorted = sorted(monthlyTemperature)\n",
        "    monthlyPrecipitationSorted = sorted(monthlyTemperature)\n",
        "    totalPrecipitation = sum(monthlyPrecipitation)\n",
        "    precipitationIntermediate = 100 - totalPrecipitation / 25\n",
        "    # E Category\n",
        "    if (monthlyTemperatureSorted[11] < 0):\n",
        "        return 'EF'\n",
        "    if (monthlyTemperatureSorted[11] < 10 and monthlyTemperatureSorted[11] >= 0):\n",
        "        return 'ET'\n",
        "    # A Category\n",
        "    if (monthlyTemperatureSorted[0] >= 18):\n",
        "        if (monthlyPrecipitationSorted[0] >= 60):\n",
        "            return 'Af'\n",
        "        if (monthlyPrecipitationSorted[0] < 60\n",
        "            and monthlyPrecipitationSorted[0] >= precipitationIntermediate):\n",
        "            return 'Am'\n",
        "        # As / Aw\n",
        "        driestMonth = monthlyPrecipitation.index(min(monthlyPrecipitation))\n",
        "        # April - September: North Hemisphere\n",
        "        if ('N' in hemisphere):\n",
        "            if (driestMonth >= 3 and driestMonth <= 8):\n",
        "                return 'As'\n",
        "            else:\n",
        "                return 'Aw'\n",
        "        if ('S' in hemisphere):\n",
        "            if (driestMonth >= 3 and driestMonth <= 8):\n",
        "                return 'Aw'\n",
        "            else:\n",
        "                return 'As'\n",
        "    # K Value\n",
        "    # summerPrecipitation = Precipitation of April - September\n",
        "    summerPrecipitation = sum(monthlyPrecipitation[3:9])\n",
        "    if ('S' in hemisphere):\n",
        "        summerPrecipitation = totalPrecipitation - summerPrecipitation\n",
        "    K = sum(monthlyTemperature) / 12 * 20\n",
        "    if (summerPrecipitation >= totalPrecipitation * 0.7):\n",
        "        K = K + 280\n",
        "    elif (summerPrecipitation >= totalPrecipitation * 0.3):\n",
        "        K = K + 140\n",
        "    # B Category\n",
        "    # BW\n",
        "    if (totalPrecipitation < K * 0.5):\n",
        "        if (sum(monthlyTemperature) >= 216 and monthlyTemperatureSorted[0] < 18):\n",
        "            return 'BWk'\n",
        "        if (sum(monthlyTemperature) < 216):\n",
        "            return 'BWk'\n",
        "    # BS\n",
        "    if (totalPrecipitation >= K * 0.5 and totalPrecipitation < K):\n",
        "        if (sum(monthlyTemperature) >= 216 and monthlyTemperatureSorted[0] < 18):\n",
        "            return 'BSk'\n",
        "        if (sum(monthlyTemperature) < 216):\n",
        "            return 'BSk'\n",
        "    # C,D Category\n",
        "    # winter / summer Humidest / Driest Precipitation\n",
        "    if ('N' in hemisphere):\n",
        "        winterHumidestPrecipitation = max(max(monthlyPrecipitation[0:3]), max(monthlyPrecipitation[9:12]))\n",
        "        winterDriestPrecipitation = min(min(monthlyPrecipitation[0:3]), min(monthlyPrecipitation[9:12]))\n",
        "        summerHumidestPrecipitation = max(monthlyPrecipitation[3:9])\n",
        "        summerDriestPrecipitation = min(monthlyPrecipitation[3:9])\n",
        "    if ('S' in hemisphere):\n",
        "        winterHumidestPrecipitation = max(monthlyPrecipitation[3:9])\n",
        "        winterDriestPrecipitation = min(monthlyPrecipitation[3:9])\n",
        "        summerHumidestPrecipitation = max(max(monthlyPrecipitation[0:3]), max(monthlyPrecipitation[9:12]))\n",
        "        summerDriestPrecipitation = min(min(monthlyPrecipitation[0:3]), min(monthlyPrecipitation[9:12]))\n",
        "    # C / D\n",
        "    if (totalPrecipitation >= K and monthlyTemperatureSorted[11] >= 10):\n",
        "        if (monthlyTemperatureSorted[0] >= 0 and monthlyTemperatureSorted[0] < 18):\n",
        "            result = 'C'\n",
        "        if (monthlyTemperatureSorted[0] < 0):\n",
        "            result = 'D'\n",
        "        # s / w / f\n",
        "        if (winterHumidestPrecipitation >= 3 * summerDriestPrecipitation):\n",
        "            result = result + 's'\n",
        "        elif (summerHumidestPrecipitation >= 10 * winterDriestPrecipitation):\n",
        "            result = result + 's'\n",
        "        else:\n",
        "            result = result + 's'\n",
        "        # a / b / c\n",
        "        if (monthlyTemperatureSorted[0] < -38 and monthlyTemperatureSorted[8] < 10):\n",
        "            return result + 'd'\n",
        "        elif (monthlyTemperatureSorted[11] >= 22):\n",
        "            return result + 'a'\n",
        "        # at least 4 month temperature >= 10 Celsius\n",
        "        elif (monthlyTemperatureSorted[8] >= 10):\n",
        "            return result + 'a'\n",
        "        else:\n",
        "            return result + 'a'\n",
        "    return 'undefined'"
      ],
      "metadata": {
        "id": "QeCS8q9mhzkT"
      },
      "execution_count": 10,
      "outputs": []
    },
    {
      "cell_type": "code",
      "source": [
        "import pandas as pd\n",
        "\n",
        "# Load the data\n",
        "data = pd.read_csv(\"predictions_vs_actual.csv\")\n",
        "\n",
        "# Create an empty DataFrame to store the results\n",
        "results = pd.DataFrame(columns=[\"station\", \"actual_climate\", \"predicted_climate\"])\n",
        "\n",
        "# For each station, compute the actual and predicted climate types\n",
        "for station in data[\"station\"].unique():\n",
        "    # Get the data for this station\n",
        "    station_data = data[data[\"station\"] == station]\n",
        "\n",
        "    # Get the actual monthly average temperatures and precipitations\n",
        "    actual_monthly_temperature = station_data[[\"actual_tavg_\" + str(i) for i in range(1, 13)]].values.flatten().tolist()\n",
        "    actual_monthly_precipitation = station_data[[\"actual_prcp_\" + str(i) for i in range(1, 13)]].values.flatten().tolist()\n",
        "\n",
        "    # Get the predicted monthly average temperatures and precipitations\n",
        "    predicted_monthly_temperature = station_data[[\"predicted_tavg_\" + str(i) for i in range(1, 13)]].values.flatten().tolist()\n",
        "    predicted_monthly_precipitation = station_data[[\"predicted_prcp_\" + str(i) for i in range(1, 13)]].values.flatten().tolist()\n",
        "\n",
        "    # Calculate the climate type\n",
        "    actual_climate = koppen(actual_monthly_temperature, actual_monthly_precipitation, \"N\")  # Assuming all stations are in Northern hemisphere\n",
        "    predicted_climate = koppen(predicted_monthly_temperature, predicted_monthly_precipitation, \"N\")\n",
        "\n",
        "    # Save the results\n",
        "    results = results.append({\"station\": station, \"actual_climate\": actual_climate, \"predicted_climate\": predicted_climate}, ignore_index=True)\n"
      ],
      "metadata": {
        "id": "mWuoxxAbAOjf",
        "colab": {
          "base_uri": "https://localhost:8080/"
        },
        "outputId": "9f194c16-7087-404a-9caa-9a13a5a86e25"
      },
      "execution_count": 11,
      "outputs": [
        {
          "output_type": "stream",
          "name": "stderr",
          "text": [
            "<ipython-input-11-d6c8080a4bea>:27: FutureWarning: The frame.append method is deprecated and will be removed from pandas in a future version. Use pandas.concat instead.\n",
            "  results = results.append({\"station\": station, \"actual_climate\": actual_climate, \"predicted_climate\": predicted_climate}, ignore_index=True)\n",
            "<ipython-input-11-d6c8080a4bea>:27: FutureWarning: The frame.append method is deprecated and will be removed from pandas in a future version. Use pandas.concat instead.\n",
            "  results = results.append({\"station\": station, \"actual_climate\": actual_climate, \"predicted_climate\": predicted_climate}, ignore_index=True)\n",
            "<ipython-input-11-d6c8080a4bea>:27: FutureWarning: The frame.append method is deprecated and will be removed from pandas in a future version. Use pandas.concat instead.\n",
            "  results = results.append({\"station\": station, \"actual_climate\": actual_climate, \"predicted_climate\": predicted_climate}, ignore_index=True)\n",
            "<ipython-input-11-d6c8080a4bea>:27: FutureWarning: The frame.append method is deprecated and will be removed from pandas in a future version. Use pandas.concat instead.\n",
            "  results = results.append({\"station\": station, \"actual_climate\": actual_climate, \"predicted_climate\": predicted_climate}, ignore_index=True)\n",
            "<ipython-input-11-d6c8080a4bea>:27: FutureWarning: The frame.append method is deprecated and will be removed from pandas in a future version. Use pandas.concat instead.\n",
            "  results = results.append({\"station\": station, \"actual_climate\": actual_climate, \"predicted_climate\": predicted_climate}, ignore_index=True)\n",
            "<ipython-input-11-d6c8080a4bea>:27: FutureWarning: The frame.append method is deprecated and will be removed from pandas in a future version. Use pandas.concat instead.\n",
            "  results = results.append({\"station\": station, \"actual_climate\": actual_climate, \"predicted_climate\": predicted_climate}, ignore_index=True)\n",
            "<ipython-input-11-d6c8080a4bea>:27: FutureWarning: The frame.append method is deprecated and will be removed from pandas in a future version. Use pandas.concat instead.\n",
            "  results = results.append({\"station\": station, \"actual_climate\": actual_climate, \"predicted_climate\": predicted_climate}, ignore_index=True)\n",
            "<ipython-input-11-d6c8080a4bea>:27: FutureWarning: The frame.append method is deprecated and will be removed from pandas in a future version. Use pandas.concat instead.\n",
            "  results = results.append({\"station\": station, \"actual_climate\": actual_climate, \"predicted_climate\": predicted_climate}, ignore_index=True)\n",
            "<ipython-input-11-d6c8080a4bea>:27: FutureWarning: The frame.append method is deprecated and will be removed from pandas in a future version. Use pandas.concat instead.\n",
            "  results = results.append({\"station\": station, \"actual_climate\": actual_climate, \"predicted_climate\": predicted_climate}, ignore_index=True)\n",
            "<ipython-input-11-d6c8080a4bea>:27: FutureWarning: The frame.append method is deprecated and will be removed from pandas in a future version. Use pandas.concat instead.\n",
            "  results = results.append({\"station\": station, \"actual_climate\": actual_climate, \"predicted_climate\": predicted_climate}, ignore_index=True)\n",
            "<ipython-input-11-d6c8080a4bea>:27: FutureWarning: The frame.append method is deprecated and will be removed from pandas in a future version. Use pandas.concat instead.\n",
            "  results = results.append({\"station\": station, \"actual_climate\": actual_climate, \"predicted_climate\": predicted_climate}, ignore_index=True)\n",
            "<ipython-input-11-d6c8080a4bea>:27: FutureWarning: The frame.append method is deprecated and will be removed from pandas in a future version. Use pandas.concat instead.\n",
            "  results = results.append({\"station\": station, \"actual_climate\": actual_climate, \"predicted_climate\": predicted_climate}, ignore_index=True)\n",
            "<ipython-input-11-d6c8080a4bea>:27: FutureWarning: The frame.append method is deprecated and will be removed from pandas in a future version. Use pandas.concat instead.\n",
            "  results = results.append({\"station\": station, \"actual_climate\": actual_climate, \"predicted_climate\": predicted_climate}, ignore_index=True)\n",
            "<ipython-input-11-d6c8080a4bea>:27: FutureWarning: The frame.append method is deprecated and will be removed from pandas in a future version. Use pandas.concat instead.\n",
            "  results = results.append({\"station\": station, \"actual_climate\": actual_climate, \"predicted_climate\": predicted_climate}, ignore_index=True)\n",
            "<ipython-input-11-d6c8080a4bea>:27: FutureWarning: The frame.append method is deprecated and will be removed from pandas in a future version. Use pandas.concat instead.\n",
            "  results = results.append({\"station\": station, \"actual_climate\": actual_climate, \"predicted_climate\": predicted_climate}, ignore_index=True)\n",
            "<ipython-input-11-d6c8080a4bea>:27: FutureWarning: The frame.append method is deprecated and will be removed from pandas in a future version. Use pandas.concat instead.\n",
            "  results = results.append({\"station\": station, \"actual_climate\": actual_climate, \"predicted_climate\": predicted_climate}, ignore_index=True)\n",
            "<ipython-input-11-d6c8080a4bea>:27: FutureWarning: The frame.append method is deprecated and will be removed from pandas in a future version. Use pandas.concat instead.\n",
            "  results = results.append({\"station\": station, \"actual_climate\": actual_climate, \"predicted_climate\": predicted_climate}, ignore_index=True)\n",
            "<ipython-input-11-d6c8080a4bea>:27: FutureWarning: The frame.append method is deprecated and will be removed from pandas in a future version. Use pandas.concat instead.\n",
            "  results = results.append({\"station\": station, \"actual_climate\": actual_climate, \"predicted_climate\": predicted_climate}, ignore_index=True)\n",
            "<ipython-input-11-d6c8080a4bea>:27: FutureWarning: The frame.append method is deprecated and will be removed from pandas in a future version. Use pandas.concat instead.\n",
            "  results = results.append({\"station\": station, \"actual_climate\": actual_climate, \"predicted_climate\": predicted_climate}, ignore_index=True)\n",
            "<ipython-input-11-d6c8080a4bea>:27: FutureWarning: The frame.append method is deprecated and will be removed from pandas in a future version. Use pandas.concat instead.\n",
            "  results = results.append({\"station\": station, \"actual_climate\": actual_climate, \"predicted_climate\": predicted_climate}, ignore_index=True)\n",
            "<ipython-input-11-d6c8080a4bea>:27: FutureWarning: The frame.append method is deprecated and will be removed from pandas in a future version. Use pandas.concat instead.\n",
            "  results = results.append({\"station\": station, \"actual_climate\": actual_climate, \"predicted_climate\": predicted_climate}, ignore_index=True)\n",
            "<ipython-input-11-d6c8080a4bea>:27: FutureWarning: The frame.append method is deprecated and will be removed from pandas in a future version. Use pandas.concat instead.\n",
            "  results = results.append({\"station\": station, \"actual_climate\": actual_climate, \"predicted_climate\": predicted_climate}, ignore_index=True)\n",
            "<ipython-input-11-d6c8080a4bea>:27: FutureWarning: The frame.append method is deprecated and will be removed from pandas in a future version. Use pandas.concat instead.\n",
            "  results = results.append({\"station\": station, \"actual_climate\": actual_climate, \"predicted_climate\": predicted_climate}, ignore_index=True)\n",
            "<ipython-input-11-d6c8080a4bea>:27: FutureWarning: The frame.append method is deprecated and will be removed from pandas in a future version. Use pandas.concat instead.\n",
            "  results = results.append({\"station\": station, \"actual_climate\": actual_climate, \"predicted_climate\": predicted_climate}, ignore_index=True)\n",
            "<ipython-input-11-d6c8080a4bea>:27: FutureWarning: The frame.append method is deprecated and will be removed from pandas in a future version. Use pandas.concat instead.\n",
            "  results = results.append({\"station\": station, \"actual_climate\": actual_climate, \"predicted_climate\": predicted_climate}, ignore_index=True)\n",
            "<ipython-input-11-d6c8080a4bea>:27: FutureWarning: The frame.append method is deprecated and will be removed from pandas in a future version. Use pandas.concat instead.\n",
            "  results = results.append({\"station\": station, \"actual_climate\": actual_climate, \"predicted_climate\": predicted_climate}, ignore_index=True)\n",
            "<ipython-input-11-d6c8080a4bea>:27: FutureWarning: The frame.append method is deprecated and will be removed from pandas in a future version. Use pandas.concat instead.\n",
            "  results = results.append({\"station\": station, \"actual_climate\": actual_climate, \"predicted_climate\": predicted_climate}, ignore_index=True)\n",
            "<ipython-input-11-d6c8080a4bea>:27: FutureWarning: The frame.append method is deprecated and will be removed from pandas in a future version. Use pandas.concat instead.\n",
            "  results = results.append({\"station\": station, \"actual_climate\": actual_climate, \"predicted_climate\": predicted_climate}, ignore_index=True)\n",
            "<ipython-input-11-d6c8080a4bea>:27: FutureWarning: The frame.append method is deprecated and will be removed from pandas in a future version. Use pandas.concat instead.\n",
            "  results = results.append({\"station\": station, \"actual_climate\": actual_climate, \"predicted_climate\": predicted_climate}, ignore_index=True)\n",
            "<ipython-input-11-d6c8080a4bea>:27: FutureWarning: The frame.append method is deprecated and will be removed from pandas in a future version. Use pandas.concat instead.\n",
            "  results = results.append({\"station\": station, \"actual_climate\": actual_climate, \"predicted_climate\": predicted_climate}, ignore_index=True)\n",
            "<ipython-input-11-d6c8080a4bea>:27: FutureWarning: The frame.append method is deprecated and will be removed from pandas in a future version. Use pandas.concat instead.\n",
            "  results = results.append({\"station\": station, \"actual_climate\": actual_climate, \"predicted_climate\": predicted_climate}, ignore_index=True)\n",
            "<ipython-input-11-d6c8080a4bea>:27: FutureWarning: The frame.append method is deprecated and will be removed from pandas in a future version. Use pandas.concat instead.\n",
            "  results = results.append({\"station\": station, \"actual_climate\": actual_climate, \"predicted_climate\": predicted_climate}, ignore_index=True)\n",
            "<ipython-input-11-d6c8080a4bea>:27: FutureWarning: The frame.append method is deprecated and will be removed from pandas in a future version. Use pandas.concat instead.\n",
            "  results = results.append({\"station\": station, \"actual_climate\": actual_climate, \"predicted_climate\": predicted_climate}, ignore_index=True)\n",
            "<ipython-input-11-d6c8080a4bea>:27: FutureWarning: The frame.append method is deprecated and will be removed from pandas in a future version. Use pandas.concat instead.\n",
            "  results = results.append({\"station\": station, \"actual_climate\": actual_climate, \"predicted_climate\": predicted_climate}, ignore_index=True)\n",
            "<ipython-input-11-d6c8080a4bea>:27: FutureWarning: The frame.append method is deprecated and will be removed from pandas in a future version. Use pandas.concat instead.\n",
            "  results = results.append({\"station\": station, \"actual_climate\": actual_climate, \"predicted_climate\": predicted_climate}, ignore_index=True)\n",
            "<ipython-input-11-d6c8080a4bea>:27: FutureWarning: The frame.append method is deprecated and will be removed from pandas in a future version. Use pandas.concat instead.\n",
            "  results = results.append({\"station\": station, \"actual_climate\": actual_climate, \"predicted_climate\": predicted_climate}, ignore_index=True)\n",
            "<ipython-input-11-d6c8080a4bea>:27: FutureWarning: The frame.append method is deprecated and will be removed from pandas in a future version. Use pandas.concat instead.\n",
            "  results = results.append({\"station\": station, \"actual_climate\": actual_climate, \"predicted_climate\": predicted_climate}, ignore_index=True)\n",
            "<ipython-input-11-d6c8080a4bea>:27: FutureWarning: The frame.append method is deprecated and will be removed from pandas in a future version. Use pandas.concat instead.\n",
            "  results = results.append({\"station\": station, \"actual_climate\": actual_climate, \"predicted_climate\": predicted_climate}, ignore_index=True)\n",
            "<ipython-input-11-d6c8080a4bea>:27: FutureWarning: The frame.append method is deprecated and will be removed from pandas in a future version. Use pandas.concat instead.\n",
            "  results = results.append({\"station\": station, \"actual_climate\": actual_climate, \"predicted_climate\": predicted_climate}, ignore_index=True)\n",
            "<ipython-input-11-d6c8080a4bea>:27: FutureWarning: The frame.append method is deprecated and will be removed from pandas in a future version. Use pandas.concat instead.\n",
            "  results = results.append({\"station\": station, \"actual_climate\": actual_climate, \"predicted_climate\": predicted_climate}, ignore_index=True)\n",
            "<ipython-input-11-d6c8080a4bea>:27: FutureWarning: The frame.append method is deprecated and will be removed from pandas in a future version. Use pandas.concat instead.\n",
            "  results = results.append({\"station\": station, \"actual_climate\": actual_climate, \"predicted_climate\": predicted_climate}, ignore_index=True)\n",
            "<ipython-input-11-d6c8080a4bea>:27: FutureWarning: The frame.append method is deprecated and will be removed from pandas in a future version. Use pandas.concat instead.\n",
            "  results = results.append({\"station\": station, \"actual_climate\": actual_climate, \"predicted_climate\": predicted_climate}, ignore_index=True)\n",
            "<ipython-input-11-d6c8080a4bea>:27: FutureWarning: The frame.append method is deprecated and will be removed from pandas in a future version. Use pandas.concat instead.\n",
            "  results = results.append({\"station\": station, \"actual_climate\": actual_climate, \"predicted_climate\": predicted_climate}, ignore_index=True)\n",
            "<ipython-input-11-d6c8080a4bea>:27: FutureWarning: The frame.append method is deprecated and will be removed from pandas in a future version. Use pandas.concat instead.\n",
            "  results = results.append({\"station\": station, \"actual_climate\": actual_climate, \"predicted_climate\": predicted_climate}, ignore_index=True)\n",
            "<ipython-input-11-d6c8080a4bea>:27: FutureWarning: The frame.append method is deprecated and will be removed from pandas in a future version. Use pandas.concat instead.\n",
            "  results = results.append({\"station\": station, \"actual_climate\": actual_climate, \"predicted_climate\": predicted_climate}, ignore_index=True)\n",
            "<ipython-input-11-d6c8080a4bea>:27: FutureWarning: The frame.append method is deprecated and will be removed from pandas in a future version. Use pandas.concat instead.\n",
            "  results = results.append({\"station\": station, \"actual_climate\": actual_climate, \"predicted_climate\": predicted_climate}, ignore_index=True)\n",
            "<ipython-input-11-d6c8080a4bea>:27: FutureWarning: The frame.append method is deprecated and will be removed from pandas in a future version. Use pandas.concat instead.\n",
            "  results = results.append({\"station\": station, \"actual_climate\": actual_climate, \"predicted_climate\": predicted_climate}, ignore_index=True)\n",
            "<ipython-input-11-d6c8080a4bea>:27: FutureWarning: The frame.append method is deprecated and will be removed from pandas in a future version. Use pandas.concat instead.\n",
            "  results = results.append({\"station\": station, \"actual_climate\": actual_climate, \"predicted_climate\": predicted_climate}, ignore_index=True)\n",
            "<ipython-input-11-d6c8080a4bea>:27: FutureWarning: The frame.append method is deprecated and will be removed from pandas in a future version. Use pandas.concat instead.\n",
            "  results = results.append({\"station\": station, \"actual_climate\": actual_climate, \"predicted_climate\": predicted_climate}, ignore_index=True)\n",
            "<ipython-input-11-d6c8080a4bea>:27: FutureWarning: The frame.append method is deprecated and will be removed from pandas in a future version. Use pandas.concat instead.\n",
            "  results = results.append({\"station\": station, \"actual_climate\": actual_climate, \"predicted_climate\": predicted_climate}, ignore_index=True)\n",
            "<ipython-input-11-d6c8080a4bea>:27: FutureWarning: The frame.append method is deprecated and will be removed from pandas in a future version. Use pandas.concat instead.\n",
            "  results = results.append({\"station\": station, \"actual_climate\": actual_climate, \"predicted_climate\": predicted_climate}, ignore_index=True)\n",
            "<ipython-input-11-d6c8080a4bea>:27: FutureWarning: The frame.append method is deprecated and will be removed from pandas in a future version. Use pandas.concat instead.\n",
            "  results = results.append({\"station\": station, \"actual_climate\": actual_climate, \"predicted_climate\": predicted_climate}, ignore_index=True)\n",
            "<ipython-input-11-d6c8080a4bea>:27: FutureWarning: The frame.append method is deprecated and will be removed from pandas in a future version. Use pandas.concat instead.\n",
            "  results = results.append({\"station\": station, \"actual_climate\": actual_climate, \"predicted_climate\": predicted_climate}, ignore_index=True)\n",
            "<ipython-input-11-d6c8080a4bea>:27: FutureWarning: The frame.append method is deprecated and will be removed from pandas in a future version. Use pandas.concat instead.\n",
            "  results = results.append({\"station\": station, \"actual_climate\": actual_climate, \"predicted_climate\": predicted_climate}, ignore_index=True)\n",
            "<ipython-input-11-d6c8080a4bea>:27: FutureWarning: The frame.append method is deprecated and will be removed from pandas in a future version. Use pandas.concat instead.\n",
            "  results = results.append({\"station\": station, \"actual_climate\": actual_climate, \"predicted_climate\": predicted_climate}, ignore_index=True)\n",
            "<ipython-input-11-d6c8080a4bea>:27: FutureWarning: The frame.append method is deprecated and will be removed from pandas in a future version. Use pandas.concat instead.\n",
            "  results = results.append({\"station\": station, \"actual_climate\": actual_climate, \"predicted_climate\": predicted_climate}, ignore_index=True)\n",
            "<ipython-input-11-d6c8080a4bea>:27: FutureWarning: The frame.append method is deprecated and will be removed from pandas in a future version. Use pandas.concat instead.\n",
            "  results = results.append({\"station\": station, \"actual_climate\": actual_climate, \"predicted_climate\": predicted_climate}, ignore_index=True)\n",
            "<ipython-input-11-d6c8080a4bea>:27: FutureWarning: The frame.append method is deprecated and will be removed from pandas in a future version. Use pandas.concat instead.\n",
            "  results = results.append({\"station\": station, \"actual_climate\": actual_climate, \"predicted_climate\": predicted_climate}, ignore_index=True)\n",
            "<ipython-input-11-d6c8080a4bea>:27: FutureWarning: The frame.append method is deprecated and will be removed from pandas in a future version. Use pandas.concat instead.\n",
            "  results = results.append({\"station\": station, \"actual_climate\": actual_climate, \"predicted_climate\": predicted_climate}, ignore_index=True)\n",
            "<ipython-input-11-d6c8080a4bea>:27: FutureWarning: The frame.append method is deprecated and will be removed from pandas in a future version. Use pandas.concat instead.\n",
            "  results = results.append({\"station\": station, \"actual_climate\": actual_climate, \"predicted_climate\": predicted_climate}, ignore_index=True)\n",
            "<ipython-input-11-d6c8080a4bea>:27: FutureWarning: The frame.append method is deprecated and will be removed from pandas in a future version. Use pandas.concat instead.\n",
            "  results = results.append({\"station\": station, \"actual_climate\": actual_climate, \"predicted_climate\": predicted_climate}, ignore_index=True)\n",
            "<ipython-input-11-d6c8080a4bea>:27: FutureWarning: The frame.append method is deprecated and will be removed from pandas in a future version. Use pandas.concat instead.\n",
            "  results = results.append({\"station\": station, \"actual_climate\": actual_climate, \"predicted_climate\": predicted_climate}, ignore_index=True)\n",
            "<ipython-input-11-d6c8080a4bea>:27: FutureWarning: The frame.append method is deprecated and will be removed from pandas in a future version. Use pandas.concat instead.\n",
            "  results = results.append({\"station\": station, \"actual_climate\": actual_climate, \"predicted_climate\": predicted_climate}, ignore_index=True)\n",
            "<ipython-input-11-d6c8080a4bea>:27: FutureWarning: The frame.append method is deprecated and will be removed from pandas in a future version. Use pandas.concat instead.\n",
            "  results = results.append({\"station\": station, \"actual_climate\": actual_climate, \"predicted_climate\": predicted_climate}, ignore_index=True)\n",
            "<ipython-input-11-d6c8080a4bea>:27: FutureWarning: The frame.append method is deprecated and will be removed from pandas in a future version. Use pandas.concat instead.\n",
            "  results = results.append({\"station\": station, \"actual_climate\": actual_climate, \"predicted_climate\": predicted_climate}, ignore_index=True)\n",
            "<ipython-input-11-d6c8080a4bea>:27: FutureWarning: The frame.append method is deprecated and will be removed from pandas in a future version. Use pandas.concat instead.\n",
            "  results = results.append({\"station\": station, \"actual_climate\": actual_climate, \"predicted_climate\": predicted_climate}, ignore_index=True)\n",
            "<ipython-input-11-d6c8080a4bea>:27: FutureWarning: The frame.append method is deprecated and will be removed from pandas in a future version. Use pandas.concat instead.\n",
            "  results = results.append({\"station\": station, \"actual_climate\": actual_climate, \"predicted_climate\": predicted_climate}, ignore_index=True)\n",
            "<ipython-input-11-d6c8080a4bea>:27: FutureWarning: The frame.append method is deprecated and will be removed from pandas in a future version. Use pandas.concat instead.\n",
            "  results = results.append({\"station\": station, \"actual_climate\": actual_climate, \"predicted_climate\": predicted_climate}, ignore_index=True)\n",
            "<ipython-input-11-d6c8080a4bea>:27: FutureWarning: The frame.append method is deprecated and will be removed from pandas in a future version. Use pandas.concat instead.\n",
            "  results = results.append({\"station\": station, \"actual_climate\": actual_climate, \"predicted_climate\": predicted_climate}, ignore_index=True)\n",
            "<ipython-input-11-d6c8080a4bea>:27: FutureWarning: The frame.append method is deprecated and will be removed from pandas in a future version. Use pandas.concat instead.\n",
            "  results = results.append({\"station\": station, \"actual_climate\": actual_climate, \"predicted_climate\": predicted_climate}, ignore_index=True)\n",
            "<ipython-input-11-d6c8080a4bea>:27: FutureWarning: The frame.append method is deprecated and will be removed from pandas in a future version. Use pandas.concat instead.\n",
            "  results = results.append({\"station\": station, \"actual_climate\": actual_climate, \"predicted_climate\": predicted_climate}, ignore_index=True)\n",
            "<ipython-input-11-d6c8080a4bea>:27: FutureWarning: The frame.append method is deprecated and will be removed from pandas in a future version. Use pandas.concat instead.\n",
            "  results = results.append({\"station\": station, \"actual_climate\": actual_climate, \"predicted_climate\": predicted_climate}, ignore_index=True)\n",
            "<ipython-input-11-d6c8080a4bea>:27: FutureWarning: The frame.append method is deprecated and will be removed from pandas in a future version. Use pandas.concat instead.\n",
            "  results = results.append({\"station\": station, \"actual_climate\": actual_climate, \"predicted_climate\": predicted_climate}, ignore_index=True)\n",
            "<ipython-input-11-d6c8080a4bea>:27: FutureWarning: The frame.append method is deprecated and will be removed from pandas in a future version. Use pandas.concat instead.\n",
            "  results = results.append({\"station\": station, \"actual_climate\": actual_climate, \"predicted_climate\": predicted_climate}, ignore_index=True)\n",
            "<ipython-input-11-d6c8080a4bea>:27: FutureWarning: The frame.append method is deprecated and will be removed from pandas in a future version. Use pandas.concat instead.\n",
            "  results = results.append({\"station\": station, \"actual_climate\": actual_climate, \"predicted_climate\": predicted_climate}, ignore_index=True)\n",
            "<ipython-input-11-d6c8080a4bea>:27: FutureWarning: The frame.append method is deprecated and will be removed from pandas in a future version. Use pandas.concat instead.\n",
            "  results = results.append({\"station\": station, \"actual_climate\": actual_climate, \"predicted_climate\": predicted_climate}, ignore_index=True)\n",
            "<ipython-input-11-d6c8080a4bea>:27: FutureWarning: The frame.append method is deprecated and will be removed from pandas in a future version. Use pandas.concat instead.\n",
            "  results = results.append({\"station\": station, \"actual_climate\": actual_climate, \"predicted_climate\": predicted_climate}, ignore_index=True)\n",
            "<ipython-input-11-d6c8080a4bea>:27: FutureWarning: The frame.append method is deprecated and will be removed from pandas in a future version. Use pandas.concat instead.\n",
            "  results = results.append({\"station\": station, \"actual_climate\": actual_climate, \"predicted_climate\": predicted_climate}, ignore_index=True)\n",
            "<ipython-input-11-d6c8080a4bea>:27: FutureWarning: The frame.append method is deprecated and will be removed from pandas in a future version. Use pandas.concat instead.\n",
            "  results = results.append({\"station\": station, \"actual_climate\": actual_climate, \"predicted_climate\": predicted_climate}, ignore_index=True)\n",
            "<ipython-input-11-d6c8080a4bea>:27: FutureWarning: The frame.append method is deprecated and will be removed from pandas in a future version. Use pandas.concat instead.\n",
            "  results = results.append({\"station\": station, \"actual_climate\": actual_climate, \"predicted_climate\": predicted_climate}, ignore_index=True)\n",
            "<ipython-input-11-d6c8080a4bea>:27: FutureWarning: The frame.append method is deprecated and will be removed from pandas in a future version. Use pandas.concat instead.\n",
            "  results = results.append({\"station\": station, \"actual_climate\": actual_climate, \"predicted_climate\": predicted_climate}, ignore_index=True)\n",
            "<ipython-input-11-d6c8080a4bea>:27: FutureWarning: The frame.append method is deprecated and will be removed from pandas in a future version. Use pandas.concat instead.\n",
            "  results = results.append({\"station\": station, \"actual_climate\": actual_climate, \"predicted_climate\": predicted_climate}, ignore_index=True)\n",
            "<ipython-input-11-d6c8080a4bea>:27: FutureWarning: The frame.append method is deprecated and will be removed from pandas in a future version. Use pandas.concat instead.\n",
            "  results = results.append({\"station\": station, \"actual_climate\": actual_climate, \"predicted_climate\": predicted_climate}, ignore_index=True)\n",
            "<ipython-input-11-d6c8080a4bea>:27: FutureWarning: The frame.append method is deprecated and will be removed from pandas in a future version. Use pandas.concat instead.\n",
            "  results = results.append({\"station\": station, \"actual_climate\": actual_climate, \"predicted_climate\": predicted_climate}, ignore_index=True)\n",
            "<ipython-input-11-d6c8080a4bea>:27: FutureWarning: The frame.append method is deprecated and will be removed from pandas in a future version. Use pandas.concat instead.\n",
            "  results = results.append({\"station\": station, \"actual_climate\": actual_climate, \"predicted_climate\": predicted_climate}, ignore_index=True)\n",
            "<ipython-input-11-d6c8080a4bea>:27: FutureWarning: The frame.append method is deprecated and will be removed from pandas in a future version. Use pandas.concat instead.\n",
            "  results = results.append({\"station\": station, \"actual_climate\": actual_climate, \"predicted_climate\": predicted_climate}, ignore_index=True)\n",
            "<ipython-input-11-d6c8080a4bea>:27: FutureWarning: The frame.append method is deprecated and will be removed from pandas in a future version. Use pandas.concat instead.\n",
            "  results = results.append({\"station\": station, \"actual_climate\": actual_climate, \"predicted_climate\": predicted_climate}, ignore_index=True)\n",
            "<ipython-input-11-d6c8080a4bea>:27: FutureWarning: The frame.append method is deprecated and will be removed from pandas in a future version. Use pandas.concat instead.\n",
            "  results = results.append({\"station\": station, \"actual_climate\": actual_climate, \"predicted_climate\": predicted_climate}, ignore_index=True)\n",
            "<ipython-input-11-d6c8080a4bea>:27: FutureWarning: The frame.append method is deprecated and will be removed from pandas in a future version. Use pandas.concat instead.\n",
            "  results = results.append({\"station\": station, \"actual_climate\": actual_climate, \"predicted_climate\": predicted_climate}, ignore_index=True)\n",
            "<ipython-input-11-d6c8080a4bea>:27: FutureWarning: The frame.append method is deprecated and will be removed from pandas in a future version. Use pandas.concat instead.\n",
            "  results = results.append({\"station\": station, \"actual_climate\": actual_climate, \"predicted_climate\": predicted_climate}, ignore_index=True)\n",
            "<ipython-input-11-d6c8080a4bea>:27: FutureWarning: The frame.append method is deprecated and will be removed from pandas in a future version. Use pandas.concat instead.\n",
            "  results = results.append({\"station\": station, \"actual_climate\": actual_climate, \"predicted_climate\": predicted_climate}, ignore_index=True)\n",
            "<ipython-input-11-d6c8080a4bea>:27: FutureWarning: The frame.append method is deprecated and will be removed from pandas in a future version. Use pandas.concat instead.\n",
            "  results = results.append({\"station\": station, \"actual_climate\": actual_climate, \"predicted_climate\": predicted_climate}, ignore_index=True)\n",
            "<ipython-input-11-d6c8080a4bea>:27: FutureWarning: The frame.append method is deprecated and will be removed from pandas in a future version. Use pandas.concat instead.\n",
            "  results = results.append({\"station\": station, \"actual_climate\": actual_climate, \"predicted_climate\": predicted_climate}, ignore_index=True)\n",
            "<ipython-input-11-d6c8080a4bea>:27: FutureWarning: The frame.append method is deprecated and will be removed from pandas in a future version. Use pandas.concat instead.\n",
            "  results = results.append({\"station\": station, \"actual_climate\": actual_climate, \"predicted_climate\": predicted_climate}, ignore_index=True)\n",
            "<ipython-input-11-d6c8080a4bea>:27: FutureWarning: The frame.append method is deprecated and will be removed from pandas in a future version. Use pandas.concat instead.\n",
            "  results = results.append({\"station\": station, \"actual_climate\": actual_climate, \"predicted_climate\": predicted_climate}, ignore_index=True)\n",
            "<ipython-input-11-d6c8080a4bea>:27: FutureWarning: The frame.append method is deprecated and will be removed from pandas in a future version. Use pandas.concat instead.\n",
            "  results = results.append({\"station\": station, \"actual_climate\": actual_climate, \"predicted_climate\": predicted_climate}, ignore_index=True)\n",
            "<ipython-input-11-d6c8080a4bea>:27: FutureWarning: The frame.append method is deprecated and will be removed from pandas in a future version. Use pandas.concat instead.\n",
            "  results = results.append({\"station\": station, \"actual_climate\": actual_climate, \"predicted_climate\": predicted_climate}, ignore_index=True)\n",
            "<ipython-input-11-d6c8080a4bea>:27: FutureWarning: The frame.append method is deprecated and will be removed from pandas in a future version. Use pandas.concat instead.\n",
            "  results = results.append({\"station\": station, \"actual_climate\": actual_climate, \"predicted_climate\": predicted_climate}, ignore_index=True)\n",
            "<ipython-input-11-d6c8080a4bea>:27: FutureWarning: The frame.append method is deprecated and will be removed from pandas in a future version. Use pandas.concat instead.\n",
            "  results = results.append({\"station\": station, \"actual_climate\": actual_climate, \"predicted_climate\": predicted_climate}, ignore_index=True)\n",
            "<ipython-input-11-d6c8080a4bea>:27: FutureWarning: The frame.append method is deprecated and will be removed from pandas in a future version. Use pandas.concat instead.\n",
            "  results = results.append({\"station\": station, \"actual_climate\": actual_climate, \"predicted_climate\": predicted_climate}, ignore_index=True)\n",
            "<ipython-input-11-d6c8080a4bea>:27: FutureWarning: The frame.append method is deprecated and will be removed from pandas in a future version. Use pandas.concat instead.\n",
            "  results = results.append({\"station\": station, \"actual_climate\": actual_climate, \"predicted_climate\": predicted_climate}, ignore_index=True)\n",
            "<ipython-input-11-d6c8080a4bea>:27: FutureWarning: The frame.append method is deprecated and will be removed from pandas in a future version. Use pandas.concat instead.\n",
            "  results = results.append({\"station\": station, \"actual_climate\": actual_climate, \"predicted_climate\": predicted_climate}, ignore_index=True)\n",
            "<ipython-input-11-d6c8080a4bea>:27: FutureWarning: The frame.append method is deprecated and will be removed from pandas in a future version. Use pandas.concat instead.\n",
            "  results = results.append({\"station\": station, \"actual_climate\": actual_climate, \"predicted_climate\": predicted_climate}, ignore_index=True)\n",
            "<ipython-input-11-d6c8080a4bea>:27: FutureWarning: The frame.append method is deprecated and will be removed from pandas in a future version. Use pandas.concat instead.\n",
            "  results = results.append({\"station\": station, \"actual_climate\": actual_climate, \"predicted_climate\": predicted_climate}, ignore_index=True)\n",
            "<ipython-input-11-d6c8080a4bea>:27: FutureWarning: The frame.append method is deprecated and will be removed from pandas in a future version. Use pandas.concat instead.\n",
            "  results = results.append({\"station\": station, \"actual_climate\": actual_climate, \"predicted_climate\": predicted_climate}, ignore_index=True)\n",
            "<ipython-input-11-d6c8080a4bea>:27: FutureWarning: The frame.append method is deprecated and will be removed from pandas in a future version. Use pandas.concat instead.\n",
            "  results = results.append({\"station\": station, \"actual_climate\": actual_climate, \"predicted_climate\": predicted_climate}, ignore_index=True)\n",
            "<ipython-input-11-d6c8080a4bea>:27: FutureWarning: The frame.append method is deprecated and will be removed from pandas in a future version. Use pandas.concat instead.\n",
            "  results = results.append({\"station\": station, \"actual_climate\": actual_climate, \"predicted_climate\": predicted_climate}, ignore_index=True)\n",
            "<ipython-input-11-d6c8080a4bea>:27: FutureWarning: The frame.append method is deprecated and will be removed from pandas in a future version. Use pandas.concat instead.\n",
            "  results = results.append({\"station\": station, \"actual_climate\": actual_climate, \"predicted_climate\": predicted_climate}, ignore_index=True)\n",
            "<ipython-input-11-d6c8080a4bea>:27: FutureWarning: The frame.append method is deprecated and will be removed from pandas in a future version. Use pandas.concat instead.\n",
            "  results = results.append({\"station\": station, \"actual_climate\": actual_climate, \"predicted_climate\": predicted_climate}, ignore_index=True)\n",
            "<ipython-input-11-d6c8080a4bea>:27: FutureWarning: The frame.append method is deprecated and will be removed from pandas in a future version. Use pandas.concat instead.\n",
            "  results = results.append({\"station\": station, \"actual_climate\": actual_climate, \"predicted_climate\": predicted_climate}, ignore_index=True)\n",
            "<ipython-input-11-d6c8080a4bea>:27: FutureWarning: The frame.append method is deprecated and will be removed from pandas in a future version. Use pandas.concat instead.\n",
            "  results = results.append({\"station\": station, \"actual_climate\": actual_climate, \"predicted_climate\": predicted_climate}, ignore_index=True)\n",
            "<ipython-input-11-d6c8080a4bea>:27: FutureWarning: The frame.append method is deprecated and will be removed from pandas in a future version. Use pandas.concat instead.\n",
            "  results = results.append({\"station\": station, \"actual_climate\": actual_climate, \"predicted_climate\": predicted_climate}, ignore_index=True)\n",
            "<ipython-input-11-d6c8080a4bea>:27: FutureWarning: The frame.append method is deprecated and will be removed from pandas in a future version. Use pandas.concat instead.\n",
            "  results = results.append({\"station\": station, \"actual_climate\": actual_climate, \"predicted_climate\": predicted_climate}, ignore_index=True)\n",
            "<ipython-input-11-d6c8080a4bea>:27: FutureWarning: The frame.append method is deprecated and will be removed from pandas in a future version. Use pandas.concat instead.\n",
            "  results = results.append({\"station\": station, \"actual_climate\": actual_climate, \"predicted_climate\": predicted_climate}, ignore_index=True)\n",
            "<ipython-input-11-d6c8080a4bea>:27: FutureWarning: The frame.append method is deprecated and will be removed from pandas in a future version. Use pandas.concat instead.\n",
            "  results = results.append({\"station\": station, \"actual_climate\": actual_climate, \"predicted_climate\": predicted_climate}, ignore_index=True)\n",
            "<ipython-input-11-d6c8080a4bea>:27: FutureWarning: The frame.append method is deprecated and will be removed from pandas in a future version. Use pandas.concat instead.\n",
            "  results = results.append({\"station\": station, \"actual_climate\": actual_climate, \"predicted_climate\": predicted_climate}, ignore_index=True)\n",
            "<ipython-input-11-d6c8080a4bea>:27: FutureWarning: The frame.append method is deprecated and will be removed from pandas in a future version. Use pandas.concat instead.\n",
            "  results = results.append({\"station\": station, \"actual_climate\": actual_climate, \"predicted_climate\": predicted_climate}, ignore_index=True)\n",
            "<ipython-input-11-d6c8080a4bea>:27: FutureWarning: The frame.append method is deprecated and will be removed from pandas in a future version. Use pandas.concat instead.\n",
            "  results = results.append({\"station\": station, \"actual_climate\": actual_climate, \"predicted_climate\": predicted_climate}, ignore_index=True)\n",
            "<ipython-input-11-d6c8080a4bea>:27: FutureWarning: The frame.append method is deprecated and will be removed from pandas in a future version. Use pandas.concat instead.\n",
            "  results = results.append({\"station\": station, \"actual_climate\": actual_climate, \"predicted_climate\": predicted_climate}, ignore_index=True)\n",
            "<ipython-input-11-d6c8080a4bea>:27: FutureWarning: The frame.append method is deprecated and will be removed from pandas in a future version. Use pandas.concat instead.\n",
            "  results = results.append({\"station\": station, \"actual_climate\": actual_climate, \"predicted_climate\": predicted_climate}, ignore_index=True)\n",
            "<ipython-input-11-d6c8080a4bea>:27: FutureWarning: The frame.append method is deprecated and will be removed from pandas in a future version. Use pandas.concat instead.\n",
            "  results = results.append({\"station\": station, \"actual_climate\": actual_climate, \"predicted_climate\": predicted_climate}, ignore_index=True)\n",
            "<ipython-input-11-d6c8080a4bea>:27: FutureWarning: The frame.append method is deprecated and will be removed from pandas in a future version. Use pandas.concat instead.\n",
            "  results = results.append({\"station\": station, \"actual_climate\": actual_climate, \"predicted_climate\": predicted_climate}, ignore_index=True)\n",
            "<ipython-input-11-d6c8080a4bea>:27: FutureWarning: The frame.append method is deprecated and will be removed from pandas in a future version. Use pandas.concat instead.\n",
            "  results = results.append({\"station\": station, \"actual_climate\": actual_climate, \"predicted_climate\": predicted_climate}, ignore_index=True)\n",
            "<ipython-input-11-d6c8080a4bea>:27: FutureWarning: The frame.append method is deprecated and will be removed from pandas in a future version. Use pandas.concat instead.\n",
            "  results = results.append({\"station\": station, \"actual_climate\": actual_climate, \"predicted_climate\": predicted_climate}, ignore_index=True)\n",
            "<ipython-input-11-d6c8080a4bea>:27: FutureWarning: The frame.append method is deprecated and will be removed from pandas in a future version. Use pandas.concat instead.\n",
            "  results = results.append({\"station\": station, \"actual_climate\": actual_climate, \"predicted_climate\": predicted_climate}, ignore_index=True)\n",
            "<ipython-input-11-d6c8080a4bea>:27: FutureWarning: The frame.append method is deprecated and will be removed from pandas in a future version. Use pandas.concat instead.\n",
            "  results = results.append({\"station\": station, \"actual_climate\": actual_climate, \"predicted_climate\": predicted_climate}, ignore_index=True)\n"
          ]
        }
      ]
    },
    {
      "cell_type": "code",
      "source": [
        "results"
      ],
      "metadata": {
        "id": "St0RtxLXg4nf",
        "colab": {
          "base_uri": "https://localhost:8080/",
          "height": 424
        },
        "outputId": "9f32db32-1747-4da7-ff89-408a47c29af4"
      },
      "execution_count": 7,
      "outputs": [
        {
          "output_type": "execute_result",
          "data": {
            "text/plain": [
              "    station actual_climate predicted_climate\n",
              "0     02935            Dsa               Dsa\n",
              "1     01025            Dsa                ET\n",
              "2     D4592            Dsa               Csa\n",
              "3     11035            Csa               Csa\n",
              "4     D2444            Csa               Csa\n",
              "..      ...            ...               ...\n",
              "121   10291            Csa               Csa\n",
              "122   72206            Csa                Aw\n",
              "123   71727            Dsa               Dsa\n",
              "124   D5440            Csa               Csa\n",
              "125   D1197            Csa               Csa\n",
              "\n",
              "[126 rows x 3 columns]"
            ],
            "text/html": [
              "\n",
              "  <div id=\"df-278084d0-663c-4c29-916a-2aa4613fd467\" class=\"colab-df-container\">\n",
              "    <div>\n",
              "<style scoped>\n",
              "    .dataframe tbody tr th:only-of-type {\n",
              "        vertical-align: middle;\n",
              "    }\n",
              "\n",
              "    .dataframe tbody tr th {\n",
              "        vertical-align: top;\n",
              "    }\n",
              "\n",
              "    .dataframe thead th {\n",
              "        text-align: right;\n",
              "    }\n",
              "</style>\n",
              "<table border=\"1\" class=\"dataframe\">\n",
              "  <thead>\n",
              "    <tr style=\"text-align: right;\">\n",
              "      <th></th>\n",
              "      <th>station</th>\n",
              "      <th>actual_climate</th>\n",
              "      <th>predicted_climate</th>\n",
              "    </tr>\n",
              "  </thead>\n",
              "  <tbody>\n",
              "    <tr>\n",
              "      <th>0</th>\n",
              "      <td>02935</td>\n",
              "      <td>Dsa</td>\n",
              "      <td>Dsa</td>\n",
              "    </tr>\n",
              "    <tr>\n",
              "      <th>1</th>\n",
              "      <td>01025</td>\n",
              "      <td>Dsa</td>\n",
              "      <td>ET</td>\n",
              "    </tr>\n",
              "    <tr>\n",
              "      <th>2</th>\n",
              "      <td>D4592</td>\n",
              "      <td>Dsa</td>\n",
              "      <td>Csa</td>\n",
              "    </tr>\n",
              "    <tr>\n",
              "      <th>3</th>\n",
              "      <td>11035</td>\n",
              "      <td>Csa</td>\n",
              "      <td>Csa</td>\n",
              "    </tr>\n",
              "    <tr>\n",
              "      <th>4</th>\n",
              "      <td>D2444</td>\n",
              "      <td>Csa</td>\n",
              "      <td>Csa</td>\n",
              "    </tr>\n",
              "    <tr>\n",
              "      <th>...</th>\n",
              "      <td>...</td>\n",
              "      <td>...</td>\n",
              "      <td>...</td>\n",
              "    </tr>\n",
              "    <tr>\n",
              "      <th>121</th>\n",
              "      <td>10291</td>\n",
              "      <td>Csa</td>\n",
              "      <td>Csa</td>\n",
              "    </tr>\n",
              "    <tr>\n",
              "      <th>122</th>\n",
              "      <td>72206</td>\n",
              "      <td>Csa</td>\n",
              "      <td>Aw</td>\n",
              "    </tr>\n",
              "    <tr>\n",
              "      <th>123</th>\n",
              "      <td>71727</td>\n",
              "      <td>Dsa</td>\n",
              "      <td>Dsa</td>\n",
              "    </tr>\n",
              "    <tr>\n",
              "      <th>124</th>\n",
              "      <td>D5440</td>\n",
              "      <td>Csa</td>\n",
              "      <td>Csa</td>\n",
              "    </tr>\n",
              "    <tr>\n",
              "      <th>125</th>\n",
              "      <td>D1197</td>\n",
              "      <td>Csa</td>\n",
              "      <td>Csa</td>\n",
              "    </tr>\n",
              "  </tbody>\n",
              "</table>\n",
              "<p>126 rows × 3 columns</p>\n",
              "</div>\n",
              "    <div class=\"colab-df-buttons\">\n",
              "\n",
              "  <div class=\"colab-df-container\">\n",
              "    <button class=\"colab-df-convert\" onclick=\"convertToInteractive('df-278084d0-663c-4c29-916a-2aa4613fd467')\"\n",
              "            title=\"Convert this dataframe to an interactive table.\"\n",
              "            style=\"display:none;\">\n",
              "\n",
              "  <svg xmlns=\"http://www.w3.org/2000/svg\" height=\"24px\" viewBox=\"0 -960 960 960\">\n",
              "    <path d=\"M120-120v-720h720v720H120Zm60-500h600v-160H180v160Zm220 220h160v-160H400v160Zm0 220h160v-160H400v160ZM180-400h160v-160H180v160Zm440 0h160v-160H620v160ZM180-180h160v-160H180v160Zm440 0h160v-160H620v160Z\"/>\n",
              "  </svg>\n",
              "    </button>\n",
              "\n",
              "  <style>\n",
              "    .colab-df-container {\n",
              "      display:flex;\n",
              "      gap: 12px;\n",
              "    }\n",
              "\n",
              "    .colab-df-convert {\n",
              "      background-color: #E8F0FE;\n",
              "      border: none;\n",
              "      border-radius: 50%;\n",
              "      cursor: pointer;\n",
              "      display: none;\n",
              "      fill: #1967D2;\n",
              "      height: 32px;\n",
              "      padding: 0 0 0 0;\n",
              "      width: 32px;\n",
              "    }\n",
              "\n",
              "    .colab-df-convert:hover {\n",
              "      background-color: #E2EBFA;\n",
              "      box-shadow: 0px 1px 2px rgba(60, 64, 67, 0.3), 0px 1px 3px 1px rgba(60, 64, 67, 0.15);\n",
              "      fill: #174EA6;\n",
              "    }\n",
              "\n",
              "    .colab-df-buttons div {\n",
              "      margin-bottom: 4px;\n",
              "    }\n",
              "\n",
              "    [theme=dark] .colab-df-convert {\n",
              "      background-color: #3B4455;\n",
              "      fill: #D2E3FC;\n",
              "    }\n",
              "\n",
              "    [theme=dark] .colab-df-convert:hover {\n",
              "      background-color: #434B5C;\n",
              "      box-shadow: 0px 1px 3px 1px rgba(0, 0, 0, 0.15);\n",
              "      filter: drop-shadow(0px 1px 2px rgba(0, 0, 0, 0.3));\n",
              "      fill: #FFFFFF;\n",
              "    }\n",
              "  </style>\n",
              "\n",
              "    <script>\n",
              "      const buttonEl =\n",
              "        document.querySelector('#df-278084d0-663c-4c29-916a-2aa4613fd467 button.colab-df-convert');\n",
              "      buttonEl.style.display =\n",
              "        google.colab.kernel.accessAllowed ? 'block' : 'none';\n",
              "\n",
              "      async function convertToInteractive(key) {\n",
              "        const element = document.querySelector('#df-278084d0-663c-4c29-916a-2aa4613fd467');\n",
              "        const dataTable =\n",
              "          await google.colab.kernel.invokeFunction('convertToInteractive',\n",
              "                                                    [key], {});\n",
              "        if (!dataTable) return;\n",
              "\n",
              "        const docLinkHtml = 'Like what you see? Visit the ' +\n",
              "          '<a target=\"_blank\" href=https://colab.research.google.com/notebooks/data_table.ipynb>data table notebook</a>'\n",
              "          + ' to learn more about interactive tables.';\n",
              "        element.innerHTML = '';\n",
              "        dataTable['output_type'] = 'display_data';\n",
              "        await google.colab.output.renderOutput(dataTable, element);\n",
              "        const docLink = document.createElement('div');\n",
              "        docLink.innerHTML = docLinkHtml;\n",
              "        element.appendChild(docLink);\n",
              "      }\n",
              "    </script>\n",
              "  </div>\n",
              "\n",
              "\n",
              "<div id=\"df-dd5d7067-4be2-4109-88d0-92c04c95f10a\">\n",
              "  <button class=\"colab-df-quickchart\" onclick=\"quickchart('df-dd5d7067-4be2-4109-88d0-92c04c95f10a')\"\n",
              "            title=\"Suggest charts.\"\n",
              "            style=\"display:none;\">\n",
              "\n",
              "<svg xmlns=\"http://www.w3.org/2000/svg\" height=\"24px\"viewBox=\"0 0 24 24\"\n",
              "     width=\"24px\">\n",
              "    <g>\n",
              "        <path d=\"M19 3H5c-1.1 0-2 .9-2 2v14c0 1.1.9 2 2 2h14c1.1 0 2-.9 2-2V5c0-1.1-.9-2-2-2zM9 17H7v-7h2v7zm4 0h-2V7h2v10zm4 0h-2v-4h2v4z\"/>\n",
              "    </g>\n",
              "</svg>\n",
              "  </button>\n",
              "\n",
              "<style>\n",
              "  .colab-df-quickchart {\n",
              "      --bg-color: #E8F0FE;\n",
              "      --fill-color: #1967D2;\n",
              "      --hover-bg-color: #E2EBFA;\n",
              "      --hover-fill-color: #174EA6;\n",
              "      --disabled-fill-color: #AAA;\n",
              "      --disabled-bg-color: #DDD;\n",
              "  }\n",
              "\n",
              "  [theme=dark] .colab-df-quickchart {\n",
              "      --bg-color: #3B4455;\n",
              "      --fill-color: #D2E3FC;\n",
              "      --hover-bg-color: #434B5C;\n",
              "      --hover-fill-color: #FFFFFF;\n",
              "      --disabled-bg-color: #3B4455;\n",
              "      --disabled-fill-color: #666;\n",
              "  }\n",
              "\n",
              "  .colab-df-quickchart {\n",
              "    background-color: var(--bg-color);\n",
              "    border: none;\n",
              "    border-radius: 50%;\n",
              "    cursor: pointer;\n",
              "    display: none;\n",
              "    fill: var(--fill-color);\n",
              "    height: 32px;\n",
              "    padding: 0;\n",
              "    width: 32px;\n",
              "  }\n",
              "\n",
              "  .colab-df-quickchart:hover {\n",
              "    background-color: var(--hover-bg-color);\n",
              "    box-shadow: 0 1px 2px rgba(60, 64, 67, 0.3), 0 1px 3px 1px rgba(60, 64, 67, 0.15);\n",
              "    fill: var(--button-hover-fill-color);\n",
              "  }\n",
              "\n",
              "  .colab-df-quickchart-complete:disabled,\n",
              "  .colab-df-quickchart-complete:disabled:hover {\n",
              "    background-color: var(--disabled-bg-color);\n",
              "    fill: var(--disabled-fill-color);\n",
              "    box-shadow: none;\n",
              "  }\n",
              "\n",
              "  .colab-df-spinner {\n",
              "    border: 2px solid var(--fill-color);\n",
              "    border-color: transparent;\n",
              "    border-bottom-color: var(--fill-color);\n",
              "    animation:\n",
              "      spin 1s steps(1) infinite;\n",
              "  }\n",
              "\n",
              "  @keyframes spin {\n",
              "    0% {\n",
              "      border-color: transparent;\n",
              "      border-bottom-color: var(--fill-color);\n",
              "      border-left-color: var(--fill-color);\n",
              "    }\n",
              "    20% {\n",
              "      border-color: transparent;\n",
              "      border-left-color: var(--fill-color);\n",
              "      border-top-color: var(--fill-color);\n",
              "    }\n",
              "    30% {\n",
              "      border-color: transparent;\n",
              "      border-left-color: var(--fill-color);\n",
              "      border-top-color: var(--fill-color);\n",
              "      border-right-color: var(--fill-color);\n",
              "    }\n",
              "    40% {\n",
              "      border-color: transparent;\n",
              "      border-right-color: var(--fill-color);\n",
              "      border-top-color: var(--fill-color);\n",
              "    }\n",
              "    60% {\n",
              "      border-color: transparent;\n",
              "      border-right-color: var(--fill-color);\n",
              "    }\n",
              "    80% {\n",
              "      border-color: transparent;\n",
              "      border-right-color: var(--fill-color);\n",
              "      border-bottom-color: var(--fill-color);\n",
              "    }\n",
              "    90% {\n",
              "      border-color: transparent;\n",
              "      border-bottom-color: var(--fill-color);\n",
              "    }\n",
              "  }\n",
              "</style>\n",
              "\n",
              "  <script>\n",
              "    async function quickchart(key) {\n",
              "      const quickchartButtonEl =\n",
              "        document.querySelector('#' + key + ' button');\n",
              "      quickchartButtonEl.disabled = true;  // To prevent multiple clicks.\n",
              "      quickchartButtonEl.classList.add('colab-df-spinner');\n",
              "      try {\n",
              "        const charts = await google.colab.kernel.invokeFunction(\n",
              "            'suggestCharts', [key], {});\n",
              "      } catch (error) {\n",
              "        console.error('Error during call to suggestCharts:', error);\n",
              "      }\n",
              "      quickchartButtonEl.classList.remove('colab-df-spinner');\n",
              "      quickchartButtonEl.classList.add('colab-df-quickchart-complete');\n",
              "    }\n",
              "    (() => {\n",
              "      let quickchartButtonEl =\n",
              "        document.querySelector('#df-dd5d7067-4be2-4109-88d0-92c04c95f10a button');\n",
              "      quickchartButtonEl.style.display =\n",
              "        google.colab.kernel.accessAllowed ? 'block' : 'none';\n",
              "    })();\n",
              "  </script>\n",
              "</div>\n",
              "\n",
              "  <div id=\"id_de5f24b7-6aa3-4dae-8903-5b20de4170a1\">\n",
              "    <style>\n",
              "      .colab-df-generate {\n",
              "        background-color: #E8F0FE;\n",
              "        border: none;\n",
              "        border-radius: 50%;\n",
              "        cursor: pointer;\n",
              "        display: none;\n",
              "        fill: #1967D2;\n",
              "        height: 32px;\n",
              "        padding: 0 0 0 0;\n",
              "        width: 32px;\n",
              "      }\n",
              "\n",
              "      .colab-df-generate:hover {\n",
              "        background-color: #E2EBFA;\n",
              "        box-shadow: 0px 1px 2px rgba(60, 64, 67, 0.3), 0px 1px 3px 1px rgba(60, 64, 67, 0.15);\n",
              "        fill: #174EA6;\n",
              "      }\n",
              "\n",
              "      [theme=dark] .colab-df-generate {\n",
              "        background-color: #3B4455;\n",
              "        fill: #D2E3FC;\n",
              "      }\n",
              "\n",
              "      [theme=dark] .colab-df-generate:hover {\n",
              "        background-color: #434B5C;\n",
              "        box-shadow: 0px 1px 3px 1px rgba(0, 0, 0, 0.15);\n",
              "        filter: drop-shadow(0px 1px 2px rgba(0, 0, 0, 0.3));\n",
              "        fill: #FFFFFF;\n",
              "      }\n",
              "    </style>\n",
              "    <button class=\"colab-df-generate\" onclick=\"generateWithVariable('results')\"\n",
              "            title=\"Generate code using this dataframe.\"\n",
              "            style=\"display:none;\">\n",
              "\n",
              "  <svg xmlns=\"http://www.w3.org/2000/svg\" height=\"24px\"viewBox=\"0 0 24 24\"\n",
              "       width=\"24px\">\n",
              "    <path d=\"M7,19H8.4L18.45,9,17,7.55,7,17.6ZM5,21V16.75L18.45,3.32a2,2,0,0,1,2.83,0l1.4,1.43a1.91,1.91,0,0,1,.58,1.4,1.91,1.91,0,0,1-.58,1.4L9.25,21ZM18.45,9,17,7.55Zm-12,3A5.31,5.31,0,0,0,4.9,8.1,5.31,5.31,0,0,0,1,6.5,5.31,5.31,0,0,0,4.9,4.9,5.31,5.31,0,0,0,6.5,1,5.31,5.31,0,0,0,8.1,4.9,5.31,5.31,0,0,0,12,6.5,5.46,5.46,0,0,0,6.5,12Z\"/>\n",
              "  </svg>\n",
              "    </button>\n",
              "    <script>\n",
              "      (() => {\n",
              "      const buttonEl =\n",
              "        document.querySelector('#id_de5f24b7-6aa3-4dae-8903-5b20de4170a1 button.colab-df-generate');\n",
              "      buttonEl.style.display =\n",
              "        google.colab.kernel.accessAllowed ? 'block' : 'none';\n",
              "\n",
              "      buttonEl.onclick = () => {\n",
              "        google.colab.notebook.generateWithVariable('results');\n",
              "      }\n",
              "      })();\n",
              "    </script>\n",
              "  </div>\n",
              "\n",
              "    </div>\n",
              "  </div>\n"
            ]
          },
          "metadata": {},
          "execution_count": 7
        }
      ]
    },
    {
      "cell_type": "code",
      "source": [
        "from sklearn.metrics import precision_score, recall_score, f1_score\n",
        "\n",
        "# Getting true labels and predictions\n",
        "y_true = results[\"actual_climate\"].tolist()\n",
        "y_pred = results[\"predicted_climate\"].tolist()\n",
        "\n",
        "# Calculate metrics\n",
        "precision = precision_score(y_true, y_pred, average='macro')\n",
        "recall = recall_score(y_true, y_pred, average='macro')\n",
        "f1 = f1_score(y_true, y_pred, average='macro')\n",
        "\n",
        "print(f\"Precision: {precision:.4f}\")\n",
        "print(f\"Recall: {recall:.4f}\")\n",
        "print(f\"F1 Score: {f1:.4f}\")"
      ],
      "metadata": {
        "id": "kP5zVp6bg-Td",
        "colab": {
          "base_uri": "https://localhost:8080/"
        },
        "outputId": "3e743834-ca0c-4bbe-a70b-56572daee588"
      },
      "execution_count": 13,
      "outputs": [
        {
          "output_type": "stream",
          "name": "stdout",
          "text": [
            "Precision: 0.3505\n",
            "Recall: 0.3912\n",
            "F1 Score: 0.3431\n"
          ]
        },
        {
          "output_type": "stream",
          "name": "stderr",
          "text": [
            "/usr/local/lib/python3.10/dist-packages/sklearn/metrics/_classification.py:1344: UndefinedMetricWarning: Recall is ill-defined and being set to 0.0 in labels with no true samples. Use `zero_division` parameter to control this behavior.\n",
            "  _warn_prf(average, modifier, msg_start, len(result))\n"
          ]
        }
      ]
    }
  ],
  "metadata": {
    "colab": {
      "provenance": [],
      "machine_shape": "hm",
      "gpuType": "A100"
    },
    "kernelspec": {
      "display_name": "Python 3",
      "name": "python3"
    },
    "language_info": {
      "name": "python"
    },
    "accelerator": "GPU"
  },
  "nbformat": 4,
  "nbformat_minor": 0
}